{
 "cells": [
  {
   "cell_type": "markdown",
   "metadata": {},
   "source": [
    "# Vectorisation"
   ]
  },
  {
   "cell_type": "markdown",
   "metadata": {},
   "source": [
    "One of the promises of JAX is to make vectorisation great again via the use of syntactic sugar decorators that describe what inputs are batched onto what outputs. The goal of this notebook is to show how this can be done in practice as well as how this is translated in terms of low-level code. "
   ]
  },
  {
   "cell_type": "markdown",
   "metadata": {},
   "source": [
    "## JAX imports"
   ]
  },
  {
   "cell_type": "markdown",
   "metadata": {},
   "source": [
    "## Beginner\n",
    "### Prerequisites\n",
    "NumPy - (some exposure to Numba is helpful)"
   ]
  },
  {
   "cell_type": "markdown",
   "metadata": {},
   "source": [
    "### Imports"
   ]
  },
  {
   "cell_type": "code",
   "metadata": {
    "ExecuteTime": {
     "end_time": "2024-11-27T18:53:58.977710Z",
     "start_time": "2024-11-27T18:53:58.803245Z"
    }
   },
   "source": [
    "import inspect\n",
    "\n",
    "from jax import vmap, make_jaxpr\n",
    "import jax.numpy as jnp\n",
    "\n",
    "import numpy as np"
   ],
   "outputs": [],
   "execution_count": 1
  },
  {
   "cell_type": "markdown",
   "metadata": {},
   "source": [
    "### Example"
   ]
  },
  {
   "cell_type": "markdown",
   "metadata": {},
   "source": [
    "To compare the vectorisation implementation of JAX to the NumPy one, let's take the following example:"
   ]
  },
  {
   "cell_type": "code",
   "metadata": {
    "ExecuteTime": {
     "end_time": "2024-11-27T18:53:58.983203Z",
     "start_time": "2024-11-27T18:53:58.981348Z"
    }
   },
   "source": [
    "def indexing_function(x, y):\n",
    "    # Here x is a vector of floats, and y is a vector of ints\n",
    "    return x[y]"
   ],
   "outputs": [],
   "execution_count": 2
  },
  {
   "cell_type": "markdown",
   "metadata": {},
   "source": [
    "We will use the following array for our tests:"
   ]
  },
  {
   "cell_type": "code",
   "metadata": {
    "ExecuteTime": {
     "end_time": "2024-11-27T18:53:59.034963Z",
     "start_time": "2024-11-27T18:53:59.033383Z"
    }
   },
   "source": [
    "N = 10"
   ],
   "outputs": [],
   "execution_count": 3
  },
  {
   "cell_type": "code",
   "metadata": {
    "ExecuteTime": {
     "end_time": "2024-11-27T18:53:59.098519Z",
     "start_time": "2024-11-27T18:53:59.084172Z"
    }
   },
   "source": [
    "indexing_function(np.random.randn(N), np.random.randint(N))"
   ],
   "outputs": [
    {
     "data": {
      "text/plain": [
       "np.float64(0.2560215528252095)"
      ]
     },
     "execution_count": 4,
     "metadata": {},
     "output_type": "execute_result"
    }
   ],
   "execution_count": 4
  },
  {
   "cell_type": "markdown",
   "metadata": {},
   "source": [
    "How does it react to batched inputs?"
   ]
  },
  {
   "cell_type": "code",
   "metadata": {
    "ExecuteTime": {
     "end_time": "2024-11-27T18:53:59.160434Z",
     "start_time": "2024-11-27T18:53:59.158249Z"
    }
   },
   "source": [
    "B = 3"
   ],
   "outputs": [],
   "execution_count": 5
  },
  {
   "cell_type": "code",
   "metadata": {
    "ExecuteTime": {
     "end_time": "2024-11-27T18:53:59.345526Z",
     "start_time": "2024-11-27T18:53:59.212840Z"
    }
   },
   "source": [
    "indexing_function(np.random.randn(B, N), np.random.randint(N, size=B))"
   ],
   "outputs": [
    {
     "ename": "IndexError",
     "evalue": "index 3 is out of bounds for axis 0 with size 3",
     "output_type": "error",
     "traceback": [
      "\u001B[0;31m---------------------------------------------------------------------------\u001B[0m",
      "\u001B[0;31mIndexError\u001B[0m                                Traceback (most recent call last)",
      "Cell \u001B[0;32mIn[6], line 1\u001B[0m\n\u001B[0;32m----> 1\u001B[0m \u001B[43mindexing_function\u001B[49m\u001B[43m(\u001B[49m\u001B[43mnp\u001B[49m\u001B[38;5;241;43m.\u001B[39;49m\u001B[43mrandom\u001B[49m\u001B[38;5;241;43m.\u001B[39;49m\u001B[43mrandn\u001B[49m\u001B[43m(\u001B[49m\u001B[43mB\u001B[49m\u001B[43m,\u001B[49m\u001B[43m \u001B[49m\u001B[43mN\u001B[49m\u001B[43m)\u001B[49m\u001B[43m,\u001B[49m\u001B[43m \u001B[49m\u001B[43mnp\u001B[49m\u001B[38;5;241;43m.\u001B[39;49m\u001B[43mrandom\u001B[49m\u001B[38;5;241;43m.\u001B[39;49m\u001B[43mrandint\u001B[49m\u001B[43m(\u001B[49m\u001B[43mN\u001B[49m\u001B[43m,\u001B[49m\u001B[43m \u001B[49m\u001B[43msize\u001B[49m\u001B[38;5;241;43m=\u001B[39;49m\u001B[43mB\u001B[49m\u001B[43m)\u001B[49m\u001B[43m)\u001B[49m\n",
      "Cell \u001B[0;32mIn[2], line 3\u001B[0m, in \u001B[0;36mindexing_function\u001B[0;34m(x, y)\u001B[0m\n\u001B[1;32m      1\u001B[0m \u001B[38;5;28;01mdef\u001B[39;00m \u001B[38;5;21mindexing_function\u001B[39m(x, y):\n\u001B[1;32m      2\u001B[0m     \u001B[38;5;66;03m# Here x is a vector of floats, and y is a vector of ints\u001B[39;00m\n\u001B[0;32m----> 3\u001B[0m     \u001B[38;5;28;01mreturn\u001B[39;00m \u001B[43mx\u001B[49m\u001B[43m[\u001B[49m\u001B[43my\u001B[49m\u001B[43m]\u001B[49m\n",
      "\u001B[0;31mIndexError\u001B[0m: index 3 is out of bounds for axis 0 with size 3"
     ]
    }
   ],
   "execution_count": 6
  },
  {
   "cell_type": "code",
   "execution_count": 61,
   "metadata": {},
   "outputs": [
    {
     "ename": "IndexError",
     "evalue": "index 7 is out of bounds for axis 0 with size 3",
     "output_type": "error",
     "traceback": [
      "\u001B[0;31m---------------------------------------------------------------------------\u001B[0m",
      "\u001B[0;31mIndexError\u001B[0m                                Traceback (most recent call last)",
      "\u001B[0;32m<ipython-input-61-590ff6281a74>\u001B[0m in \u001B[0;36m<module>\u001B[0;34m\u001B[0m\n\u001B[0;32m----> 1\u001B[0;31m \u001B[0mindexing_function\u001B[0m\u001B[0;34m(\u001B[0m\u001B[0mnp\u001B[0m\u001B[0;34m.\u001B[0m\u001B[0mrandom\u001B[0m\u001B[0;34m.\u001B[0m\u001B[0mrandn\u001B[0m\u001B[0;34m(\u001B[0m\u001B[0mB\u001B[0m\u001B[0;34m,\u001B[0m \u001B[0mN\u001B[0m\u001B[0;34m)\u001B[0m\u001B[0;34m,\u001B[0m \u001B[0mnp\u001B[0m\u001B[0;34m.\u001B[0m\u001B[0mrandom\u001B[0m\u001B[0;34m.\u001B[0m\u001B[0mrandint\u001B[0m\u001B[0;34m(\u001B[0m\u001B[0mN\u001B[0m\u001B[0;34m)\u001B[0m\u001B[0;34m)\u001B[0m\u001B[0;34m\u001B[0m\u001B[0;34m\u001B[0m\u001B[0m\n\u001B[0m",
      "\u001B[0;32m<ipython-input-4-6ae96261c628>\u001B[0m in \u001B[0;36mindexing_function\u001B[0;34m(x, y)\u001B[0m\n\u001B[1;32m      1\u001B[0m \u001B[0;32mdef\u001B[0m \u001B[0mindexing_function\u001B[0m\u001B[0;34m(\u001B[0m\u001B[0mx\u001B[0m\u001B[0;34m,\u001B[0m \u001B[0my\u001B[0m\u001B[0;34m)\u001B[0m\u001B[0;34m:\u001B[0m\u001B[0;34m\u001B[0m\u001B[0;34m\u001B[0m\u001B[0m\n\u001B[1;32m      2\u001B[0m     \u001B[0;31m# Here x is a vector of floats, and y is a vector of ints\u001B[0m\u001B[0;34m\u001B[0m\u001B[0;34m\u001B[0m\u001B[0;34m\u001B[0m\u001B[0m\n\u001B[0;32m----> 3\u001B[0;31m     \u001B[0;32mreturn\u001B[0m \u001B[0mx\u001B[0m\u001B[0;34m[\u001B[0m\u001B[0my\u001B[0m\u001B[0;34m]\u001B[0m\u001B[0;34m\u001B[0m\u001B[0;34m\u001B[0m\u001B[0m\n\u001B[0m",
      "\u001B[0;31mIndexError\u001B[0m: index 7 is out of bounds for axis 0 with size 3"
     ]
    }
   ],
   "source": [
    "indexing_function(np.random.randn(B, N), np.random.randint(N))"
   ]
  },
  {
   "cell_type": "markdown",
   "metadata": {},
   "source": [
    "OK so we need to modify it."
   ]
  },
  {
   "cell_type": "code",
   "metadata": {
    "ExecuteTime": {
     "end_time": "2024-11-27T18:55:16.091797Z",
     "start_time": "2024-11-27T18:55:16.089439Z"
    }
   },
   "source": [
    "def complicated_indexing_function(x, y):\n",
    "    # Here x is a vector of floats, and y is a vector of ints\n",
    "    return x[..., y]"
   ],
   "outputs": [],
   "execution_count": 7
  },
  {
   "cell_type": "code",
   "metadata": {
    "ExecuteTime": {
     "end_time": "2024-11-27T18:55:16.666920Z",
     "start_time": "2024-11-27T18:55:16.663874Z"
    }
   },
   "source": [
    "complicated_indexing_function(np.random.randn(B, N), np.random.randint(N))"
   ],
   "outputs": [
    {
     "data": {
      "text/plain": [
       "array([-0.43011107,  0.41777996, -0.32865715])"
      ]
     },
     "execution_count": 8,
     "metadata": {},
     "output_type": "execute_result"
    }
   ],
   "execution_count": 8
  },
  {
   "cell_type": "code",
   "metadata": {
    "ExecuteTime": {
     "end_time": "2024-11-27T18:55:17.117809Z",
     "start_time": "2024-11-27T18:55:17.112622Z"
    }
   },
   "source": [
    "complicated_indexing_function(np.random.randn(B, N), np.random.randint(N, size=B))"
   ],
   "outputs": [
    {
     "data": {
      "text/plain": [
       "array([[-3.22292978, -1.91993084,  1.95687834],\n",
       "       [ 0.28281618,  0.83102655, -1.19574312],\n",
       "       [-1.52193677, -0.5091446 ,  0.84174498]])"
      ]
     },
     "execution_count": 9,
     "metadata": {},
     "output_type": "execute_result"
    }
   ],
   "execution_count": 9
  },
  {
   "cell_type": "markdown",
   "metadata": {},
   "source": [
    "Really not what we want!"
   ]
  },
  {
   "cell_type": "markdown",
   "metadata": {},
   "source": [
    "### NumPy-style vectorisation"
   ]
  },
  {
   "cell_type": "markdown",
   "metadata": {},
   "source": [
    "Instead of trying to be smart, let's use NumPy:"
   ]
  },
  {
   "cell_type": "code",
   "metadata": {
    "ExecuteTime": {
     "end_time": "2024-11-27T18:55:18.862442Z",
     "start_time": "2024-11-27T18:55:18.858128Z"
    }
   },
   "source": [
    "np_vectorised_indexing_function = np.vectorize(\n",
    "    indexing_function, signature=\"(n),()->()\"\n",
    ")"
   ],
   "outputs": [],
   "execution_count": 10
  },
  {
   "cell_type": "code",
   "metadata": {
    "ExecuteTime": {
     "end_time": "2024-11-27T18:55:19.423225Z",
     "start_time": "2024-11-27T18:55:19.419336Z"
    }
   },
   "source": [
    "np_vectorised_indexing_function(np.random.randn(B, N), np.random.randint(N))"
   ],
   "outputs": [
    {
     "data": {
      "text/plain": [
       "array([-0.17239075, -1.62978962, -3.1590108 ])"
      ]
     },
     "execution_count": 11,
     "metadata": {},
     "output_type": "execute_result"
    }
   ],
   "execution_count": 11
  },
  {
   "cell_type": "markdown",
   "metadata": {},
   "source": [
    "And the JAX vectorisation:"
   ]
  },
  {
   "cell_type": "code",
   "metadata": {
    "ExecuteTime": {
     "end_time": "2024-11-27T18:55:20.483720Z",
     "start_time": "2024-11-27T18:55:20.477561Z"
    }
   },
   "source": [
    "jax_vectorised_indexing_function = jnp.vectorize(\n",
    "    indexing_function, signature=\"(n),()->()\"\n",
    ")"
   ],
   "outputs": [],
   "execution_count": 12
  },
  {
   "cell_type": "code",
   "metadata": {
    "ExecuteTime": {
     "end_time": "2024-11-27T18:55:20.864490Z",
     "start_time": "2024-11-27T18:55:20.762033Z"
    }
   },
   "source": [
    "jax_vectorised_indexing_function(np.random.randn(B, N), np.random.randint(N))"
   ],
   "outputs": [
    {
     "name": "stderr",
     "output_type": "stream",
     "text": [
      "An NVIDIA GPU may be present on this machine, but a CUDA-enabled jaxlib is not installed. Falling back to cpu.\n"
     ]
    },
    {
     "data": {
      "text/plain": [
       "Array([0.7224782, 0.1067703, 1.4844942], dtype=float32)"
      ]
     },
     "execution_count": 13,
     "metadata": {},
     "output_type": "execute_result"
    }
   ],
   "execution_count": 13
  },
  {
   "cell_type": "markdown",
   "metadata": {},
   "source": [
    "So what is the difference?"
   ]
  },
  {
   "cell_type": "code",
   "metadata": {
    "ExecuteTime": {
     "end_time": "2024-11-27T18:55:21.590512Z",
     "start_time": "2024-11-27T18:55:21.585870Z"
    }
   },
   "source": [
    "batch_input = np.random.randn(10000, N)\n",
    "batch_index = np.random.randint(N, size=10000)"
   ],
   "outputs": [],
   "execution_count": 14
  },
  {
   "cell_type": "code",
   "metadata": {
    "ExecuteTime": {
     "end_time": "2024-11-27T18:55:28.784639Z",
     "start_time": "2024-11-27T18:55:22.214418Z"
    }
   },
   "source": [
    "%timeit np_vectorised_indexing_function(batch_input, batch_index)"
   ],
   "outputs": [
    {
     "name": "stdout",
     "output_type": "stream",
     "text": [
      "8.03 ms ± 17.6 μs per loop (mean ± std. dev. of 7 runs, 100 loops each)\n"
     ]
    }
   ],
   "execution_count": 15
  },
  {
   "cell_type": "code",
   "metadata": {
    "ExecuteTime": {
     "end_time": "2024-11-27T18:55:28.889285Z",
     "start_time": "2024-11-27T18:55:28.886811Z"
    }
   },
   "source": [
    "jax_batch_input = jnp.asarray(batch_input)\n",
    "jax_batch_index = jnp.asarray(batch_index)"
   ],
   "outputs": [],
   "execution_count": 16
  },
  {
   "cell_type": "code",
   "metadata": {
    "ExecuteTime": {
     "end_time": "2024-11-27T18:55:37.523658Z",
     "start_time": "2024-11-27T18:55:28.964180Z"
    }
   },
   "source": [
    "%timeit jax_vectorised_indexing_function(jax_batch_input, jax_batch_index).block_until_ready()"
   ],
   "outputs": [
    {
     "name": "stdout",
     "output_type": "stream",
     "text": [
      "1.05 ms ± 8.27 μs per loop (mean ± std. dev. of 7 runs, 1,000 loops each)\n"
     ]
    }
   ],
   "execution_count": 17
  },
  {
   "cell_type": "markdown",
   "metadata": {},
   "source": [
    "Why is it faster? Because it's multi-threaded in the background!"
   ]
  },
  {
   "cell_type": "markdown",
   "metadata": {},
   "source": [
    "### Vectorised map"
   ]
  },
  {
   "cell_type": "markdown",
   "metadata": {},
   "source": [
    "On the other hand one can pick vmap: `jnp.vectorize` is a wrapper around the vmap functionality, this is useful in the case when the batching dimension is not the first one for example."
   ]
  },
  {
   "cell_type": "code",
   "metadata": {
    "ExecuteTime": {
     "end_time": "2024-11-27T18:55:40.811342Z",
     "start_time": "2024-11-27T18:55:40.808633Z"
    }
   },
   "source": [
    "vmapped_indexing = vmap(indexing_function, in_axes=(1, 0))\n",
    "# here we are saying that the input will be batched along\n",
    "# the second dimension for the input, and the first for the index, this helps with not having to do shape arithmetics."
   ],
   "outputs": [],
   "execution_count": 20
  },
  {
   "cell_type": "code",
   "metadata": {
    "ExecuteTime": {
     "end_time": "2024-11-27T18:55:41.447148Z",
     "start_time": "2024-11-27T18:55:41.442386Z"
    }
   },
   "source": [
    "vmapped_indexing(np.random.randn(N, 3), np.random.randint(N, size=3))"
   ],
   "outputs": [
    {
     "data": {
      "text/plain": [
       "Array([0.06808577, 1.1108743 , 0.9083771 ], dtype=float32)"
      ]
     },
     "execution_count": 21,
     "metadata": {},
     "output_type": "execute_result"
    }
   ],
   "execution_count": 21
  },
  {
   "cell_type": "markdown",
   "metadata": {},
   "source": [
    "### Questions:"
   ]
  },
  {
   "cell_type": "markdown",
   "metadata": {},
   "source": [
    "#### Q1: \n",
    "Reimplement this manually vectorised function using `vmap`, and compare the generated code using `make_jaxpr`"
   ]
  },
  {
   "cell_type": "code",
   "metadata": {
    "ExecuteTime": {
     "end_time": "2024-11-27T18:55:42.756257Z",
     "start_time": "2024-11-27T18:55:42.752966Z"
    }
   },
   "source": [
    "def just_a_function(x, y):\n",
    "    a = x[..., 0] * y[..., 1]\n",
    "    b = x[..., 1] * y[..., 0]\n",
    "    return a + b"
   ],
   "outputs": [],
   "execution_count": 22
  },
  {
   "cell_type": "code",
   "metadata": {
    "ExecuteTime": {
     "end_time": "2024-11-27T18:55:43.479759Z",
     "start_time": "2024-11-27T18:55:43.476815Z"
    }
   },
   "source": [
    "just_a_function(np.random.randn(4, 3, 2), np.random.randn(4, 3, 2))"
   ],
   "outputs": [
    {
     "data": {
      "text/plain": [
       "array([[ 0.15026824,  0.49542497,  0.8915288 ],\n",
       "       [-0.24754084,  1.00554295,  1.13674269],\n",
       "       [ 2.60848693,  0.1825349 , -1.07862578],\n",
       "       [ 0.34280008, -2.13798014,  1.12652741]])"
      ]
     },
     "execution_count": 23,
     "metadata": {},
     "output_type": "execute_result"
    }
   ],
   "execution_count": 23
  },
  {
   "cell_type": "markdown",
   "metadata": {},
   "source": [
    "#### Q2:\n",
    "Using `jnp.vectorize`, vectorise the following function with respect to the matrix `a`:\n",
    "```python\n",
    "def solve(a, b):\n",
    "    return jnp.solve(a, b)\n",
    "```"
   ]
  },
  {
   "cell_type": "markdown",
   "metadata": {},
   "source": [
    "## Intermediate / Advanced\n",
    "### Prerequisites\n",
    "- Beginner vectorisation\n",
    "- Beginner automatic differentiation\n",
    "- Beginner loops (Advanced)"
   ]
  },
  {
   "cell_type": "markdown",
   "metadata": {},
   "source": [
    "Now that we know how to vectorise, let's give an example where it's not only just a convenient wrapper but also a useful computational tool: we will see how to vectorise the JVP call we learned about in the automatic differentiation notebook."
   ]
  },
  {
   "cell_type": "markdown",
   "metadata": {},
   "source": [
    "### Imports"
   ]
  },
  {
   "cell_type": "code",
   "metadata": {
    "ExecuteTime": {
     "end_time": "2024-11-27T18:55:47.396229Z",
     "start_time": "2024-11-27T18:55:47.386955Z"
    }
   },
   "source": [
    "from functools import partial\n",
    "\n",
    "from jax import make_jaxpr, jvp, vmap\n",
    "import jax.numpy as jnp\n",
    "from jax.random import normal, PRNGKey\n",
    "\n",
    "import numpy as np"
   ],
   "outputs": [],
   "execution_count": 24
  },
  {
   "cell_type": "markdown",
   "metadata": {},
   "source": [
    "### Example"
   ]
  },
  {
   "cell_type": "markdown",
   "metadata": {},
   "source": [
    "Let's take a simple example:"
   ]
  },
  {
   "cell_type": "code",
   "metadata": {
    "ExecuteTime": {
     "end_time": "2024-11-27T18:55:48.849702Z",
     "start_time": "2024-11-27T18:55:48.847769Z"
    }
   },
   "source": [
    "def fun(x):\n",
    "    return jnp.sin(jnp.sum(x))"
   ],
   "outputs": [],
   "execution_count": 25
  },
  {
   "cell_type": "markdown",
   "metadata": {},
   "source": [
    "Say we want to compute its JVP against a number of random vectors:"
   ]
  },
  {
   "cell_type": "code",
   "metadata": {
    "ExecuteTime": {
     "end_time": "2024-11-27T18:55:49.713893Z",
     "start_time": "2024-11-27T18:55:49.707228Z"
    }
   },
   "source": [
    "def jvp_fun(x, key, d=100):\n",
    "    n = x.shape[0]\n",
    "    vectors = normal(key, shape=(n, d))\n",
    "    return jvp(fun, (x,), (vectors,))"
   ],
   "outputs": [],
   "execution_count": 26
  },
  {
   "cell_type": "code",
   "metadata": {
    "collapsed": true,
    "jupyter": {
     "outputs_hidden": true
    },
    "ExecuteTime": {
     "end_time": "2024-11-27T18:55:50.416026Z",
     "start_time": "2024-11-27T18:55:50.195614Z"
    }
   },
   "source": [
    "jvp_fun(jnp.array([0.0, 1.0]), PRNGKey(42))"
   ],
   "outputs": [
    {
     "ename": "ValueError",
     "evalue": "jvp called with different primal and tangent shapes;Got primal shape (2,) and tangent shape as (2, 100)",
     "output_type": "error",
     "traceback": [
      "\u001B[0;31m---------------------------------------------------------------------------\u001B[0m",
      "\u001B[0;31mValueError\u001B[0m                                Traceback (most recent call last)",
      "Cell \u001B[0;32mIn[27], line 1\u001B[0m\n\u001B[0;32m----> 1\u001B[0m \u001B[43mjvp_fun\u001B[49m\u001B[43m(\u001B[49m\u001B[43mjnp\u001B[49m\u001B[38;5;241;43m.\u001B[39;49m\u001B[43marray\u001B[49m\u001B[43m(\u001B[49m\u001B[43m[\u001B[49m\u001B[38;5;241;43m0.0\u001B[39;49m\u001B[43m,\u001B[49m\u001B[43m \u001B[49m\u001B[38;5;241;43m1.0\u001B[39;49m\u001B[43m]\u001B[49m\u001B[43m)\u001B[49m\u001B[43m,\u001B[49m\u001B[43m \u001B[49m\u001B[43mPRNGKey\u001B[49m\u001B[43m(\u001B[49m\u001B[38;5;241;43m42\u001B[39;49m\u001B[43m)\u001B[49m\u001B[43m)\u001B[49m\n",
      "Cell \u001B[0;32mIn[26], line 4\u001B[0m, in \u001B[0;36mjvp_fun\u001B[0;34m(x, key, d)\u001B[0m\n\u001B[1;32m      2\u001B[0m n \u001B[38;5;241m=\u001B[39m x\u001B[38;5;241m.\u001B[39mshape[\u001B[38;5;241m0\u001B[39m]\n\u001B[1;32m      3\u001B[0m vectors \u001B[38;5;241m=\u001B[39m normal(key, shape\u001B[38;5;241m=\u001B[39m(n, d))\n\u001B[0;32m----> 4\u001B[0m \u001B[38;5;28;01mreturn\u001B[39;00m \u001B[43mjvp\u001B[49m\u001B[43m(\u001B[49m\u001B[43mfun\u001B[49m\u001B[43m,\u001B[49m\u001B[43m \u001B[49m\u001B[43m(\u001B[49m\u001B[43mx\u001B[49m\u001B[43m,\u001B[49m\u001B[43m)\u001B[49m\u001B[43m,\u001B[49m\u001B[43m \u001B[49m\u001B[43m(\u001B[49m\u001B[43mvectors\u001B[49m\u001B[43m,\u001B[49m\u001B[43m)\u001B[49m\u001B[43m)\u001B[49m\n",
      "File \u001B[0;32m~/PycharmProjects/.virtualenvs/jax-workshop/lib/python3.12/site-packages/jax/_src/api.py:1687\u001B[0m, in \u001B[0;36mjvp\u001B[0;34m(fun, primals, tangents, has_aux)\u001B[0m\n\u001B[1;32m   1649\u001B[0m \u001B[38;5;250m\u001B[39m\u001B[38;5;124;03m\"\"\"Computes a (forward-mode) Jacobian-vector product of ``fun``.\u001B[39;00m\n\u001B[1;32m   1650\u001B[0m \n\u001B[1;32m   1651\u001B[0m \u001B[38;5;124;03mArgs:\u001B[39;00m\n\u001B[0;32m   (...)\u001B[0m\n\u001B[1;32m   1684\u001B[0m \u001B[38;5;124;03m0.19900084\u001B[39;00m\n\u001B[1;32m   1685\u001B[0m \u001B[38;5;124;03m\"\"\"\u001B[39;00m\n\u001B[1;32m   1686\u001B[0m check_callable(fun)\n\u001B[0;32m-> 1687\u001B[0m \u001B[38;5;28;01mreturn\u001B[39;00m \u001B[43m_jvp\u001B[49m\u001B[43m(\u001B[49m\u001B[43mlu\u001B[49m\u001B[38;5;241;43m.\u001B[39;49m\u001B[43mwrap_init\u001B[49m\u001B[43m(\u001B[49m\u001B[43mfun\u001B[49m\u001B[43m)\u001B[49m\u001B[43m,\u001B[49m\u001B[43m \u001B[49m\u001B[43mprimals\u001B[49m\u001B[43m,\u001B[49m\u001B[43m \u001B[49m\u001B[43mtangents\u001B[49m\u001B[43m,\u001B[49m\u001B[43m \u001B[49m\u001B[43mhas_aux\u001B[49m\u001B[38;5;241;43m=\u001B[39;49m\u001B[43mhas_aux\u001B[49m\u001B[43m)\u001B[49m\n",
      "File \u001B[0;32m~/PycharmProjects/.virtualenvs/jax-workshop/lib/python3.12/site-packages/jax/_src/api.py:1711\u001B[0m, in \u001B[0;36m_jvp\u001B[0;34m(fun, primals, tangents, has_aux)\u001B[0m\n\u001B[1;32m   1704\u001B[0m     \u001B[38;5;28;01mraise\u001B[39;00m \u001B[38;5;167;01mTypeError\u001B[39;00m(\u001B[38;5;124m\"\u001B[39m\u001B[38;5;124mprimal and tangent arguments to jax.jvp do not match; \u001B[39m\u001B[38;5;124m\"\u001B[39m\n\u001B[1;32m   1705\u001B[0m                     \u001B[38;5;124m\"\u001B[39m\u001B[38;5;124mdtypes must be equal, or in case of int/bool primal dtype \u001B[39m\u001B[38;5;124m\"\u001B[39m\n\u001B[1;32m   1706\u001B[0m                     \u001B[38;5;124m\"\u001B[39m\u001B[38;5;124mthe tangent dtype must be float0.\u001B[39m\u001B[38;5;124m\"\u001B[39m\n\u001B[1;32m   1707\u001B[0m                     \u001B[38;5;124mf\u001B[39m\u001B[38;5;124m\"\u001B[39m\u001B[38;5;124mGot primal dtype \u001B[39m\u001B[38;5;132;01m{\u001B[39;00m_dtype(p)\u001B[38;5;132;01m}\u001B[39;00m\u001B[38;5;124m and so expected tangent dtype \u001B[39m\u001B[38;5;124m\"\u001B[39m\n\u001B[1;32m   1708\u001B[0m                     \u001B[38;5;124mf\u001B[39m\u001B[38;5;124m\"\u001B[39m\u001B[38;5;132;01m{\u001B[39;00mcore\u001B[38;5;241m.\u001B[39mprimal_dtype_to_tangent_dtype(_dtype(p))\u001B[38;5;132;01m}\u001B[39;00m\u001B[38;5;124m, but got \u001B[39m\u001B[38;5;124m\"\u001B[39m\n\u001B[1;32m   1709\u001B[0m                     \u001B[38;5;124mf\u001B[39m\u001B[38;5;124m\"\u001B[39m\u001B[38;5;124mtangent dtype \u001B[39m\u001B[38;5;132;01m{\u001B[39;00m_dtype(t)\u001B[38;5;132;01m}\u001B[39;00m\u001B[38;5;124m instead.\u001B[39m\u001B[38;5;124m\"\u001B[39m)\n\u001B[1;32m   1710\u001B[0m   \u001B[38;5;28;01mif\u001B[39;00m np\u001B[38;5;241m.\u001B[39mshape(p) \u001B[38;5;241m!=\u001B[39m np\u001B[38;5;241m.\u001B[39mshape(t):\n\u001B[0;32m-> 1711\u001B[0m     \u001B[38;5;28;01mraise\u001B[39;00m \u001B[38;5;167;01mValueError\u001B[39;00m(\u001B[38;5;124m\"\u001B[39m\u001B[38;5;124mjvp called with different primal and tangent shapes;\u001B[39m\u001B[38;5;124m\"\u001B[39m\n\u001B[1;32m   1712\u001B[0m                      \u001B[38;5;124mf\u001B[39m\u001B[38;5;124m\"\u001B[39m\u001B[38;5;124mGot primal shape \u001B[39m\u001B[38;5;132;01m{\u001B[39;00mnp\u001B[38;5;241m.\u001B[39mshape(p)\u001B[38;5;132;01m}\u001B[39;00m\u001B[38;5;124m and tangent shape as \u001B[39m\u001B[38;5;132;01m{\u001B[39;00mnp\u001B[38;5;241m.\u001B[39mshape(t)\u001B[38;5;132;01m}\u001B[39;00m\u001B[38;5;124m\"\u001B[39m)\n\u001B[1;32m   1714\u001B[0m \u001B[38;5;28;01mif\u001B[39;00m \u001B[38;5;129;01mnot\u001B[39;00m has_aux:\n\u001B[1;32m   1715\u001B[0m   flat_fun, out_tree \u001B[38;5;241m=\u001B[39m flatten_fun_nokwargs(fun, tree_def)\n",
      "\u001B[0;31mValueError\u001B[0m: jvp called with different primal and tangent shapes;Got primal shape (2,) and tangent shape as (2, 100)"
     ]
    }
   ],
   "execution_count": 27
  },
  {
   "cell_type": "markdown",
   "metadata": {},
   "source": [
    "It doesn't work out of the box it seems... Let's try and obey the syntax of JVP:"
   ]
  },
  {
   "cell_type": "code",
   "metadata": {
    "ExecuteTime": {
     "end_time": "2024-11-27T18:55:52.205411Z",
     "start_time": "2024-11-27T18:55:52.200119Z"
    }
   },
   "source": [
    "def jvp_fun(x, key, d=20):\n",
    "    n = x.shape[0]\n",
    "    vectors = normal(key, shape=(n, d))\n",
    "    return jvp(fun, (jnp.repeat(x.reshape(-1, 1), d, 1),), (vectors,))[1]"
   ],
   "outputs": [],
   "execution_count": 28
  },
  {
   "cell_type": "code",
   "metadata": {
    "ExecuteTime": {
     "end_time": "2024-11-27T18:55:52.936382Z",
     "start_time": "2024-11-27T18:55:52.804337Z"
    }
   },
   "source": [
    "jvp_fun(jnp.array([0.0, 1.0]), PRNGKey(42))"
   ],
   "outputs": [
    {
     "data": {
      "text/plain": [
       "Array(4.1461916, dtype=float32)"
      ]
     },
     "execution_count": 29,
     "metadata": {},
     "output_type": "execute_result"
    }
   ],
   "execution_count": 29
  },
  {
   "cell_type": "markdown",
   "metadata": {},
   "source": [
    "OK it's working so what's the problem here? `fun` is being relinearised at the same point $d$ times for no reason!"
   ]
  },
  {
   "cell_type": "markdown",
   "metadata": {},
   "source": [
    "You can execute the line below to see this"
   ]
  },
  {
   "cell_type": "code",
   "metadata": {
    "ExecuteTime": {
     "end_time": "2024-11-27T18:55:54.200300Z",
     "start_time": "2024-11-27T18:55:54.198417Z"
    }
   },
   "source": [
    "# make_jaxpr(jvp_fun)(jnp.array([0., 1.]), PRNGKey(42))"
   ],
   "outputs": [],
   "execution_count": 30
  },
  {
   "cell_type": "markdown",
   "metadata": {},
   "source": [
    "We can actually solve this problem by using `vmap`:"
   ]
  },
  {
   "cell_type": "code",
   "metadata": {
    "ExecuteTime": {
     "end_time": "2024-11-27T18:55:55.336996Z",
     "start_time": "2024-11-27T18:55:55.324524Z"
    }
   },
   "source": [
    "def vmap_jvp_fun(x, key, d=20):\n",
    "    n = x.shape[0]\n",
    "    vectors = normal(key, shape=(n, d))\n",
    "    local_fun = lambda vec: jvp(fun, (x,), (vec,))[1]\n",
    "    return vmap(local_fun, in_axes=(1,))(vectors)"
   ],
   "outputs": [],
   "execution_count": 31
  },
  {
   "cell_type": "code",
   "metadata": {
    "ExecuteTime": {
     "end_time": "2024-11-27T18:55:56.085585Z",
     "start_time": "2024-11-27T18:55:56.043977Z"
    }
   },
   "source": [
    "vmap_jvp_fun(jnp.array([0.0, 1.0]), PRNGKey(42))"
   ],
   "outputs": [
    {
     "data": {
      "text/plain": [
       "Array([ 0.67665976,  0.29954007, -1.0683215 , -0.22646905,  0.98523813,\n",
       "        1.1727225 ,  0.40628698,  0.43852165,  0.5092319 , -0.10380521,\n",
       "        1.348889  , -0.7610773 ,  0.14572972,  0.07581756,  0.70275015,\n",
       "        1.2393789 , -0.09658202, -1.0514277 ,  0.57944995,  0.21703981],      dtype=float32)"
      ]
     },
     "execution_count": 32,
     "metadata": {},
     "output_type": "execute_result"
    }
   ],
   "execution_count": 32
  },
  {
   "cell_type": "markdown",
   "metadata": {},
   "source": [
    "Execute the following line to compare with the naive manual approach"
   ]
  },
  {
   "cell_type": "code",
   "metadata": {
    "ExecuteTime": {
     "end_time": "2024-11-27T18:55:57.174309Z",
     "start_time": "2024-11-27T18:55:57.172199Z"
    }
   },
   "source": [
    "# make_jaxpr(vmap_jvp_fun)(jnp.array([0., 1.]), PRNGKey(42))"
   ],
   "outputs": [],
   "execution_count": 33
  },
  {
   "cell_type": "markdown",
   "metadata": {},
   "source": [
    "### Questions:"
   ]
  },
  {
   "cell_type": "markdown",
   "metadata": {},
   "source": [
    "#### Q1:\n",
    "Vectorise the following bubble sort algorithm using the method of your choice:\n",
    "```python\n",
    "def bubble_sort(arr): \n",
    "    n = len(arr) \n",
    "    res = np.copy(arr)\n",
    "    for i in range(n-1): \n",
    "        for j in range(0, n-i-1): \n",
    "            if res[j] > res[j+1]: \n",
    "                res[j], res[j+1] = res[j+1], res[j]\n",
    "    return res   \n",
    "```"
   ]
  },
  {
   "cell_type": "code",
   "execution_count": null,
   "metadata": {},
   "outputs": [],
   "source": []
  }
 ],
 "metadata": {
  "kernelspec": {
   "display_name": "Python 3 (ipykernel)",
   "language": "python",
   "name": "python3"
  },
  "language_info": {
   "codemirror_mode": {
    "name": "ipython",
    "version": 3
   },
   "file_extension": ".py",
   "mimetype": "text/x-python",
   "name": "python",
   "nbconvert_exporter": "python",
   "pygments_lexer": "ipython3",
   "version": "3.7.6"
  }
 },
 "nbformat": 4,
 "nbformat_minor": 4
}
