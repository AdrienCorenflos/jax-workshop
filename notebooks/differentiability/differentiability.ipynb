{
 "cells": [
  {
   "cell_type": "markdown",
   "metadata": {},
   "source": [
    "# DIFFERENTIABILITY"
   ]
  },
  {
   "cell_type": "markdown",
   "metadata": {},
   "source": [
    "In this notebook we will present the differences between forward and reverse mode automatic differentiation (AD) as well as the jax routines to retrieve them."
   ]
  },
  {
   "cell_type": "markdown",
   "metadata": {},
   "source": [
    "## JAX imports"
   ]
  },
  {
   "cell_type": "markdown",
   "metadata": {},
   "source": [
    "## Beginner\n",
    "### Prerequisites\n",
    "Numpy"
   ]
  },
  {
   "cell_type": "markdown",
   "metadata": {},
   "source": [
    "### Imports"
   ]
  },
  {
   "cell_type": "code",
   "metadata": {
    "ExecuteTime": {
     "end_time": "2024-11-27T19:10:02.845752Z",
     "start_time": "2024-11-27T19:10:02.672540Z"
    }
   },
   "source": [
    "import jax\n",
    "from jax import grad, jvp, vjp, jacfwd, jacrev, linearize\n",
    "import jax.numpy as jnp\n",
    "\n",
    "import numpy as np"
   ],
   "outputs": [],
   "execution_count": 1
  },
  {
   "cell_type": "markdown",
   "metadata": {},
   "source": [
    "### Example"
   ]
  },
  {
   "cell_type": "markdown",
   "metadata": {},
   "source": [
    "We will consider a \"canonical\" JAX example function:"
   ]
  },
  {
   "cell_type": "code",
   "metadata": {
    "ExecuteTime": {
     "end_time": "2024-11-27T19:10:02.850480Z",
     "start_time": "2024-11-27T19:10:02.848465Z"
    }
   },
   "source": [
    "def my_fun(x, y):\n",
    "    return x * jnp.sin(y) + jnp.cos(x)"
   ],
   "outputs": [],
   "execution_count": 2
  },
  {
   "cell_type": "markdown",
   "metadata": {},
   "source": [
    "### Theoretical perspective"
   ]
  },
  {
   "cell_type": "markdown",
   "metadata": {},
   "source": [
    "The goal here is less to present a comprehensive mathematical study of AD, and more to give an intuition behind the concepts that dictated JAX implementation. I'll be following this [presentation](https://www.youtube.com/watch?v=zqaJeKZXS1U), so you can find references embedded within it."
   ]
  },
  {
   "cell_type": "markdown",
   "metadata": {},
   "source": [
    "#### Forward mode differentiation"
   ]
  },
  {
   "cell_type": "markdown",
   "metadata": {},
   "source": [
    "Let's consider a function $f \\colon \\mathbb{R}^n \\to  \\mathbb{R}^m$, provided it is differentiable at a point $x$, its directional Taylor expansion is given by:\n",
    "$$\n",
    "    f(x + \\epsilon y + o(\\epsilon)) = f(x) + \\epsilon J_x[f] y + o(\\epsilon)\n",
    "$$\n",
    "Let's define the concatenation of $x$ and of said \"dual\" number $\\vec{y}$: $x \\triangleright y$, then the Taylor identity can be written as\n",
    "$$\n",
    "    \\tilde{f}(x \\triangleright y) = f(x)\\triangleright J_x[f]y\n",
    "$$\n",
    "This directly expresses the forward chain rule as a composition of $\\tilde{f}$:\n",
    "$$\n",
    "\\begin{align}\n",
    "    \\tilde{f} \\circ \\tilde{g}(x \\triangleright y) \n",
    "        &= \\tilde{f}(g(x) \\triangleright J_x[g]y)\\\\\n",
    "        &= f \\circ g(x) \\triangleright J_{g(x)}J_x[g]y\n",
    "\\end{align}\n",
    "$$"
   ]
  },
  {
   "cell_type": "markdown",
   "metadata": {},
   "source": [
    "#### Reverse mode differentiation"
   ]
  },
  {
   "cell_type": "markdown",
   "metadata": {},
   "source": [
    "On the other end, what can we say about $y^\\top J_x[f]$? The chain rule for this is now written\n",
    "$$\n",
    "    y^\\top J_x[f\\circ g] = (y^\\top J_{g(x)}[f]) J_{x}[g]\n",
    "$$"
   ]
  },
  {
   "cell_type": "markdown",
   "metadata": {},
   "source": [
    "So what can be seen now is that to compute the forward mode derivative, you need to \"carry\" your gradients as you compute the output, but for the backward mode you need to remember the intermediate values of the functions involved."
   ]
  },
  {
   "cell_type": "markdown",
   "metadata": {},
   "source": [
    "#### Duality"
   ]
  },
  {
   "cell_type": "markdown",
   "metadata": {},
   "source": [
    "Provided the Jabobian don't depend on the dual number $y$, both operations are dual to each other, so that one can be retrieved from the other via a transposition (TODO I still need to understand the exact implementation)."
   ]
  },
  {
   "cell_type": "markdown",
   "metadata": {},
   "source": [
    "This allowed JAX developers to implement a free conversion from JVP (easier to implement) to VJP rule."
   ]
  },
  {
   "cell_type": "markdown",
   "metadata": {},
   "source": [
    "#### Complexity"
   ]
  },
  {
   "cell_type": "markdown",
   "metadata": {},
   "source": [
    "In practice the complexity of each methods will depend on the input-output sizes: if $f \\colon \\mathbb{R}^n \\to  \\mathbb{R}^m$, its Jacobian will be in $\\mathbb{R}^{n \\times n}$ so that the forward operation will have complexity $O(n)$ and the backward one $O(m)$ with the additional constraint that the intermediate inputs will need to be remembered."
   ]
  },
  {
   "cell_type": "markdown",
   "metadata": {},
   "source": [
    "#### Usage"
   ]
  },
  {
   "cell_type": "markdown",
   "metadata": {},
   "source": [
    "The usage of both methods actually follows directly from the derivation: the forward mode computes the output gradient directly, while the backward only returns a function that is capable of evaluating the gradient:"
   ]
  },
  {
   "cell_type": "code",
   "metadata": {
    "ExecuteTime": {
     "end_time": "2024-11-27T19:10:06.222648Z",
     "start_time": "2024-11-27T19:10:06.133337Z"
    }
   },
   "source": [
    "print(jvp(my_fun, (0.5, 0.75), (1.0, 1.0)))"
   ],
   "outputs": [
    {
     "name": "stderr",
     "output_type": "stream",
     "text": [
      "An NVIDIA GPU may be present on this machine, but a CUDA-enabled jaxlib is not installed. Falling back to cpu.\n"
     ]
    },
    {
     "name": "stdout",
     "output_type": "stream",
     "text": [
      "(Array(1.2184019, dtype=float32, weak_type=True), Array(0.56805766, dtype=float32, weak_type=True))\n"
     ]
    }
   ],
   "execution_count": 3
  },
  {
   "cell_type": "code",
   "metadata": {
    "ExecuteTime": {
     "end_time": "2024-11-27T19:10:06.552816Z",
     "start_time": "2024-11-27T19:10:06.500697Z"
    }
   },
   "source": [
    "val, my_fun_vjp = vjp(my_fun, 0.5, 0.75)\n",
    "print(val)\n",
    "print(my_fun_vjp)"
   ],
   "outputs": [
    {
     "name": "stdout",
     "output_type": "stream",
     "text": [
      "1.2184019\n",
      "Partial(_HashableCallableShim(functools.partial(<function _vjp_pullback_wrapper at 0x7e8d831e6340>, 'my_fun', [ShapedArray(float32[], weak_type=True)], (PyTreeDef(*), PyTreeDef((*, *))))), Partial(_HashableCallableShim(functools.partial(<function vjp.<locals>.unbound_vjp at 0x7e8d74b785e0>, [(ShapedArray(float32[], weak_type=True), None)], { lambda a:f32[] b:f32[] c:f32[] d:f32[]; e:f32[] f:f32[]. let\n",
      "    g:f32[] = pjit[\n",
      "      name=sin\n",
      "      jaxpr={ lambda ; h:f32[] i:f32[]. let j:f32[] = mul h i in (j,) }\n",
      "    ] f a\n",
      "    k:f32[] = pjit[\n",
      "      name=_multiply\n",
      "      jaxpr={ lambda ; l:f32[] m:f32[] n:f32[] o:f32[]. let\n",
      "          p:f32[] = mul l n\n",
      "          q:f32[] = mul o m\n",
      "          r:f32[] = add_any p q\n",
      "        in (r,) }\n",
      "    ] e g b c\n",
      "    s:f32[] = pjit[\n",
      "      name=cos\n",
      "      jaxpr={ lambda ; t:f32[] u:f32[]. let\n",
      "          v:f32[] = mul t u\n",
      "          w:f32[] = neg v\n",
      "        in (w,) }\n",
      "    ] e d\n",
      "    x:f32[] = pjit[\n",
      "      name=_add\n",
      "      jaxpr={ lambda ; y:f32[] z:f32[]. let ba:f32[] = add y z in (ba,) }\n",
      "    ] k s\n",
      "  in (x,) })), (Array(0.73168886, dtype=float32, weak_type=True), Array(0.6816388, dtype=float32, weak_type=True), 0.5, Array(0.47942555, dtype=float32, weak_type=True))))\n"
     ]
    }
   ],
   "execution_count": 4
  },
  {
   "cell_type": "code",
   "metadata": {
    "ExecuteTime": {
     "end_time": "2024-11-27T19:10:06.766570Z",
     "start_time": "2024-11-27T19:10:06.700477Z"
    }
   },
   "source": [
    "print(my_fun_vjp(1.0))"
   ],
   "outputs": [
    {
     "name": "stdout",
     "output_type": "stream",
     "text": [
      "(Array(0.20221323, dtype=float32, weak_type=True), Array(0.36584443, dtype=float32, weak_type=True))\n"
     ]
    }
   ],
   "execution_count": 5
  },
  {
   "cell_type": "markdown",
   "metadata": {},
   "source": [
    "### Jacobians"
   ]
  },
  {
   "cell_type": "markdown",
   "metadata": {},
   "source": [
    "As a consequence it is also possible to compute Jacobians, using one or the other method:"
   ]
  },
  {
   "cell_type": "code",
   "metadata": {
    "ExecuteTime": {
     "end_time": "2024-11-27T19:10:08.164509Z",
     "start_time": "2024-11-27T19:10:07.999823Z"
    }
   },
   "source": [
    "jacfwd(my_fun, argnums=(0, 1))(0.5, 1.0)"
   ],
   "outputs": [
    {
     "data": {
      "text/plain": [
       "(Array(0.3620454, dtype=float32, weak_type=True),\n",
       " Array(0.27015114, dtype=float32, weak_type=True))"
      ]
     },
     "execution_count": 6,
     "metadata": {},
     "output_type": "execute_result"
    }
   ],
   "execution_count": 6
  },
  {
   "cell_type": "code",
   "metadata": {
    "ExecuteTime": {
     "end_time": "2024-11-27T19:10:08.368748Z",
     "start_time": "2024-11-27T19:10:08.255681Z"
    }
   },
   "source": [
    "jacrev(my_fun, argnums=(0, 1))(0.5, 1.0)"
   ],
   "outputs": [
    {
     "data": {
      "text/plain": [
       "(Array(0.3620454, dtype=float32, weak_type=True),\n",
       " Array(0.27015114, dtype=float32, weak_type=True))"
      ]
     },
     "execution_count": 7,
     "metadata": {},
     "output_type": "execute_result"
    }
   ],
   "execution_count": 7
  },
  {
   "cell_type": "markdown",
   "metadata": {},
   "source": [
    "### Questions:"
   ]
  },
  {
   "cell_type": "markdown",
   "metadata": {},
   "source": [
    "#### Q1: \n",
    "Compute the derivative of the following $\\ln(1 + \\exp(x))$ at $x = 100$, what do you think is happening?\n",
    "```python\n",
    "def log1p(x):\n",
    "    return jnp.log(1 + jnp.exp(x))\n",
    "```"
   ]
  },
  {
   "cell_type": "markdown",
   "metadata": {},
   "source": [
    "#### Q2:\n",
    "Compute the Hessian of the norm function: $(\\sum_{i=1}^n x_i^2)^{\\frac 1 2}$"
   ]
  },
  {
   "cell_type": "markdown",
   "metadata": {},
   "source": [
    "## Intermediate\n",
    "### Prerequisites\n",
    "- Beginner autodiff\n",
    "- Beginner loops"
   ]
  },
  {
   "cell_type": "markdown",
   "metadata": {},
   "source": [
    "### Imports"
   ]
  },
  {
   "cell_type": "code",
   "metadata": {
    "ExecuteTime": {
     "end_time": "2024-11-27T19:10:09.695031Z",
     "start_time": "2024-11-27T19:10:09.691633Z"
    }
   },
   "source": [
    "from functools import partial\n",
    "\n",
    "from jax import custom_jvp, custom_jvp, jvp, vjp, make_jaxpr\n",
    "from jax.lax import scan, while_loop\n",
    "import jax.numpy as jnp\n",
    "\n",
    "import numpy as np"
   ],
   "outputs": [],
   "execution_count": 8
  },
  {
   "cell_type": "markdown",
   "metadata": {},
   "source": [
    "In this section we will understand why sometimes we need to implement our AD routines manually and how to do so."
   ]
  },
  {
   "cell_type": "markdown",
   "metadata": {},
   "source": [
    "### Example"
   ]
  },
  {
   "cell_type": "markdown",
   "metadata": {},
   "source": [
    "We will take two different examples, the first one is the `log1p` from the beginner section, the second is the iterative implementation of the square root function in the controlflow.loops notebook."
   ]
  },
  {
   "cell_type": "markdown",
   "metadata": {},
   "source": [
    "#### LOG1P"
   ]
  },
  {
   "cell_type": "markdown",
   "metadata": {},
   "source": [
    "This example will help us highlight some problems that can happen when relying on AD:"
   ]
  },
  {
   "cell_type": "code",
   "metadata": {
    "ExecuteTime": {
     "end_time": "2024-11-27T19:10:11.031455Z",
     "start_time": "2024-11-27T19:10:10.934879Z"
    }
   },
   "source": [
    "def log1p(x):\n",
    "    return 1.0 / jnp.log(1 + jnp.exp(x))\n",
    "\n",
    "\n",
    "val, log1p_vjp = vjp(log1p, 100.0)\n",
    "print(val)\n",
    "print(log1p_vjp(1.0))"
   ],
   "outputs": [
    {
     "name": "stdout",
     "output_type": "stream",
     "text": [
      "0.0\n",
      "(Array(nan, dtype=float32, weak_type=True),)\n"
     ]
    }
   ],
   "execution_count": 9
  },
  {
   "cell_type": "markdown",
   "metadata": {},
   "source": [
    "Clearly the derivative should be $0.$, so what's happening?"
   ]
  },
  {
   "cell_type": "code",
   "metadata": {
    "ExecuteTime": {
     "end_time": "2024-11-27T19:10:11.294831Z",
     "start_time": "2024-11-27T19:10:11.290067Z"
    }
   },
   "source": [
    "make_jaxpr(log1p_vjp)(1.0)"
   ],
   "outputs": [
    {
     "data": {
      "text/plain": [
       "{ lambda a:f32[] b:f32[] c:f32[]; d:f32[]. let\n",
       "    e:f32[] = mul d a\n",
       "    f:f32[] = mul e 1.0\n",
       "    g:f32[] = neg f\n",
       "    h:f32[] = div g b\n",
       "    i:f32[] = mul h c\n",
       "  in (i,) }"
      ]
     },
     "execution_count": 10,
     "metadata": {},
     "output_type": "execute_result"
    }
   ],
   "execution_count": 10
  },
  {
   "cell_type": "markdown",
   "metadata": {},
   "source": [
    "Oh! It's an indefinite form $\\frac{\\inf}{\\inf}$, we need to resolve it:"
   ]
  },
  {
   "cell_type": "code",
   "metadata": {
    "ExecuteTime": {
     "end_time": "2024-11-27T19:10:11.746633Z",
     "start_time": "2024-11-27T19:10:11.742809Z"
    }
   },
   "source": [
    "log1p = custom_jvp(log1p)\n",
    "\n",
    "\n",
    "@log1p.defjvp\n",
    "def _log1p_jvp(primals, tangents):\n",
    "    (x,) = primals\n",
    "    x_dot = (tangents,)\n",
    "\n",
    "    ex = jnp.exp(x)\n",
    "    primal_out = 1.0 / jnp.log(1 + ex)\n",
    "\n",
    "    ex_inv = 1 / ex\n",
    "    tangent_out = 1 / ((1 + ex_inv) * primal_out**2)\n",
    "    return primal_out, tangent_out\n",
    "\n",
    "\n",
    "# otherwise:\n",
    "# log1p.defjvps(lambda x_dot, primal_out, x: ...)"
   ],
   "outputs": [],
   "execution_count": 11
  },
  {
   "cell_type": "markdown",
   "metadata": {},
   "source": [
    "Let's see what this gives us:"
   ]
  },
  {
   "cell_type": "code",
   "metadata": {
    "ExecuteTime": {
     "end_time": "2024-11-27T19:10:12.777568Z",
     "start_time": "2024-11-27T19:10:12.706892Z"
    }
   },
   "source": [
    "val, log1p_vjp = vjp(log1p, 100.0)\n",
    "print(val)\n",
    "print(log1p_vjp(1.0))"
   ],
   "outputs": [
    {
     "name": "stdout",
     "output_type": "stream",
     "text": [
      "0.0\n",
      "(Array(0., dtype=float32, weak_type=True),)\n"
     ]
    }
   ],
   "execution_count": 12
  },
  {
   "cell_type": "markdown",
   "metadata": {},
   "source": [
    "#### SQRT"
   ]
  },
  {
   "cell_type": "markdown",
   "metadata": {},
   "source": [
    "We will consider the while loop implementation of the square root:"
   ]
  },
  {
   "cell_type": "code",
   "metadata": {
    "ExecuteTime": {
     "end_time": "2024-11-27T19:10:13.820485Z",
     "start_time": "2024-11-27T19:10:13.815148Z"
    }
   },
   "source": [
    "def while_loop_sqrt(x, x0=1.0, n_iter=10):\n",
    "\n",
    "    def cond(carry):\n",
    "        i, _val = carry\n",
    "        return i < n_iter\n",
    "\n",
    "    def body(carry):\n",
    "        i, val = carry\n",
    "        return i + 1, 0.5 * (val + x / val)\n",
    "\n",
    "    _, res = while_loop(cond, body, (0, x0))\n",
    "    return res"
   ],
   "outputs": [],
   "execution_count": 13
  },
  {
   "cell_type": "code",
   "metadata": {
    "ExecuteTime": {
     "end_time": "2024-11-27T19:10:14.479250Z",
     "start_time": "2024-11-27T19:10:13.870775Z"
    }
   },
   "source": [
    "val, while_loop_sqrt_vjp = vjp(while_loop_sqrt, 100.0)\n",
    "print(val)\n",
    "print(while_loop_sqrt_vjp(1.0))"
   ],
   "outputs": [
    {
     "name": "stdout",
     "output_type": "stream",
     "text": [
      "10.0\n"
     ]
    },
    {
     "ename": "ValueError",
     "evalue": "Reverse-mode differentiation does not work for lax.while_loop or lax.fori_loop with dynamic start/stop values. Try using lax.scan, or using fori_loop with static start/stop.",
     "output_type": "error",
     "traceback": [
      "\u001B[0;31m---------------------------------------------------------------------------\u001B[0m",
      "\u001B[0;31mJaxStackTraceBeforeTransformation\u001B[0m         Traceback (most recent call last)",
      "File \u001B[0;32m<frozen runpy>:198\u001B[0m, in \u001B[0;36m_run_module_as_main\u001B[0;34m()\u001B[0m\n",
      "File \u001B[0;32m<frozen runpy>:88\u001B[0m, in \u001B[0;36m_run_code\u001B[0;34m()\u001B[0m\n",
      "File \u001B[0;32m~/PycharmProjects/.virtualenvs/jax-workshop/lib/python3.12/site-packages/ipykernel_launcher.py:18\u001B[0m\n\u001B[1;32m     16\u001B[0m \u001B[38;5;28;01mfrom\u001B[39;00m \u001B[38;5;21;01mipykernel\u001B[39;00m \u001B[38;5;28;01mimport\u001B[39;00m kernelapp \u001B[38;5;28;01mas\u001B[39;00m app\n\u001B[0;32m---> 18\u001B[0m app\u001B[38;5;241m.\u001B[39mlaunch_new_instance()\n",
      "File \u001B[0;32m~/PycharmProjects/.virtualenvs/jax-workshop/lib/python3.12/site-packages/traitlets/config/application.py:1075\u001B[0m, in \u001B[0;36mlaunch_instance\u001B[0;34m()\u001B[0m\n\u001B[1;32m   1074\u001B[0m app\u001B[38;5;241m.\u001B[39minitialize(argv)\n\u001B[0;32m-> 1075\u001B[0m app\u001B[38;5;241m.\u001B[39mstart()\n",
      "File \u001B[0;32m~/PycharmProjects/.virtualenvs/jax-workshop/lib/python3.12/site-packages/ipykernel/kernelapp.py:739\u001B[0m, in \u001B[0;36mstart\u001B[0;34m()\u001B[0m\n\u001B[1;32m    738\u001B[0m \u001B[38;5;28;01mtry\u001B[39;00m:\n\u001B[0;32m--> 739\u001B[0m     \u001B[38;5;28mself\u001B[39m\u001B[38;5;241m.\u001B[39mio_loop\u001B[38;5;241m.\u001B[39mstart()\n\u001B[1;32m    740\u001B[0m \u001B[38;5;28;01mexcept\u001B[39;00m \u001B[38;5;167;01mKeyboardInterrupt\u001B[39;00m:\n",
      "File \u001B[0;32m~/PycharmProjects/.virtualenvs/jax-workshop/lib/python3.12/site-packages/tornado/platform/asyncio.py:205\u001B[0m, in \u001B[0;36mstart\u001B[0;34m()\u001B[0m\n\u001B[1;32m    204\u001B[0m \u001B[38;5;28;01mdef\u001B[39;00m \u001B[38;5;21mstart\u001B[39m(\u001B[38;5;28mself\u001B[39m) \u001B[38;5;241m-\u001B[39m\u001B[38;5;241m>\u001B[39m \u001B[38;5;28;01mNone\u001B[39;00m:\n\u001B[0;32m--> 205\u001B[0m     \u001B[38;5;28mself\u001B[39m\u001B[38;5;241m.\u001B[39masyncio_loop\u001B[38;5;241m.\u001B[39mrun_forever()\n",
      "File \u001B[0;32m~/miniconda3/lib/python3.12/asyncio/base_events.py:639\u001B[0m, in \u001B[0;36mrun_forever\u001B[0;34m()\u001B[0m\n\u001B[1;32m    638\u001B[0m \u001B[38;5;28;01mwhile\u001B[39;00m \u001B[38;5;28;01mTrue\u001B[39;00m:\n\u001B[0;32m--> 639\u001B[0m     \u001B[38;5;28mself\u001B[39m\u001B[38;5;241m.\u001B[39m_run_once()\n\u001B[1;32m    640\u001B[0m     \u001B[38;5;28;01mif\u001B[39;00m \u001B[38;5;28mself\u001B[39m\u001B[38;5;241m.\u001B[39m_stopping:\n",
      "File \u001B[0;32m~/miniconda3/lib/python3.12/asyncio/base_events.py:1985\u001B[0m, in \u001B[0;36m_run_once\u001B[0;34m()\u001B[0m\n\u001B[1;32m   1984\u001B[0m     \u001B[38;5;28;01melse\u001B[39;00m:\n\u001B[0;32m-> 1985\u001B[0m         handle\u001B[38;5;241m.\u001B[39m_run()\n\u001B[1;32m   1986\u001B[0m handle \u001B[38;5;241m=\u001B[39m \u001B[38;5;28;01mNone\u001B[39;00m\n",
      "File \u001B[0;32m~/miniconda3/lib/python3.12/asyncio/events.py:88\u001B[0m, in \u001B[0;36m_run\u001B[0;34m()\u001B[0m\n\u001B[1;32m     87\u001B[0m \u001B[38;5;28;01mtry\u001B[39;00m:\n\u001B[0;32m---> 88\u001B[0m     \u001B[38;5;28mself\u001B[39m\u001B[38;5;241m.\u001B[39m_context\u001B[38;5;241m.\u001B[39mrun(\u001B[38;5;28mself\u001B[39m\u001B[38;5;241m.\u001B[39m_callback, \u001B[38;5;241m*\u001B[39m\u001B[38;5;28mself\u001B[39m\u001B[38;5;241m.\u001B[39m_args)\n\u001B[1;32m     89\u001B[0m \u001B[38;5;28;01mexcept\u001B[39;00m (\u001B[38;5;167;01mSystemExit\u001B[39;00m, \u001B[38;5;167;01mKeyboardInterrupt\u001B[39;00m):\n",
      "File \u001B[0;32m~/PycharmProjects/.virtualenvs/jax-workshop/lib/python3.12/site-packages/ipykernel/kernelbase.py:545\u001B[0m, in \u001B[0;36mdispatch_queue\u001B[0;34m()\u001B[0m\n\u001B[1;32m    544\u001B[0m \u001B[38;5;28;01mtry\u001B[39;00m:\n\u001B[0;32m--> 545\u001B[0m     \u001B[38;5;28;01mawait\u001B[39;00m \u001B[38;5;28mself\u001B[39m\u001B[38;5;241m.\u001B[39mprocess_one()\n\u001B[1;32m    546\u001B[0m \u001B[38;5;28;01mexcept\u001B[39;00m \u001B[38;5;167;01mException\u001B[39;00m:\n",
      "File \u001B[0;32m~/PycharmProjects/.virtualenvs/jax-workshop/lib/python3.12/site-packages/ipykernel/kernelbase.py:534\u001B[0m, in \u001B[0;36mprocess_one\u001B[0;34m()\u001B[0m\n\u001B[1;32m    533\u001B[0m         \u001B[38;5;28;01mreturn\u001B[39;00m\n\u001B[0;32m--> 534\u001B[0m \u001B[38;5;28;01mawait\u001B[39;00m dispatch(\u001B[38;5;241m*\u001B[39margs)\n",
      "File \u001B[0;32m~/PycharmProjects/.virtualenvs/jax-workshop/lib/python3.12/site-packages/ipykernel/kernelbase.py:437\u001B[0m, in \u001B[0;36mdispatch_shell\u001B[0;34m()\u001B[0m\n\u001B[1;32m    436\u001B[0m     \u001B[38;5;28;01mif\u001B[39;00m inspect\u001B[38;5;241m.\u001B[39misawaitable(result):\n\u001B[0;32m--> 437\u001B[0m         \u001B[38;5;28;01mawait\u001B[39;00m result\n\u001B[1;32m    438\u001B[0m \u001B[38;5;28;01mexcept\u001B[39;00m \u001B[38;5;167;01mException\u001B[39;00m:\n",
      "File \u001B[0;32m~/PycharmProjects/.virtualenvs/jax-workshop/lib/python3.12/site-packages/ipykernel/ipkernel.py:362\u001B[0m, in \u001B[0;36mexecute_request\u001B[0;34m()\u001B[0m\n\u001B[1;32m    361\u001B[0m \u001B[38;5;28mself\u001B[39m\u001B[38;5;241m.\u001B[39m_associate_new_top_level_threads_with(parent_header)\n\u001B[0;32m--> 362\u001B[0m \u001B[38;5;28;01mawait\u001B[39;00m \u001B[38;5;28msuper\u001B[39m()\u001B[38;5;241m.\u001B[39mexecute_request(stream, ident, parent)\n",
      "File \u001B[0;32m~/PycharmProjects/.virtualenvs/jax-workshop/lib/python3.12/site-packages/ipykernel/kernelbase.py:778\u001B[0m, in \u001B[0;36mexecute_request\u001B[0;34m()\u001B[0m\n\u001B[1;32m    777\u001B[0m \u001B[38;5;28;01mif\u001B[39;00m inspect\u001B[38;5;241m.\u001B[39misawaitable(reply_content):\n\u001B[0;32m--> 778\u001B[0m     reply_content \u001B[38;5;241m=\u001B[39m \u001B[38;5;28;01mawait\u001B[39;00m reply_content\n\u001B[1;32m    780\u001B[0m \u001B[38;5;66;03m# Flush output before sending the reply.\u001B[39;00m\n",
      "File \u001B[0;32m~/PycharmProjects/.virtualenvs/jax-workshop/lib/python3.12/site-packages/ipykernel/ipkernel.py:449\u001B[0m, in \u001B[0;36mdo_execute\u001B[0;34m()\u001B[0m\n\u001B[1;32m    448\u001B[0m \u001B[38;5;28;01mif\u001B[39;00m accepts_params[\u001B[38;5;124m\"\u001B[39m\u001B[38;5;124mcell_id\u001B[39m\u001B[38;5;124m\"\u001B[39m]:\n\u001B[0;32m--> 449\u001B[0m     res \u001B[38;5;241m=\u001B[39m shell\u001B[38;5;241m.\u001B[39mrun_cell(\n\u001B[1;32m    450\u001B[0m         code,\n\u001B[1;32m    451\u001B[0m         store_history\u001B[38;5;241m=\u001B[39mstore_history,\n\u001B[1;32m    452\u001B[0m         silent\u001B[38;5;241m=\u001B[39msilent,\n\u001B[1;32m    453\u001B[0m         cell_id\u001B[38;5;241m=\u001B[39mcell_id,\n\u001B[1;32m    454\u001B[0m     )\n\u001B[1;32m    455\u001B[0m \u001B[38;5;28;01melse\u001B[39;00m:\n",
      "File \u001B[0;32m~/PycharmProjects/.virtualenvs/jax-workshop/lib/python3.12/site-packages/ipykernel/zmqshell.py:549\u001B[0m, in \u001B[0;36mrun_cell\u001B[0;34m()\u001B[0m\n\u001B[1;32m    548\u001B[0m \u001B[38;5;28mself\u001B[39m\u001B[38;5;241m.\u001B[39m_last_traceback \u001B[38;5;241m=\u001B[39m \u001B[38;5;28;01mNone\u001B[39;00m\n\u001B[0;32m--> 549\u001B[0m \u001B[38;5;28;01mreturn\u001B[39;00m \u001B[38;5;28msuper\u001B[39m()\u001B[38;5;241m.\u001B[39mrun_cell(\u001B[38;5;241m*\u001B[39margs, \u001B[38;5;241m*\u001B[39m\u001B[38;5;241m*\u001B[39mkwargs)\n",
      "File \u001B[0;32m~/PycharmProjects/.virtualenvs/jax-workshop/lib/python3.12/site-packages/IPython/core/interactiveshell.py:3075\u001B[0m, in \u001B[0;36mrun_cell\u001B[0;34m()\u001B[0m\n\u001B[1;32m   3074\u001B[0m \u001B[38;5;28;01mtry\u001B[39;00m:\n\u001B[0;32m-> 3075\u001B[0m     result \u001B[38;5;241m=\u001B[39m \u001B[38;5;28mself\u001B[39m\u001B[38;5;241m.\u001B[39m_run_cell(\n\u001B[1;32m   3076\u001B[0m         raw_cell, store_history, silent, shell_futures, cell_id\n\u001B[1;32m   3077\u001B[0m     )\n\u001B[1;32m   3078\u001B[0m \u001B[38;5;28;01mfinally\u001B[39;00m:\n",
      "File \u001B[0;32m~/PycharmProjects/.virtualenvs/jax-workshop/lib/python3.12/site-packages/IPython/core/interactiveshell.py:3130\u001B[0m, in \u001B[0;36m_run_cell\u001B[0;34m()\u001B[0m\n\u001B[1;32m   3129\u001B[0m \u001B[38;5;28;01mtry\u001B[39;00m:\n\u001B[0;32m-> 3130\u001B[0m     result \u001B[38;5;241m=\u001B[39m runner(coro)\n\u001B[1;32m   3131\u001B[0m \u001B[38;5;28;01mexcept\u001B[39;00m \u001B[38;5;167;01mBaseException\u001B[39;00m \u001B[38;5;28;01mas\u001B[39;00m e:\n",
      "File \u001B[0;32m~/PycharmProjects/.virtualenvs/jax-workshop/lib/python3.12/site-packages/IPython/core/async_helpers.py:128\u001B[0m, in \u001B[0;36m_pseudo_sync_runner\u001B[0;34m()\u001B[0m\n\u001B[1;32m    127\u001B[0m \u001B[38;5;28;01mtry\u001B[39;00m:\n\u001B[0;32m--> 128\u001B[0m     coro\u001B[38;5;241m.\u001B[39msend(\u001B[38;5;28;01mNone\u001B[39;00m)\n\u001B[1;32m    129\u001B[0m \u001B[38;5;28;01mexcept\u001B[39;00m \u001B[38;5;167;01mStopIteration\u001B[39;00m \u001B[38;5;28;01mas\u001B[39;00m exc:\n",
      "File \u001B[0;32m~/PycharmProjects/.virtualenvs/jax-workshop/lib/python3.12/site-packages/IPython/core/interactiveshell.py:3334\u001B[0m, in \u001B[0;36mrun_cell_async\u001B[0;34m()\u001B[0m\n\u001B[1;32m   3331\u001B[0m interactivity \u001B[38;5;241m=\u001B[39m \u001B[38;5;124m\"\u001B[39m\u001B[38;5;124mnone\u001B[39m\u001B[38;5;124m\"\u001B[39m \u001B[38;5;28;01mif\u001B[39;00m silent \u001B[38;5;28;01melse\u001B[39;00m \u001B[38;5;28mself\u001B[39m\u001B[38;5;241m.\u001B[39mast_node_interactivity\n\u001B[0;32m-> 3334\u001B[0m has_raised \u001B[38;5;241m=\u001B[39m \u001B[38;5;28;01mawait\u001B[39;00m \u001B[38;5;28mself\u001B[39m\u001B[38;5;241m.\u001B[39mrun_ast_nodes(code_ast\u001B[38;5;241m.\u001B[39mbody, cell_name,\n\u001B[1;32m   3335\u001B[0m        interactivity\u001B[38;5;241m=\u001B[39minteractivity, compiler\u001B[38;5;241m=\u001B[39mcompiler, result\u001B[38;5;241m=\u001B[39mresult)\n\u001B[1;32m   3337\u001B[0m \u001B[38;5;28mself\u001B[39m\u001B[38;5;241m.\u001B[39mlast_execution_succeeded \u001B[38;5;241m=\u001B[39m \u001B[38;5;129;01mnot\u001B[39;00m has_raised\n",
      "File \u001B[0;32m~/PycharmProjects/.virtualenvs/jax-workshop/lib/python3.12/site-packages/IPython/core/interactiveshell.py:3517\u001B[0m, in \u001B[0;36mrun_ast_nodes\u001B[0;34m()\u001B[0m\n\u001B[1;32m   3516\u001B[0m     asy \u001B[38;5;241m=\u001B[39m compare(code)\n\u001B[0;32m-> 3517\u001B[0m \u001B[38;5;28;01mif\u001B[39;00m \u001B[38;5;28;01mawait\u001B[39;00m \u001B[38;5;28mself\u001B[39m\u001B[38;5;241m.\u001B[39mrun_code(code, result, async_\u001B[38;5;241m=\u001B[39masy):\n\u001B[1;32m   3518\u001B[0m     \u001B[38;5;28;01mreturn\u001B[39;00m \u001B[38;5;28;01mTrue\u001B[39;00m\n",
      "File \u001B[0;32m~/PycharmProjects/.virtualenvs/jax-workshop/lib/python3.12/site-packages/IPython/core/interactiveshell.py:3577\u001B[0m, in \u001B[0;36mrun_code\u001B[0;34m()\u001B[0m\n\u001B[1;32m   3576\u001B[0m     \u001B[38;5;28;01melse\u001B[39;00m:\n\u001B[0;32m-> 3577\u001B[0m         exec(code_obj, \u001B[38;5;28mself\u001B[39m\u001B[38;5;241m.\u001B[39muser_global_ns, \u001B[38;5;28mself\u001B[39m\u001B[38;5;241m.\u001B[39muser_ns)\n\u001B[1;32m   3578\u001B[0m \u001B[38;5;28;01mfinally\u001B[39;00m:\n\u001B[1;32m   3579\u001B[0m     \u001B[38;5;66;03m# Reset our crash handler in place\u001B[39;00m\n",
      "Cell \u001B[0;32mIn[14], line 1\u001B[0m\n\u001B[0;32m----> 1\u001B[0m val, while_loop_sqrt_vjp \u001B[38;5;241m=\u001B[39m vjp(while_loop_sqrt, \u001B[38;5;241m100.0\u001B[39m)\n\u001B[1;32m      2\u001B[0m \u001B[38;5;28mprint\u001B[39m(val)\n",
      "Cell \u001B[0;32mIn[13], line 11\u001B[0m, in \u001B[0;36mwhile_loop_sqrt\u001B[0;34m()\u001B[0m\n\u001B[1;32m      9\u001B[0m     \u001B[38;5;28;01mreturn\u001B[39;00m i \u001B[38;5;241m+\u001B[39m \u001B[38;5;241m1\u001B[39m, \u001B[38;5;241m0.5\u001B[39m \u001B[38;5;241m*\u001B[39m (val \u001B[38;5;241m+\u001B[39m x \u001B[38;5;241m/\u001B[39m val)\n\u001B[0;32m---> 11\u001B[0m _, res \u001B[38;5;241m=\u001B[39m while_loop(cond, body, (\u001B[38;5;241m0\u001B[39m, x0))\n\u001B[1;32m     12\u001B[0m \u001B[38;5;28;01mreturn\u001B[39;00m res\n",
      "\u001B[0;31mJaxStackTraceBeforeTransformation\u001B[0m: ValueError: Reverse-mode differentiation does not work for lax.while_loop or lax.fori_loop with dynamic start/stop values. Try using lax.scan, or using fori_loop with static start/stop.\n\nThe preceding stack trace is the source of the JAX operation that, once transformed by JAX, triggered the following exception.\n\n--------------------",
      "\nThe above exception was the direct cause of the following exception:\n",
      "\u001B[0;31mValueError\u001B[0m                                Traceback (most recent call last)",
      "Cell \u001B[0;32mIn[14], line 3\u001B[0m\n\u001B[1;32m      1\u001B[0m val, while_loop_sqrt_vjp \u001B[38;5;241m=\u001B[39m vjp(while_loop_sqrt, \u001B[38;5;241m100.0\u001B[39m)\n\u001B[1;32m      2\u001B[0m \u001B[38;5;28mprint\u001B[39m(val)\n\u001B[0;32m----> 3\u001B[0m \u001B[38;5;28mprint\u001B[39m(\u001B[43mwhile_loop_sqrt_vjp\u001B[49m\u001B[43m(\u001B[49m\u001B[38;5;241;43m1.0\u001B[39;49m\u001B[43m)\u001B[49m)\n",
      "File \u001B[0;32m~/PycharmProjects/.virtualenvs/jax-workshop/lib/python3.12/site-packages/jax/_src/tree_util.py:477\u001B[0m, in \u001B[0;36m_HashableCallableShim.__call__\u001B[0;34m(self, *args, **kw)\u001B[0m\n\u001B[1;32m    476\u001B[0m \u001B[38;5;28;01mdef\u001B[39;00m \u001B[38;5;21m__call__\u001B[39m(\u001B[38;5;28mself\u001B[39m, \u001B[38;5;241m*\u001B[39margs, \u001B[38;5;241m*\u001B[39m\u001B[38;5;241m*\u001B[39mkw):\n\u001B[0;32m--> 477\u001B[0m   \u001B[38;5;28;01mreturn\u001B[39;00m \u001B[38;5;28;43mself\u001B[39;49m\u001B[38;5;241;43m.\u001B[39;49m\u001B[43mfun\u001B[49m\u001B[43m(\u001B[49m\u001B[38;5;241;43m*\u001B[39;49m\u001B[43margs\u001B[49m\u001B[43m,\u001B[49m\u001B[43m \u001B[49m\u001B[38;5;241;43m*\u001B[39;49m\u001B[38;5;241;43m*\u001B[39;49m\u001B[43mkw\u001B[49m\u001B[43m)\u001B[49m\n",
      "File \u001B[0;32m~/PycharmProjects/.virtualenvs/jax-workshop/lib/python3.12/site-packages/jax/_src/api.py:1886\u001B[0m, in \u001B[0;36m_vjp_pullback_wrapper\u001B[0;34m(name, out_primal_avals, io_tree, fun, *py_args_)\u001B[0m\n\u001B[1;32m   1879\u001B[0m   \u001B[38;5;28;01mif\u001B[39;00m (\u001B[38;5;129;01mnot\u001B[39;00m core\u001B[38;5;241m.\u001B[39mtypecompat(ct_aval, ct_aval_expected) \u001B[38;5;129;01mand\u001B[39;00m\n\u001B[1;32m   1880\u001B[0m       \u001B[38;5;129;01mnot\u001B[39;00m _temporary_dtype_exception(ct_aval, ct_aval_expected)):\n\u001B[1;32m   1881\u001B[0m     \u001B[38;5;28;01mraise\u001B[39;00m \u001B[38;5;167;01mValueError\u001B[39;00m(\n\u001B[1;32m   1882\u001B[0m         \u001B[38;5;124m\"\u001B[39m\u001B[38;5;124munexpected JAX type (e.g. shape/dtype) for argument to vjp function: \u001B[39m\u001B[38;5;124m\"\u001B[39m\n\u001B[1;32m   1883\u001B[0m         \u001B[38;5;124mf\u001B[39m\u001B[38;5;124m\"\u001B[39m\u001B[38;5;124mgot \u001B[39m\u001B[38;5;132;01m{\u001B[39;00mct_aval\u001B[38;5;241m.\u001B[39mstr_short()\u001B[38;5;132;01m}\u001B[39;00m\u001B[38;5;124m, but expected \u001B[39m\u001B[38;5;132;01m{\u001B[39;00mct_aval_expected\u001B[38;5;241m.\u001B[39mstr_short()\u001B[38;5;132;01m}\u001B[39;00m\u001B[38;5;124m \u001B[39m\u001B[38;5;124m\"\u001B[39m\n\u001B[1;32m   1884\u001B[0m         \u001B[38;5;124mf\u001B[39m\u001B[38;5;124m\"\u001B[39m\u001B[38;5;124mbecause the corresponding output of the function \u001B[39m\u001B[38;5;132;01m{\u001B[39;00mname\u001B[38;5;132;01m}\u001B[39;00m\u001B[38;5;124m had JAX type \u001B[39m\u001B[38;5;124m\"\u001B[39m\n\u001B[1;32m   1885\u001B[0m         \u001B[38;5;124mf\u001B[39m\u001B[38;5;124m\"\u001B[39m\u001B[38;5;132;01m{\u001B[39;00maval\u001B[38;5;241m.\u001B[39mstr_short()\u001B[38;5;132;01m}\u001B[39;00m\u001B[38;5;124m\"\u001B[39m)\n\u001B[0;32m-> 1886\u001B[0m ans \u001B[38;5;241m=\u001B[39m \u001B[43mfun\u001B[49m\u001B[43m(\u001B[49m\u001B[38;5;241;43m*\u001B[39;49m\u001B[43margs\u001B[49m\u001B[43m)\u001B[49m\n\u001B[1;32m   1887\u001B[0m \u001B[38;5;28;01mreturn\u001B[39;00m tree_unflatten(out_tree, ans)\n",
      "File \u001B[0;32m~/PycharmProjects/.virtualenvs/jax-workshop/lib/python3.12/site-packages/jax/_src/tree_util.py:477\u001B[0m, in \u001B[0;36m_HashableCallableShim.__call__\u001B[0;34m(self, *args, **kw)\u001B[0m\n\u001B[1;32m    476\u001B[0m \u001B[38;5;28;01mdef\u001B[39;00m \u001B[38;5;21m__call__\u001B[39m(\u001B[38;5;28mself\u001B[39m, \u001B[38;5;241m*\u001B[39margs, \u001B[38;5;241m*\u001B[39m\u001B[38;5;241m*\u001B[39mkw):\n\u001B[0;32m--> 477\u001B[0m   \u001B[38;5;28;01mreturn\u001B[39;00m \u001B[38;5;28;43mself\u001B[39;49m\u001B[38;5;241;43m.\u001B[39;49m\u001B[43mfun\u001B[49m\u001B[43m(\u001B[49m\u001B[38;5;241;43m*\u001B[39;49m\u001B[43margs\u001B[49m\u001B[43m,\u001B[49m\u001B[43m \u001B[49m\u001B[38;5;241;43m*\u001B[39;49m\u001B[38;5;241;43m*\u001B[39;49m\u001B[43mkw\u001B[49m\u001B[43m)\u001B[49m\n",
      "File \u001B[0;32m~/PycharmProjects/.virtualenvs/jax-workshop/lib/python3.12/site-packages/jax/_src/interpreters/ad.py:149\u001B[0m, in \u001B[0;36mvjp.<locals>.unbound_vjp\u001B[0;34m(pvals, jaxpr, consts, *cts)\u001B[0m\n\u001B[1;32m    147\u001B[0m cts \u001B[38;5;241m=\u001B[39m \u001B[38;5;28mtuple\u001B[39m(ct \u001B[38;5;28;01mfor\u001B[39;00m ct, pval \u001B[38;5;129;01min\u001B[39;00m \u001B[38;5;28mzip\u001B[39m(cts, pvals) \u001B[38;5;28;01mif\u001B[39;00m \u001B[38;5;129;01mnot\u001B[39;00m pval\u001B[38;5;241m.\u001B[39mis_known())\n\u001B[1;32m    148\u001B[0m dummy_args \u001B[38;5;241m=\u001B[39m [UndefinedPrimal(v\u001B[38;5;241m.\u001B[39maval) \u001B[38;5;28;01mfor\u001B[39;00m v \u001B[38;5;129;01min\u001B[39;00m jaxpr\u001B[38;5;241m.\u001B[39minvars]\n\u001B[0;32m--> 149\u001B[0m arg_cts \u001B[38;5;241m=\u001B[39m \u001B[43mbackward_pass\u001B[49m\u001B[43m(\u001B[49m\u001B[43mjaxpr\u001B[49m\u001B[43m,\u001B[49m\u001B[43m \u001B[49m\u001B[38;5;28;43;01mTrue\u001B[39;49;00m\u001B[43m,\u001B[49m\u001B[43m \u001B[49m\u001B[43mconsts\u001B[49m\u001B[43m,\u001B[49m\u001B[43m \u001B[49m\u001B[43mdummy_args\u001B[49m\u001B[43m,\u001B[49m\u001B[43m \u001B[49m\u001B[43mcts\u001B[49m\u001B[43m)\u001B[49m\n\u001B[1;32m    150\u001B[0m \u001B[38;5;28;01mreturn\u001B[39;00m \u001B[38;5;28mmap\u001B[39m(instantiate_zeros, arg_cts)\n",
      "File \u001B[0;32m~/PycharmProjects/.virtualenvs/jax-workshop/lib/python3.12/site-packages/jax/_src/interpreters/ad.py:240\u001B[0m, in \u001B[0;36mbackward_pass\u001B[0;34m(jaxpr, transform_stack, consts, primals_in, cotangents_in)\u001B[0m\n\u001B[1;32m    237\u001B[0m   cts_out \u001B[38;5;241m=\u001B[39m reducing_transposes[eqn\u001B[38;5;241m.\u001B[39mprimitive](\n\u001B[1;32m    238\u001B[0m       cts_in, \u001B[38;5;241m*\u001B[39minvals, \u001B[38;5;241m*\u001B[39m\u001B[38;5;241m*\u001B[39meqn\u001B[38;5;241m.\u001B[39mparams)\n\u001B[1;32m    239\u001B[0m \u001B[38;5;28;01melse\u001B[39;00m:\n\u001B[0;32m--> 240\u001B[0m   cts_out \u001B[38;5;241m=\u001B[39m \u001B[43mget_primitive_transpose\u001B[49m\u001B[43m(\u001B[49m\u001B[43meqn\u001B[49m\u001B[38;5;241;43m.\u001B[39;49m\u001B[43mprimitive\u001B[49m\u001B[43m)\u001B[49m\u001B[43m(\u001B[49m\n\u001B[1;32m    241\u001B[0m \u001B[43m      \u001B[49m\u001B[43mcts_in\u001B[49m\u001B[43m,\u001B[49m\u001B[43m \u001B[49m\u001B[38;5;241;43m*\u001B[39;49m\u001B[43minvals\u001B[49m\u001B[43m,\u001B[49m\u001B[43m \u001B[49m\u001B[38;5;241;43m*\u001B[39;49m\u001B[38;5;241;43m*\u001B[39;49m\u001B[43meqn\u001B[49m\u001B[38;5;241;43m.\u001B[39;49m\u001B[43mparams\u001B[49m\u001B[43m)\u001B[49m\n\u001B[1;32m    242\u001B[0m cts_out \u001B[38;5;241m=\u001B[39m [Zero(v\u001B[38;5;241m.\u001B[39maval) \u001B[38;5;28;01mfor\u001B[39;00m v \u001B[38;5;129;01min\u001B[39;00m eqn\u001B[38;5;241m.\u001B[39minvars] \u001B[38;5;28;01mif\u001B[39;00m cts_out \u001B[38;5;129;01mis\u001B[39;00m Zero \u001B[38;5;28;01melse\u001B[39;00m cts_out\n\u001B[1;32m    243\u001B[0m \u001B[38;5;66;03m# FIXME: Some invars correspond to primals!\u001B[39;00m\n",
      "File \u001B[0;32m~/PycharmProjects/.virtualenvs/jax-workshop/lib/python3.12/site-packages/jax/_src/lax/control_flow/loops.py:1657\u001B[0m, in \u001B[0;36m_while_transpose_error\u001B[0;34m(*_, **kwargs)\u001B[0m\n\u001B[1;32m   1656\u001B[0m \u001B[38;5;28;01mdef\u001B[39;00m \u001B[38;5;21m_while_transpose_error\u001B[39m(\u001B[38;5;241m*\u001B[39m_, \u001B[38;5;241m*\u001B[39m\u001B[38;5;241m*\u001B[39mkwargs):\n\u001B[0;32m-> 1657\u001B[0m   \u001B[38;5;28;01mraise\u001B[39;00m \u001B[38;5;167;01mValueError\u001B[39;00m(\u001B[38;5;124m\"\u001B[39m\u001B[38;5;124mReverse-mode differentiation does not work for \u001B[39m\u001B[38;5;124m\"\u001B[39m\n\u001B[1;32m   1658\u001B[0m                    \u001B[38;5;124m\"\u001B[39m\u001B[38;5;124mlax.while_loop or lax.fori_loop with dynamic start/stop values. \u001B[39m\u001B[38;5;124m\"\u001B[39m\n\u001B[1;32m   1659\u001B[0m                    \u001B[38;5;124m\"\u001B[39m\u001B[38;5;124mTry using lax.scan, or using fori_loop with static start/stop.\u001B[39m\u001B[38;5;124m\"\u001B[39m)\n",
      "\u001B[0;31mValueError\u001B[0m: Reverse-mode differentiation does not work for lax.while_loop or lax.fori_loop with dynamic start/stop values. Try using lax.scan, or using fori_loop with static start/stop."
     ]
    }
   ],
   "execution_count": 14
  },
  {
   "cell_type": "markdown",
   "metadata": {},
   "source": [
    "So we can't use the backward-mode for a while loop, that's a bummer!"
   ]
  },
  {
   "cell_type": "markdown",
   "metadata": {},
   "source": [
    "As explained in the beginner section, reverse-mode needs to allocate memory, which can't be done dynamically in XLA, so that JAX doesn't allow for reverse mode differentiation through while_loops which could grow indefinitely. Instead some work has been planned in JAX to allow for bounded size while loops to be implemented using the scan syntax."
   ]
  },
  {
   "cell_type": "code",
   "metadata": {
    "ExecuteTime": {
     "end_time": "2024-11-27T19:10:15.619627Z",
     "start_time": "2024-11-27T19:10:15.612891Z"
    }
   },
   "source": [
    "@partial(custom_jvp, nondiff_argnums=(1, 2))\n",
    "def custom_jvp_while_loop_sqrt(x, x0=1.0, n_iter=10):\n",
    "    sqrt_x = while_loop_sqrt(x, x0, n_iter)\n",
    "    return sqrt_x\n",
    "\n",
    "\n",
    "@custom_jvp_while_loop_sqrt.defjvp\n",
    "def _custom_jvp_while_loop_sqrt(x0, n_iter, primals, tangents):\n",
    "    (x,) = primals\n",
    "    (x_dot,) = tangents\n",
    "    sqrt_x = while_loop_sqrt(x, x0, n_iter)\n",
    "    return sqrt_x, x_dot / (2 * sqrt_x)"
   ],
   "outputs": [],
   "execution_count": 15
  },
  {
   "cell_type": "code",
   "metadata": {
    "ExecuteTime": {
     "end_time": "2024-11-27T19:10:15.841691Z",
     "start_time": "2024-11-27T19:10:15.821558Z"
    }
   },
   "source": [
    "custom_jvp_while_loop_sqrt(5.0)"
   ],
   "outputs": [
    {
     "data": {
      "text/plain": [
       "Array(2.236068, dtype=float32, weak_type=True)"
      ]
     },
     "execution_count": 16,
     "metadata": {},
     "output_type": "execute_result"
    }
   ],
   "execution_count": 16
  },
  {
   "cell_type": "code",
   "metadata": {
    "ExecuteTime": {
     "end_time": "2024-11-27T19:10:16.255672Z",
     "start_time": "2024-11-27T19:10:16.217865Z"
    }
   },
   "source": [
    "val, while_loop_sqrt_vjp = vjp(custom_jvp_while_loop_sqrt, 100.0)\n",
    "print(val)\n",
    "print(while_loop_sqrt_vjp(1.0))"
   ],
   "outputs": [
    {
     "name": "stdout",
     "output_type": "stream",
     "text": [
      "10.0\n",
      "(Array(0.05, dtype=float32, weak_type=True),)\n"
     ]
    }
   ],
   "execution_count": 17
  },
  {
   "cell_type": "markdown",
   "metadata": {},
   "source": [
    "### Questions:"
   ]
  },
  {
   "cell_type": "markdown",
   "metadata": {},
   "source": [
    "#### Q1: \n",
    "Implement the VJP rule for `log1p`"
   ]
  },
  {
   "cell_type": "markdown",
   "metadata": {},
   "source": [
    "#### Q2:\n",
    "Can you think of other cases when it could be useful to implement custom gradient? Can the `sqrt` approach be generalised?"
   ]
  },
  {
   "cell_type": "markdown",
   "metadata": {},
   "source": [
    "## Advanced\n",
    "### Prerequisites\n",
    "- Intermediate autodiff \n",
    "- Beginner randomness"
   ]
  },
  {
   "cell_type": "markdown",
   "metadata": {},
   "source": [
    "Here we reproduce a subpart of the [FFJORD](https://arxiv.org/pdf/1810.01367.pdf) paper, which aimes at inferring an efficient way to estimate the trace of the Jacobian of a given bijective function."
   ]
  },
  {
   "cell_type": "markdown",
   "metadata": {},
   "source": [
    "### Imports"
   ]
  },
  {
   "cell_type": "code",
   "metadata": {
    "ExecuteTime": {
     "end_time": "2024-11-27T19:12:53.681812Z",
     "start_time": "2024-11-27T19:12:53.679558Z"
    }
   },
   "source": [
    "from jax import make_jaxpr, jvp, vjp, jit, linearize, vmap\n",
    "from jax.lax import associative_scan, scan\n",
    "from jax.random import normal, PRNGKey\n",
    "\n",
    "import jax.numpy as jnp\n",
    "import numpy as np"
   ],
   "outputs": [],
   "execution_count": 32
  },
  {
   "cell_type": "markdown",
   "metadata": {},
   "source": [
    "### Example"
   ]
  },
  {
   "cell_type": "markdown",
   "metadata": {},
   "source": [
    "We will first present the naive (and exact) way of computing the trace of a Jacobian using JAX primitives, then discuss the complexity of the operation and introduce the [Hutchinson trick](https://www.tandfonline.com/doi/abs/10.1080/03610919008812866) as a way to reduce it."
   ]
  },
  {
   "cell_type": "code",
   "metadata": {
    "ExecuteTime": {
     "end_time": "2024-11-27T19:12:54.102635Z",
     "start_time": "2024-11-27T19:12:54.099656Z"
    }
   },
   "source": [
    "D = 5\n",
    "a = np.random.randn(D, D)\n",
    "b = np.random.randn(D)\n",
    "\n",
    "\n",
    "def affine_function(x):\n",
    "    return a @ x + b\n",
    "\n",
    "\n",
    "print(np.trace(a))"
   ],
   "outputs": [
    {
     "name": "stdout",
     "output_type": "stream",
     "text": [
      "0.6597556874713932\n"
     ]
    }
   ],
   "execution_count": 33
  },
  {
   "cell_type": "markdown",
   "metadata": {},
   "source": [
    "How do we compute the trace of the Jacobian using JVP or VJP operations only?\n",
    "Let $(e_i)_{i=1}^D$ be the canonical basis of $\\mathbb{R}^d$, then for any $M \\in \\mathbb{R}^{d \\times d}$,\n",
    "$$\n",
    "\\mathrm{tr}(M) = \\sum_{i=1}^d e_i^\\top M e_i\n",
    "$$\n",
    "Or tautologically (in terms of identity, not computation)\n",
    "$$\n",
    "\\mathrm{tr}(M) = \\mathrm{tr}(M I_d)\n",
    "$$"
   ]
  },
  {
   "cell_type": "code",
   "metadata": {
    "ExecuteTime": {
     "end_time": "2024-11-27T19:12:54.427728Z",
     "start_time": "2024-11-27T19:12:54.421974Z"
    }
   },
   "source": [
    "x = np.random.randn(D)"
   ],
   "outputs": [],
   "execution_count": 34
  },
  {
   "cell_type": "code",
   "metadata": {
    "ExecuteTime": {
     "end_time": "2024-11-27T19:12:59.197634Z",
     "start_time": "2024-11-27T19:12:59.195099Z"
    }
   },
   "source": [
    "def compute_jac_trace(f, x):\n",
    "    d = x.shape[0]\n",
    "    eis = jnp.eye(d)\n",
    "    val, lin_jvp = linearize(f, x)\n",
    "    temp = vmap(lin_jvp)(eis)\n",
    "    return jnp.trace(temp)"
   ],
   "outputs": [],
   "execution_count": 37
  },
  {
   "cell_type": "code",
   "metadata": {
    "ExecuteTime": {
     "end_time": "2024-11-27T19:12:59.913449Z",
     "start_time": "2024-11-27T19:12:59.843722Z"
    }
   },
   "source": [
    "compute_jac_trace(affine_function, x)"
   ],
   "outputs": [
    {
     "data": {
      "text/plain": [
       "Array(0.6597557, dtype=float32)"
      ]
     },
     "execution_count": 38,
     "metadata": {},
     "output_type": "execute_result"
    }
   ],
   "execution_count": 38
  },
  {
   "cell_type": "markdown",
   "metadata": {},
   "source": [
    "This has complexity $O(d^2)$ even though the JVP operation has complexity $O(d)$..."
   ]
  },
  {
   "cell_type": "markdown",
   "metadata": {},
   "source": [
    "Instead one can use the Hutchinston trick:"
   ]
  },
  {
   "cell_type": "markdown",
   "metadata": {},
   "source": [
    "$\\mathrm{tr}(M) = \\mathbb{E}\\left[\\epsilon^\\top M \\epsilon\\right]$ where $\\epsilon$ is for instance normally distributed: $\\epsilon \\sim \\mathcal{N}(0, I_d)$"
   ]
  },
  {
   "cell_type": "markdown",
   "metadata": {},
   "source": [
    "### Questions:"
   ]
  },
  {
   "metadata": {},
   "cell_type": "markdown",
   "source": [
    "#### Q1:\n",
    "Implement the Hutchinson trick to estimate the trace of the Jacobian of the affine function using Hessian vector products.\n",
    "\n",
    "#### Q2:\n",
    "Assume that $x(a)$ is the fixed point of a function $f(x, a)$, i.e., $x(a) = f(x(a), a)$. How would you compute the derivative of $x(a)$ with respect to $a$?\n",
    "Take inspiration from the square root example above."
   ]
  }
 ],
 "metadata": {
  "kernelspec": {
   "display_name": "Python 3 (ipykernel)",
   "language": "python",
   "name": "python3"
  },
  "language_info": {
   "codemirror_mode": {
    "name": "ipython",
    "version": 3
   },
   "file_extension": ".py",
   "mimetype": "text/x-python",
   "name": "python",
   "nbconvert_exporter": "python",
   "pygments_lexer": "ipython3",
   "version": "3.7.6"
  }
 },
 "nbformat": 4,
 "nbformat_minor": 4
}
