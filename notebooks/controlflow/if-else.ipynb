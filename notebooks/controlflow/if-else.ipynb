{
 "cells": [
  {
   "cell_type": "markdown",
   "metadata": {},
   "source": [
    "# IF-ELSE"
   ]
  },
  {
   "cell_type": "markdown",
   "metadata": {},
   "source": [
    "In this notebook we will consider variants of a fairly simple piecewise constant function:\n",
    "\n",
    "```python\n",
    "def piecewise_constant(x, a, b, c):\n",
    "    if x < a:\n",
    "        return b\n",
    "    else:\n",
    "        return c\n",
    "```\n",
    "\n",
    "and we will try and understand how we can implement them using JAX primitives."
   ]
  },
  {
   "cell_type": "markdown",
   "metadata": {},
   "source": [
    "## JAX imports"
   ]
  },
  {
   "cell_type": "markdown",
   "metadata": {},
   "source": [
    "## Beginner\n",
    "### Prerequisites\n",
    "No prerequisite"
   ]
  },
  {
   "cell_type": "markdown",
   "metadata": {},
   "source": [
    "### Imports"
   ]
  },
  {
   "cell_type": "code",
   "metadata": {
    "ExecuteTime": {
     "end_time": "2024-11-27T19:17:31.331219Z",
     "start_time": "2024-11-27T19:17:31.326431Z"
    }
   },
   "source": [
    "from jax import jit\n",
    "from jax.lax import cond\n",
    "import jax.numpy as jnp"
   ],
   "outputs": [],
   "execution_count": 13
  },
  {
   "cell_type": "markdown",
   "metadata": {},
   "source": [
    "### Example"
   ]
  },
  {
   "cell_type": "markdown",
   "metadata": {},
   "source": [
    "We will first give an example of how to compute the absolute value using JAX:"
   ]
  },
  {
   "cell_type": "code",
   "metadata": {
    "ExecuteTime": {
     "end_time": "2024-11-27T19:17:32.475992Z",
     "start_time": "2024-11-27T19:17:32.473932Z"
    }
   },
   "source": [
    "def my_abs(x):\n",
    "    return x if x > 0 else -x"
   ],
   "outputs": [],
   "execution_count": 14
  },
  {
   "cell_type": "markdown",
   "metadata": {},
   "source": [
    "Would it work?"
   ]
  },
  {
   "cell_type": "code",
   "metadata": {
    "ExecuteTime": {
     "end_time": "2024-11-27T19:17:33.088016Z",
     "start_time": "2024-11-27T19:17:33.084343Z"
    }
   },
   "source": [
    "my_abs(jnp.asarray(-5.0))"
   ],
   "outputs": [
    {
     "data": {
      "text/plain": [
       "Array(5., dtype=float32, weak_type=True)"
      ]
     },
     "execution_count": 15,
     "metadata": {},
     "output_type": "execute_result"
    }
   ],
   "execution_count": 15
  },
  {
   "cell_type": "markdown",
   "metadata": {},
   "source": [
    "Ah yes it would! So why the fuss?"
   ]
  },
  {
   "cell_type": "code",
   "metadata": {
    "collapsed": true,
    "jupyter": {
     "outputs_hidden": true
    },
    "ExecuteTime": {
     "end_time": "2024-11-27T19:17:33.890777Z",
     "start_time": "2024-11-27T19:17:33.868140Z"
    }
   },
   "source": [
    "jit(my_abs)(-5.0)"
   ],
   "outputs": [
    {
     "ename": "TracerBoolConversionError",
     "evalue": "Attempted boolean conversion of traced array with shape bool[].\nThe error occurred while tracing the function my_abs at /tmp/ipykernel_206241/326190723.py:1 for jit. This concrete value was not available in Python because it depends on the value of the argument x.\nSee https://jax.readthedocs.io/en/latest/errors.html#jax.errors.TracerBoolConversionError",
     "output_type": "error",
     "traceback": [
      "\u001B[0;31m---------------------------------------------------------------------------\u001B[0m",
      "\u001B[0;31mTracerBoolConversionError\u001B[0m                 Traceback (most recent call last)",
      "Cell \u001B[0;32mIn[16], line 1\u001B[0m\n\u001B[0;32m----> 1\u001B[0m \u001B[43mjit\u001B[49m\u001B[43m(\u001B[49m\u001B[43mmy_abs\u001B[49m\u001B[43m)\u001B[49m\u001B[43m(\u001B[49m\u001B[38;5;241;43m-\u001B[39;49m\u001B[38;5;241;43m5.0\u001B[39;49m\u001B[43m)\u001B[49m\n",
      "    \u001B[0;31m[... skipping hidden 11 frame]\u001B[0m\n",
      "Cell \u001B[0;32mIn[14], line 2\u001B[0m, in \u001B[0;36mmy_abs\u001B[0;34m(x)\u001B[0m\n\u001B[1;32m      1\u001B[0m \u001B[38;5;28;01mdef\u001B[39;00m \u001B[38;5;21mmy_abs\u001B[39m(x):\n\u001B[0;32m----> 2\u001B[0m     \u001B[38;5;28;01mreturn\u001B[39;00m x \u001B[38;5;28;01mif\u001B[39;00m x \u001B[38;5;241m>\u001B[39m \u001B[38;5;241m0\u001B[39m \u001B[38;5;28;01melse\u001B[39;00m \u001B[38;5;241m-\u001B[39mx\n",
      "    \u001B[0;31m[... skipping hidden 1 frame]\u001B[0m\n",
      "File \u001B[0;32m~/PycharmProjects/.virtualenvs/jax-workshop/lib/python3.12/site-packages/jax/_src/core.py:1554\u001B[0m, in \u001B[0;36mconcretization_function_error.<locals>.error\u001B[0;34m(self, arg)\u001B[0m\n\u001B[1;32m   1553\u001B[0m \u001B[38;5;28;01mdef\u001B[39;00m \u001B[38;5;21merror\u001B[39m(\u001B[38;5;28mself\u001B[39m, arg):\n\u001B[0;32m-> 1554\u001B[0m   \u001B[38;5;28;01mraise\u001B[39;00m TracerBoolConversionError(arg)\n",
      "\u001B[0;31mTracerBoolConversionError\u001B[0m: Attempted boolean conversion of traced array with shape bool[].\nThe error occurred while tracing the function my_abs at /tmp/ipykernel_206241/326190723.py:1 for jit. This concrete value was not available in Python because it depends on the value of the argument x.\nSee https://jax.readthedocs.io/en/latest/errors.html#jax.errors.TracerBoolConversionError"
     ]
    }
   ],
   "execution_count": 16
  },
  {
   "cell_type": "markdown",
   "metadata": {},
   "source": [
    "Actually no it doesn't. And this is really the fundamental trick of JAX: when you write python code you are not really computing anything, you are building a computation graph to which the data will only later be passed. This means that the predicate `x > 0` is not a boolean in JAX world, but instead an instruction to compute a boolean, so that `if x > 0` simply means nothing for it.  \n",
    "So why was it working before the JIT compilation? This is because outside the JIT context the value `x > 0` can be cast to a boolean because it carries over its concrete value."
   ]
  },
  {
   "cell_type": "markdown",
   "metadata": {},
   "source": [
    "So instead of using the `if ... else` syntax, we need to use JAX cond primitive:"
   ]
  },
  {
   "cell_type": "markdown",
   "metadata": {},
   "source": [
    "This can be done in full details using the following code:"
   ]
  },
  {
   "cell_type": "code",
   "metadata": {
    "ExecuteTime": {
     "end_time": "2024-11-27T19:17:35.344552Z",
     "start_time": "2024-11-27T19:17:35.299295Z"
    }
   },
   "source": [
    "def jax_abs(x):\n",
    "    predicate = x > 0\n",
    "\n",
    "    def true_fun(z):\n",
    "        return z\n",
    "\n",
    "    def false_fun(z):\n",
    "        return -z\n",
    "\n",
    "    result = cond(\n",
    "        predicate,  # predicate for the if\n",
    "        true_fun,  # function to call on operand if predicate is true\n",
    "        false_fun,  # function to call on operand otherwise\n",
    "        operand=x,  # operand to be passed to either true_fun or false_fun\n",
    "    )\n",
    "\n",
    "    return result\n",
    "\n",
    "\n",
    "print(jax_abs(-5.0))"
   ],
   "outputs": [
    {
     "name": "stdout",
     "output_type": "stream",
     "text": [
      "5.0\n"
     ]
    }
   ],
   "execution_count": 17
  },
  {
   "cell_type": "markdown",
   "metadata": {},
   "source": [
    "People familiar with C-like languages might have realised that cond acts quite similarly to the trinary operation `a?b:c;`"
   ]
  },
  {
   "cell_type": "markdown",
   "metadata": {},
   "source": [
    "This can be written more compactly as "
   ]
  },
  {
   "cell_type": "code",
   "metadata": {
    "ExecuteTime": {
     "end_time": "2024-11-27T19:17:37.722642Z",
     "start_time": "2024-11-27T19:17:37.706142Z"
    }
   },
   "source": [
    "def compact_jax_abs(x):\n",
    "    return cond(x > 0, lambda z: z, lambda z: -z, operand=x)\n",
    "\n",
    "\n",
    "print(compact_jax_abs(-5.0))"
   ],
   "outputs": [
    {
     "name": "stdout",
     "output_type": "stream",
     "text": [
      "5.0\n"
     ]
    }
   ],
   "execution_count": 18
  },
  {
   "cell_type": "markdown",
   "metadata": {},
   "source": [
    "### Questions:"
   ]
  },
  {
   "cell_type": "markdown",
   "metadata": {},
   "source": [
    "#### Q1: \n",
    "Consider the following implementation:"
   ]
  },
  {
   "cell_type": "code",
   "metadata": {
    "ExecuteTime": {
     "end_time": "2024-11-27T19:17:39.486372Z",
     "start_time": "2024-11-27T19:17:39.475780Z"
    }
   },
   "source": [
    "def other_jax_abs(x):\n",
    "    return cond(x > 0, lambda z: z[0], lambda z: z[1], operand=(x, -x))\n",
    "\n",
    "\n",
    "print(other_jax_abs(-5.0))"
   ],
   "outputs": [
    {
     "name": "stdout",
     "output_type": "stream",
     "text": [
      "5.0\n"
     ]
    }
   ],
   "execution_count": 19
  },
  {
   "cell_type": "markdown",
   "metadata": {},
   "source": [
    "What is the difference with the `compact_jax_abs` implementation? Which one is better? Why?"
   ]
  },
  {
   "cell_type": "markdown",
   "metadata": {},
   "source": [
    "#### Q2:\n",
    "Implement the `piecewise_constant` function using cond only."
   ]
  },
  {
   "cell_type": "code",
   "metadata": {
    "ExecuteTime": {
     "end_time": "2024-11-27T19:17:41.682345Z",
     "start_time": "2024-11-27T19:17:41.665138Z"
    }
   },
   "source": [
    "def piecewise_constant(x, a, b, c):\n",
    "    pass\n",
    "\n",
    "\n",
    "assert piecewise_constant(0.1, 0.0, 1.0, 2.0) == 2.0"
   ],
   "outputs": [
    {
     "ename": "AssertionError",
     "evalue": "",
     "output_type": "error",
     "traceback": [
      "\u001B[0;31m---------------------------------------------------------------------------\u001B[0m",
      "\u001B[0;31mAssertionError\u001B[0m                            Traceback (most recent call last)",
      "Cell \u001B[0;32mIn[20], line 5\u001B[0m\n\u001B[1;32m      1\u001B[0m \u001B[38;5;28;01mdef\u001B[39;00m \u001B[38;5;21mpiecewise_constant\u001B[39m(x, a, b, c):\n\u001B[1;32m      2\u001B[0m     \u001B[38;5;28;01mpass\u001B[39;00m\n\u001B[0;32m----> 5\u001B[0m \u001B[38;5;28;01massert\u001B[39;00m piecewise_constant(\u001B[38;5;241m0.1\u001B[39m, \u001B[38;5;241m0.0\u001B[39m, \u001B[38;5;241m1.0\u001B[39m, \u001B[38;5;241m2.0\u001B[39m) \u001B[38;5;241m==\u001B[39m \u001B[38;5;241m2.0\u001B[39m\n",
      "\u001B[0;31mAssertionError\u001B[0m: "
     ]
    }
   ],
   "execution_count": 20
  },
  {
   "cell_type": "markdown",
   "metadata": {},
   "source": [
    "## Intermediate\n",
    "### Prerequisites\n",
    "- Beginner if-else  \n",
    "- Beginner vectorisation\n",
    "- Numpy  "
   ]
  },
  {
   "cell_type": "markdown",
   "metadata": {},
   "source": [
    "### Imports"
   ]
  },
  {
   "cell_type": "code",
   "metadata": {
    "ExecuteTime": {
     "end_time": "2024-11-27T19:18:15.578489Z",
     "start_time": "2024-11-27T19:18:15.572451Z"
    }
   },
   "source": [
    "from jax import vmap\n",
    "from jax.lax import cond\n",
    "\n",
    "import jax.numpy as jnp\n",
    "\n",
    "import numpy as np"
   ],
   "outputs": [],
   "execution_count": 22
  },
  {
   "cell_type": "markdown",
   "metadata": {},
   "source": [
    "Now that we know how to compute if-else predicates for scalar inputs, how do we extend this to tensor inputs?"
   ]
  },
  {
   "cell_type": "markdown",
   "metadata": {},
   "source": [
    "### Example"
   ]
  },
  {
   "cell_type": "markdown",
   "metadata": {},
   "source": [
    "Fundamentally, JAX already implements the `abs` function so you shouldn't have to care about this, but how would we replicate the result using only their high-level primitives?\n",
    "```python\n",
    "def my_abs(x):\n",
    "    return jnp.abs(x)\n",
    "```\n",
    "We will use the following array as an input:"
   ]
  },
  {
   "cell_type": "code",
   "metadata": {
    "ExecuteTime": {
     "end_time": "2024-11-27T19:18:17.047565Z",
     "start_time": "2024-11-27T19:18:17.045587Z"
    }
   },
   "source": [
    "arr = np.array([-1.0, 0.0, 1.0])"
   ],
   "outputs": [],
   "execution_count": 23
  },
  {
   "cell_type": "markdown",
   "metadata": {},
   "source": [
    "Let's try to use the code we used for the Beginner level and see what happens:"
   ]
  },
  {
   "cell_type": "code",
   "metadata": {
    "ExecuteTime": {
     "end_time": "2024-11-27T19:18:17.932380Z",
     "start_time": "2024-11-27T19:18:17.886718Z"
    }
   },
   "source": [
    "def jax_abs(x):\n",
    "    predicate = x > 0\n",
    "\n",
    "    def true_fun(z):\n",
    "        return z\n",
    "\n",
    "    def false_fun(z):\n",
    "        return -z\n",
    "\n",
    "    result = cond(\n",
    "        predicate,  # predicate for the if\n",
    "        true_fun,  # function to call on operand if predicate is true\n",
    "        false_fun,  # function to call on operand otherwise\n",
    "        operand=x,  # operand to be passed to either true_fun or false_fun\n",
    "    )\n",
    "\n",
    "    return result\n",
    "\n",
    "\n",
    "print(jax_abs(arr))"
   ],
   "outputs": [
    {
     "ename": "TypeError",
     "evalue": "Pred must be a scalar, got [False False  True] of shape (3,).",
     "output_type": "error",
     "traceback": [
      "\u001B[0;31m---------------------------------------------------------------------------\u001B[0m",
      "\u001B[0;31mTypeError\u001B[0m                                 Traceback (most recent call last)",
      "Cell \u001B[0;32mIn[24], line 20\u001B[0m\n\u001B[1;32m     10\u001B[0m     result \u001B[38;5;241m=\u001B[39m cond(\n\u001B[1;32m     11\u001B[0m         predicate,  \u001B[38;5;66;03m# predicate for the if\u001B[39;00m\n\u001B[1;32m     12\u001B[0m         true_fun,  \u001B[38;5;66;03m# function to call on operand if predicate is true\u001B[39;00m\n\u001B[1;32m     13\u001B[0m         false_fun,  \u001B[38;5;66;03m# function to call on operand otherwise\u001B[39;00m\n\u001B[1;32m     14\u001B[0m         operand\u001B[38;5;241m=\u001B[39mx,  \u001B[38;5;66;03m# operand to be passed to either true_fun or false_fun\u001B[39;00m\n\u001B[1;32m     15\u001B[0m     )\n\u001B[1;32m     17\u001B[0m     \u001B[38;5;28;01mreturn\u001B[39;00m result\n\u001B[0;32m---> 20\u001B[0m \u001B[38;5;28mprint\u001B[39m(\u001B[43mjax_abs\u001B[49m\u001B[43m(\u001B[49m\u001B[43marr\u001B[49m\u001B[43m)\u001B[49m)\n",
      "Cell \u001B[0;32mIn[24], line 10\u001B[0m, in \u001B[0;36mjax_abs\u001B[0;34m(x)\u001B[0m\n\u001B[1;32m      7\u001B[0m \u001B[38;5;28;01mdef\u001B[39;00m \u001B[38;5;21mfalse_fun\u001B[39m(z):\n\u001B[1;32m      8\u001B[0m     \u001B[38;5;28;01mreturn\u001B[39;00m \u001B[38;5;241m-\u001B[39mz\n\u001B[0;32m---> 10\u001B[0m result \u001B[38;5;241m=\u001B[39m \u001B[43mcond\u001B[49m\u001B[43m(\u001B[49m\n\u001B[1;32m     11\u001B[0m \u001B[43m    \u001B[49m\u001B[43mpredicate\u001B[49m\u001B[43m,\u001B[49m\u001B[43m  \u001B[49m\u001B[38;5;66;43;03m# predicate for the if\u001B[39;49;00m\n\u001B[1;32m     12\u001B[0m \u001B[43m    \u001B[49m\u001B[43mtrue_fun\u001B[49m\u001B[43m,\u001B[49m\u001B[43m  \u001B[49m\u001B[38;5;66;43;03m# function to call on operand if predicate is true\u001B[39;49;00m\n\u001B[1;32m     13\u001B[0m \u001B[43m    \u001B[49m\u001B[43mfalse_fun\u001B[49m\u001B[43m,\u001B[49m\u001B[43m  \u001B[49m\u001B[38;5;66;43;03m# function to call on operand otherwise\u001B[39;49;00m\n\u001B[1;32m     14\u001B[0m \u001B[43m    \u001B[49m\u001B[43moperand\u001B[49m\u001B[38;5;241;43m=\u001B[39;49m\u001B[43mx\u001B[49m\u001B[43m,\u001B[49m\u001B[43m  \u001B[49m\u001B[38;5;66;43;03m# operand to be passed to either true_fun or false_fun\u001B[39;49;00m\n\u001B[1;32m     15\u001B[0m \u001B[43m\u001B[49m\u001B[43m)\u001B[49m\n\u001B[1;32m     17\u001B[0m \u001B[38;5;28;01mreturn\u001B[39;00m result\n",
      "    \u001B[0;31m[... skipping hidden 2 frame]\u001B[0m\n",
      "File \u001B[0;32m~/PycharmProjects/.virtualenvs/jax-workshop/lib/python3.12/site-packages/jax/_src/lax/control_flow/conditionals.py:210\u001B[0m, in \u001B[0;36m_cond\u001B[0;34m(***failed resolving arguments***)\u001B[0m\n\u001B[1;32m    208\u001B[0m   \u001B[38;5;28;01mraise\u001B[39;00m \u001B[38;5;167;01mTypeError\u001B[39;00m(\u001B[38;5;124m\"\u001B[39m\u001B[38;5;124mcond predicate is None\u001B[39m\u001B[38;5;124m\"\u001B[39m)\n\u001B[1;32m    209\u001B[0m \u001B[38;5;28;01mif\u001B[39;00m \u001B[38;5;28misinstance\u001B[39m(pred, Sequence) \u001B[38;5;129;01mor\u001B[39;00m np\u001B[38;5;241m.\u001B[39mndim(pred) \u001B[38;5;241m!=\u001B[39m \u001B[38;5;241m0\u001B[39m:\n\u001B[0;32m--> 210\u001B[0m   \u001B[38;5;28;01mraise\u001B[39;00m \u001B[38;5;167;01mTypeError\u001B[39;00m(\n\u001B[1;32m    211\u001B[0m       \u001B[38;5;124mf\u001B[39m\u001B[38;5;124m\"\u001B[39m\u001B[38;5;124mPred must be a scalar, got \u001B[39m\u001B[38;5;132;01m{\u001B[39;00mpred\u001B[38;5;132;01m}\u001B[39;00m\u001B[38;5;124m of \u001B[39m\u001B[38;5;124m\"\u001B[39m \u001B[38;5;241m+\u001B[39m\n\u001B[1;32m    212\u001B[0m       (\u001B[38;5;124mf\u001B[39m\u001B[38;5;124m\"\u001B[39m\u001B[38;5;124mtype \u001B[39m\u001B[38;5;132;01m{\u001B[39;00m\u001B[38;5;28mtype\u001B[39m(pred)\u001B[38;5;132;01m}\u001B[39;00m\u001B[38;5;124m\"\u001B[39m \u001B[38;5;28;01mif\u001B[39;00m \u001B[38;5;28misinstance\u001B[39m(pred, Sequence)\n\u001B[1;32m    213\u001B[0m        \u001B[38;5;28;01melse\u001B[39;00m \u001B[38;5;124mf\u001B[39m\u001B[38;5;124m\"\u001B[39m\u001B[38;5;124mshape \u001B[39m\u001B[38;5;132;01m{\u001B[39;00mnp\u001B[38;5;241m.\u001B[39mshape(pred)\u001B[38;5;132;01m}\u001B[39;00m\u001B[38;5;124m.\u001B[39m\u001B[38;5;124m\"\u001B[39m))\n\u001B[1;32m    215\u001B[0m \u001B[38;5;28;01mtry\u001B[39;00m:\n\u001B[1;32m    216\u001B[0m   pred_dtype \u001B[38;5;241m=\u001B[39m dtypes\u001B[38;5;241m.\u001B[39mresult_type(pred)\n",
      "\u001B[0;31mTypeError\u001B[0m: Pred must be a scalar, got [False False  True] of shape (3,)."
     ]
    }
   ],
   "execution_count": 24
  },
  {
   "cell_type": "markdown",
   "metadata": {},
   "source": [
    "So we simply can't use the same trick. We are left with two choices: we can either use numpy API (just not np.abs for the sake of the exercise though) or try to be smart.\n"
   ]
  },
  {
   "cell_type": "code",
   "metadata": {
    "ExecuteTime": {
     "end_time": "2024-11-27T19:18:21.757264Z",
     "start_time": "2024-11-27T19:18:21.743737Z"
    }
   },
   "source": [
    "def jax_numpy_abs(x):\n",
    "    return jnp.where(x > 0, x, -x)\n",
    "\n",
    "\n",
    "print(jax_numpy_abs(arr))"
   ],
   "outputs": [
    {
     "name": "stdout",
     "output_type": "stream",
     "text": [
      "[ 1. -0.  1.]\n"
     ]
    }
   ],
   "execution_count": 25
  },
  {
   "cell_type": "markdown",
   "metadata": {},
   "source": [
    "### Let's try to be smart\n",
    "Let's try to be smart and use the primitives we learned about in the vectorisation notebook:"
   ]
  },
  {
   "cell_type": "code",
   "metadata": {
    "ExecuteTime": {
     "end_time": "2024-11-27T19:18:23.200291Z",
     "start_time": "2024-11-27T19:18:23.132136Z"
    }
   },
   "source": [
    "vmap_abs = vmap(jax_abs)\n",
    "print(vmap_abs(arr))"
   ],
   "outputs": [
    {
     "name": "stdout",
     "output_type": "stream",
     "text": [
      "[ 1. -0.  1.]\n"
     ]
    }
   ],
   "execution_count": 26
  },
  {
   "cell_type": "code",
   "metadata": {
    "ExecuteTime": {
     "end_time": "2024-11-27T19:18:23.679965Z",
     "start_time": "2024-11-27T19:18:23.663514Z"
    }
   },
   "source": [
    "vectorized_abs = jnp.vectorize(jax_abs, signature=\"()->()\")\n",
    "print(vectorized_abs(arr))"
   ],
   "outputs": [
    {
     "name": "stdout",
     "output_type": "stream",
     "text": [
      "[ 1. -0.  1.]\n"
     ]
    }
   ],
   "execution_count": 27
  },
  {
   "cell_type": "markdown",
   "metadata": {},
   "source": [
    "### Questions:"
   ]
  },
  {
   "cell_type": "markdown",
   "metadata": {},
   "source": [
    "#### Q1: \n",
    "Compare the three different implementations (you can use the utility `make_jaxpr` to see the code generated), what do you think is happening in the background?"
   ]
  },
  {
   "cell_type": "markdown",
   "metadata": {},
   "source": [
    "#### Q2:\n",
    "Implement the vectorised `piecewise_constant` function using the three different techniques."
   ]
  },
  {
   "cell_type": "markdown",
   "metadata": {},
   "source": [
    "## Advanced\n",
    "### Prerequisites\n",
    "- Intermediate if-else  "
   ]
  },
  {
   "cell_type": "markdown",
   "metadata": {},
   "source": [
    "### Imports"
   ]
  },
  {
   "cell_type": "code",
   "metadata": {
    "ExecuteTime": {
     "end_time": "2024-11-27T19:18:26.469734Z",
     "start_time": "2024-11-27T19:18:26.459913Z"
    }
   },
   "source": [
    "from jax import make_jaxpr\n",
    "from jax.lax import cond, switch\n",
    "import jax.numpy as jnp\n",
    "\n",
    "import numpy as np"
   ],
   "outputs": [],
   "execution_count": 28
  },
  {
   "cell_type": "markdown",
   "metadata": {},
   "source": [
    "Now that we know how to compute if-else predicates for vectorized inputs, what happens when we have more than one condition?"
   ]
  },
  {
   "cell_type": "markdown",
   "metadata": {},
   "source": [
    "The goal here is to implement an extension of the piecewise constant function:"
   ]
  },
  {
   "cell_type": "code",
   "metadata": {
    "ExecuteTime": {
     "end_time": "2024-11-27T19:18:27.774475Z",
     "start_time": "2024-11-27T19:18:27.771917Z"
    }
   },
   "source": [
    "def piecewise_constant(x, xs, ys):\n",
    "    # len(xs) = len(ys) - 2\n",
    "    # xs are considered to be sorted\n",
    "    if x < xs[0]:\n",
    "        return ys[0]\n",
    "    for xi, yi in zip(xs, ys[:-1]):\n",
    "        if x >= xi:\n",
    "            continue\n",
    "        return yi\n",
    "    return ys[-1]"
   ],
   "outputs": [],
   "execution_count": 29
  },
  {
   "cell_type": "markdown",
   "metadata": {},
   "source": [
    "For which we will consider the following inputs"
   ]
  },
  {
   "cell_type": "code",
   "metadata": {
    "ExecuteTime": {
     "end_time": "2024-11-27T19:18:28.771006Z",
     "start_time": "2024-11-27T19:18:28.768198Z"
    }
   },
   "source": [
    "arr_xs = np.array([-1.0, 0.0, 1.0])\n",
    "arr_ys = np.array([0.2, 0.4, 0.0, 0.1])\n",
    "\n",
    "arr_x = np.array([0.5, -2.0, 3.0, -1.5, -0.4])"
   ],
   "outputs": [],
   "execution_count": 30
  },
  {
   "cell_type": "markdown",
   "metadata": {},
   "source": [
    "### Example"
   ]
  },
  {
   "cell_type": "markdown",
   "metadata": {},
   "source": [
    "First thing first let's look at the switch function:"
   ]
  },
  {
   "cell_type": "code",
   "metadata": {
    "ExecuteTime": {
     "end_time": "2024-11-27T19:18:29.731825Z",
     "start_time": "2024-11-27T19:18:29.728526Z"
    }
   },
   "source": [
    "help(switch)"
   ],
   "outputs": [
    {
     "name": "stdout",
     "output_type": "stream",
     "text": [
      "Help on function switch in module jax._src.lax.control_flow.conditionals:\n",
      "\n",
      "switch(index, branches: 'Sequence[Callable]', *operands, operand=<object object at 0x7006827c5800>)\n",
      "    Apply exactly one of the ``branches`` given by ``index``.\n",
      "\n",
      "    If ``index`` is out of bounds, it is clamped to within bounds.\n",
      "\n",
      "    Has the semantics of the following Python::\n",
      "\n",
      "      def switch(index, branches, *operands):\n",
      "        index = clamp(0, index, len(branches) - 1)\n",
      "        return branches[index](*operands)\n",
      "\n",
      "    Internally this wraps XLA's `Conditional\n",
      "    <https://www.tensorflow.org/xla/operation_semantics#conditional>`_\n",
      "    operator. However, when transformed with :func:`~jax.vmap` to operate over a\n",
      "    batch of predicates, ``cond`` is converted to :func:`~jax.lax.select`.\n",
      "\n",
      "    Args:\n",
      "      index: Integer scalar type, indicating which branch function to apply.\n",
      "      branches: Sequence of functions (A -> B) to be applied based on ``index``.\n",
      "      operands: Operands (A) input to whichever branch is applied.\n",
      "\n",
      "    Returns:\n",
      "      Value (B) of ``branch(*operands)`` for the branch that was selected based\n",
      "      on ``index``.\n",
      "\n"
     ]
    }
   ],
   "execution_count": 31
  },
  {
   "cell_type": "markdown",
   "metadata": {},
   "source": [
    "So we can rewrite our absolute function in terms of the switch function:"
   ]
  },
  {
   "cell_type": "code",
   "metadata": {
    "ExecuteTime": {
     "end_time": "2024-11-27T19:18:29.982351Z",
     "start_time": "2024-11-27T19:18:29.954484Z"
    }
   },
   "source": [
    "def jax_abs_switch(x):\n",
    "    branches = [lambda z: -z, lambda z: z]\n",
    "    index = jnp.asarray(x > 0, jnp.int32)\n",
    "    return switch(index, branches, x)\n",
    "\n",
    "\n",
    "print(jax_abs_switch(5.0))"
   ],
   "outputs": [
    {
     "name": "stdout",
     "output_type": "stream",
     "text": [
      "5.0\n"
     ]
    }
   ],
   "execution_count": 32
  },
  {
   "cell_type": "markdown",
   "metadata": {},
   "source": [
    "So now let's have a look and see what we really did:"
   ]
  },
  {
   "cell_type": "code",
   "metadata": {
    "ExecuteTime": {
     "end_time": "2024-11-27T19:18:30.578286Z",
     "start_time": "2024-11-27T19:18:30.570295Z"
    }
   },
   "source": [
    "make_jaxpr(jax_abs_switch)(-5.0)"
   ],
   "outputs": [
    {
     "data": {
      "text/plain": [
       "{ lambda ; a:f32[]. let\n",
       "    b:bool[] = gt a 0.0\n",
       "    c:i32[] = convert_element_type[new_dtype=int32 weak_type=False] b\n",
       "    d:i32[] = clamp 0 c 1\n",
       "    e:f32[] = cond[\n",
       "      branches=(\n",
       "        { lambda ; f:f32[]. let g:f32[] = neg f in (g,) }\n",
       "        { lambda ; h:f32[]. let  in (h,) }\n",
       "      )\n",
       "    ] d a\n",
       "  in (e,) }"
      ]
     },
     "execution_count": 33,
     "metadata": {},
     "output_type": "execute_result"
    }
   ],
   "execution_count": 33
  },
  {
   "cell_type": "code",
   "metadata": {
    "ExecuteTime": {
     "end_time": "2024-11-27T19:18:30.902711Z",
     "start_time": "2024-11-27T19:18:30.897407Z"
    }
   },
   "source": [
    "make_jaxpr(compact_jax_abs)(-5.0)"
   ],
   "outputs": [
    {
     "data": {
      "text/plain": [
       "{ lambda ; a:f32[]. let\n",
       "    b:bool[] = gt a 0.0\n",
       "    c:i32[] = convert_element_type[new_dtype=int32 weak_type=False] b\n",
       "    d:f32[] = cond[\n",
       "      branches=(\n",
       "        { lambda ; e:f32[]. let f:f32[] = neg e in (f,) }\n",
       "        { lambda ; g:f32[]. let  in (g,) }\n",
       "      )\n",
       "    ] c a\n",
       "  in (d,) }"
      ]
     },
     "execution_count": 34,
     "metadata": {},
     "output_type": "execute_result"
    }
   ],
   "execution_count": 34
  },
  {
   "cell_type": "markdown",
   "metadata": {},
   "source": [
    "Well we did nothing! So `cond` is just a special case of `switch`, and in particular stacking `cond` in the hope of a better performance would be a very bad idea."
   ]
  },
  {
   "cell_type": "markdown",
   "metadata": {},
   "source": [
    "### Questions:"
   ]
  },
  {
   "cell_type": "markdown",
   "metadata": {},
   "source": [
    "#### Q1: \n",
    "Implement the generelized `piecewise_constant` using `switch`, assuming the data is sorted."
   ]
  },
  {
   "cell_type": "markdown",
   "metadata": {},
   "source": [
    "#### Q2:\n",
    "If you are already familiar with the loops primitives, implement the generelized `piecewise_constant` using `loops` and `cond` and compare the generated code."
   ]
  },
  {
   "cell_type": "markdown",
   "metadata": {},
   "source": [
    "#### Q3:\n",
    "How would you vectorize this function? Compare the naive vmap with the `jnp.select` approach."
   ]
  }
 ],
 "metadata": {
  "kernelspec": {
   "display_name": "Python 3 (ipykernel)",
   "language": "python",
   "name": "python3"
  },
  "language_info": {
   "codemirror_mode": {
    "name": "ipython",
    "version": 3
   },
   "file_extension": ".py",
   "mimetype": "text/x-python",
   "name": "python",
   "nbconvert_exporter": "python",
   "pygments_lexer": "ipython3",
   "version": "3.7.6"
  }
 },
 "nbformat": 4,
 "nbformat_minor": 4
}
