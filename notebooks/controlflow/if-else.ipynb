{
 "cells": [
  {
   "cell_type": "markdown",
   "metadata": {},
   "source": [
    "# IF-ELSE"
   ]
  },
  {
   "cell_type": "markdown",
   "metadata": {},
   "source": [
    "In this notebook we will consider variants of a fairly simple piecewise constant function:\n",
    "\n",
    "```python\n",
    "def piecewise_constant(x, a, b, c):\n",
    "    if x < a:\n",
    "        return b\n",
    "    else:\n",
    "        return c\n",
    "```\n",
    "\n",
    "and we will try and understand how we can implement them using JAX primitives."
   ]
  },
  {
   "cell_type": "markdown",
   "metadata": {},
   "source": [
    "## JAX imports"
   ]
  },
  {
   "cell_type": "markdown",
   "metadata": {},
   "source": [
    "## Beginner\n",
    "### Prerequisites\n",
    "No prerequisite"
   ]
  },
  {
   "cell_type": "markdown",
   "metadata": {},
   "source": [
    "### Imports"
   ]
  },
  {
   "cell_type": "code",
   "execution_count": 114,
   "metadata": {},
   "outputs": [],
   "source": [
    "from jax.lax import cond"
   ]
  },
  {
   "cell_type": "markdown",
   "metadata": {},
   "source": [
    "### Example"
   ]
  },
  {
   "cell_type": "markdown",
   "metadata": {},
   "source": [
    "We will first give an example of how to compute the absolute value using JAX:\n",
    "```python\n",
    "def my_abs(x):\n",
    "    return x if x > 0 else -x\n",
    "```"
   ]
  },
  {
   "cell_type": "markdown",
   "metadata": {},
   "source": [
    "It can be written in full details using the following code:"
   ]
  },
  {
   "cell_type": "code",
   "execution_count": 13,
   "metadata": {},
   "outputs": [],
   "source": [
    "def jax_abs(x):\n",
    "    predicate = x > 0\n",
    "    \n",
    "    def true_fun(z):\n",
    "        return z\n",
    "    \n",
    "    def false_fun(z):\n",
    "        return -z\n",
    "    \n",
    "    result = cond(\n",
    "        predicate,  # predicate for the if\n",
    "        true_fun, # function to call on operand if predicate is true\n",
    "        false_fun,  # function to call on operand otherwise\n",
    "        operand=x  # operand to be passed to either true_fun or false_fun\n",
    "                 )\n",
    "    \n",
    "    return result\n",
    "\n",
    "print(jax_abs(-5.))"
   ]
  },
  {
   "cell_type": "markdown",
   "metadata": {},
   "source": [
    "People familiar with C-like languages might have realised that cond acts quite similarly to the trinary operation `a?b:c;`"
   ]
  },
  {
   "cell_type": "markdown",
   "metadata": {},
   "source": [
    "This can be written more compactly as "
   ]
  },
  {
   "cell_type": "code",
   "execution_count": 14,
   "metadata": {},
   "outputs": [],
   "source": [
    "def compact_jax_abs(x):\n",
    "    return cond(x > 0,\n",
    "                lambda z: z, \n",
    "                lambda z: -z,\n",
    "                operand=x)\n",
    "\n",
    "print(compact_jax_abs(-5.))"
   ]
  },
  {
   "cell_type": "markdown",
   "metadata": {},
   "source": [
    "### Questions:"
   ]
  },
  {
   "cell_type": "markdown",
   "metadata": {},
   "source": [
    "#### Q1: \n",
    "Consider the following implementation:"
   ]
  },
  {
   "cell_type": "code",
   "execution_count": 115,
   "metadata": {},
   "outputs": [
    {
     "name": "stdout",
     "output_type": "stream",
     "text": [
      "5.0\n"
     ]
    }
   ],
   "source": [
    "def other_jax_abs(x):\n",
    "    return cond(x > 0,\n",
    "                lambda z: z[0], \n",
    "                lambda z: z[1], \n",
    "                operand=(x, -x))\n",
    "\n",
    "print(other_jax_abs(-5.))"
   ]
  },
  {
   "cell_type": "markdown",
   "metadata": {},
   "source": [
    "What is the difference with the `compact_jax_abs` implementation? Which one is better? Why?"
   ]
  },
  {
   "cell_type": "markdown",
   "metadata": {},
   "source": [
    "#### Q2:\n",
    "Implement the `piecewise_constant` function using cond only."
   ]
  },
  {
   "cell_type": "code",
   "execution_count": 24,
   "metadata": {},
   "outputs": [
    {
     "ename": "AssertionError",
     "evalue": "",
     "output_type": "error",
     "traceback": [
      "\u001b[0;31m---------------------------------------------------------------------------\u001b[0m",
      "\u001b[0;31mAssertionError\u001b[0m                            Traceback (most recent call last)",
      "\u001b[0;32m<ipython-input-24-e0287a1f5abd>\u001b[0m in \u001b[0;36m<module>\u001b[0;34m\u001b[0m\n\u001b[1;32m      2\u001b[0m     \u001b[0;32mpass\u001b[0m\u001b[0;34m\u001b[0m\u001b[0;34m\u001b[0m\u001b[0m\n\u001b[1;32m      3\u001b[0m \u001b[0;34m\u001b[0m\u001b[0m\n\u001b[0;32m----> 4\u001b[0;31m \u001b[0;32massert\u001b[0m \u001b[0mpiecewise_constant\u001b[0m\u001b[0;34m(\u001b[0m\u001b[0;36m0.1\u001b[0m\u001b[0;34m,\u001b[0m \u001b[0;36m0.\u001b[0m\u001b[0;34m,\u001b[0m \u001b[0;36m1.\u001b[0m\u001b[0;34m,\u001b[0m \u001b[0;36m2.\u001b[0m\u001b[0;34m)\u001b[0m \u001b[0;34m==\u001b[0m \u001b[0;36m2.\u001b[0m\u001b[0;34m\u001b[0m\u001b[0;34m\u001b[0m\u001b[0m\n\u001b[0m",
      "\u001b[0;31mAssertionError\u001b[0m: "
     ]
    }
   ],
   "source": [
    "def piecewise_constant(x, a, b, c):\n",
    "    pass\n",
    "\n",
    "assert piecewise_constant(0.1, 0., 1., 2.) == 2."
   ]
  },
  {
   "cell_type": "markdown",
   "metadata": {},
   "source": [
    "## Intermediate\n",
    "### Prerequisites\n",
    "- Beginner if-else  \n",
    "- Beginner vectorisation\n",
    "- Numpy  "
   ]
  },
  {
   "cell_type": "markdown",
   "metadata": {},
   "source": [
    "### Imports"
   ]
  },
  {
   "cell_type": "code",
   "execution_count": 119,
   "metadata": {},
   "outputs": [],
   "source": [
    "from jax import vmap, make_jaxpr\n",
    "from jax.lax import cond\n",
    "import jax.numpy as jax_np\n",
    "\n",
    "import numpy as np"
   ]
  },
  {
   "cell_type": "markdown",
   "metadata": {},
   "source": [
    "Now that we know how to compute if-else predicates for scalar inputs, how do we extend this to tensor inputs?"
   ]
  },
  {
   "cell_type": "markdown",
   "metadata": {},
   "source": [
    "### Example"
   ]
  },
  {
   "cell_type": "markdown",
   "metadata": {},
   "source": [
    "Fundamentally, JAX already implements the `abs` function so you shouldn't have to care about this, but how would we replicate the result using only their high-level primitives?\n",
    "```python\n",
    "def my_abs(x):\n",
    "    return jnp.abs(x)\n",
    "```\n",
    "We will use the following array as an input:"
   ]
  },
  {
   "cell_type": "code",
   "execution_count": 120,
   "metadata": {},
   "outputs": [],
   "source": [
    "arr = np.array([-1., 0., 1.])"
   ]
  },
  {
   "cell_type": "markdown",
   "metadata": {},
   "source": [
    "Let's try to use the code we used for the Beginner level and see what happens:"
   ]
  },
  {
   "cell_type": "code",
   "execution_count": 121,
   "metadata": {},
   "outputs": [],
   "source": [
    "def jax_abs(x):\n",
    "    predicate = x > 0\n",
    "    \n",
    "    def true_fun(z):\n",
    "        return z\n",
    "    \n",
    "    def false_fun(z):\n",
    "        return -z\n",
    "    \n",
    "    result = cond(\n",
    "        predicate,  # predicate for the if\n",
    "        true_fun, # function to call on operand if predicate is true\n",
    "        false_fun,  # function to call on operand otherwise\n",
    "        operand=x  # operand to be passed to either true_fun or false_fun\n",
    "                 )\n",
    "    \n",
    "    return result\n",
    "\n",
    "print(jax_abs(arr))"
   ]
  },
  {
   "cell_type": "markdown",
   "metadata": {},
   "source": [
    "So we simply can't use the same trick. We are left with two choices: we can either use numpy API (just not np.abs for the sake of the exercise though) or try to be smart.\n"
   ]
  },
  {
   "cell_type": "code",
   "execution_count": 123,
   "metadata": {},
   "outputs": [
    {
     "name": "stdout",
     "output_type": "stream",
     "text": [
      "[ 1. -0.  1.]\n"
     ]
    }
   ],
   "source": [
    "def jax_numpy_abs(x):\n",
    "    return jax_np.where(x>0, x, -x)\n",
    "\n",
    "print(jax_numpy_abs(arr))"
   ]
  },
  {
   "cell_type": "markdown",
   "metadata": {},
   "source": [
    "### Let's try to be smart\n",
    "Let's try to be smart and use the primitives we learned about in the vectorisation notebook:"
   ]
  },
  {
   "cell_type": "code",
   "execution_count": 53,
   "metadata": {},
   "outputs": [
    {
     "name": "stdout",
     "output_type": "stream",
     "text": [
      "[ 1. -0.  1.]\n"
     ]
    }
   ],
   "source": [
    "vmap_abs = vmap(jax_abs)\n",
    "print(vmap_abs(arr))"
   ]
  },
  {
   "cell_type": "code",
   "execution_count": 124,
   "metadata": {},
   "outputs": [
    {
     "name": "stdout",
     "output_type": "stream",
     "text": [
      "[ 1. -0.  1.]\n"
     ]
    }
   ],
   "source": [
    "vectorized_abs = jax_np.vectorize(jax_abs, signature=\"()->()\")\n",
    "print(vectorized_abs(arr))"
   ]
  },
  {
   "cell_type": "markdown",
   "metadata": {},
   "source": [
    "### Questions:"
   ]
  },
  {
   "cell_type": "markdown",
   "metadata": {},
   "source": [
    "#### Q1: \n",
    "Compare the three different implementations (you can use the utility `make_jaxpr` to see the code generated), what do you think is happening in the background?"
   ]
  },
  {
   "cell_type": "markdown",
   "metadata": {},
   "source": [
    "#### Q2:\n",
    "Implement the vectorised `piecewise_constant` function using the three different techniques."
   ]
  },
  {
   "cell_type": "markdown",
   "metadata": {},
   "source": [
    "## Advanced\n",
    "### Prerequisites\n",
    "- Intermediate if-else  "
   ]
  },
  {
   "cell_type": "markdown",
   "metadata": {},
   "source": [
    "### Imports"
   ]
  },
  {
   "cell_type": "code",
   "execution_count": 110,
   "metadata": {},
   "outputs": [],
   "source": [
    "from jax import vmap, make_jaxpr, jit\n",
    "from jax.lax import cond, switch\n",
    "import jax.numpy as jax_np\n",
    "\n",
    "import numpy as np"
   ]
  },
  {
   "cell_type": "markdown",
   "metadata": {},
   "source": [
    "Now that we know how to compute if-else predicates for vectorized inputs, what happens when we have more than one condition?"
   ]
  },
  {
   "cell_type": "markdown",
   "metadata": {},
   "source": [
    "The goal here is to implement an extension of the piecewise constant function:"
   ]
  },
  {
   "cell_type": "code",
   "execution_count": 128,
   "metadata": {},
   "outputs": [],
   "source": [
    "def piecewise_constant(x, xs, ys):\n",
    "    # len(xs) = len(ys) - 2\n",
    "    # xs are considered to be sorted\n",
    "    if x < xs[0]:\n",
    "        return ys[0]\n",
    "    for xi, yi in zip(xs, ys[:-1]):\n",
    "        if x >= xi:\n",
    "            continue\n",
    "        return yi\n",
    "    return ys[-1]"
   ]
  },
  {
   "cell_type": "markdown",
   "metadata": {},
   "source": [
    "For which we will consider the following inputs"
   ]
  },
  {
   "cell_type": "code",
   "execution_count": 86,
   "metadata": {},
   "outputs": [],
   "source": [
    "arr_xs = np.array([-1., 0., 1.])\n",
    "arr_ys = np.array([0.2, 0.4, 0., 0.1])\n",
    "\n",
    "arr_x = np.array([0.5, -2., 3., -1.5, -0.4])"
   ]
  },
  {
   "cell_type": "markdown",
   "metadata": {},
   "source": [
    "### Example"
   ]
  },
  {
   "cell_type": "markdown",
   "metadata": {},
   "source": [
    "First thing first let's look at the switch function:"
   ]
  },
  {
   "cell_type": "code",
   "execution_count": 87,
   "metadata": {},
   "outputs": [
    {
     "name": "stdout",
     "output_type": "stream",
     "text": [
      "Help on function switch in module jax._src.lax.control_flow:\n",
      "\n",
      "switch(index, branches: Sequence[Callable], operand)\n",
      "    Apply exactly one of ``branches`` given by ``index``.\n",
      "    \n",
      "    If ``index`` is out of bounds, it is clamped to within bounds.\n",
      "    \n",
      "    Has the semantics of the following Python::\n",
      "    \n",
      "      def switch(index, branches, operand):\n",
      "        index = clamp(0, index, len(branches) - 1)\n",
      "        return branches[index](operand)\n",
      "    \n",
      "    Arguments:\n",
      "      index: Integer scalar type, indicating which branch function to apply.\n",
      "      branches: Sequence of functions (A -> B) to be applied based on `index`.\n",
      "      operand: Operand (A) input to whichever branch is applied.\n",
      "\n"
     ]
    }
   ],
   "source": [
    "help(switch)"
   ]
  },
  {
   "cell_type": "markdown",
   "metadata": {},
   "source": [
    "So we can rewrite our absolute function in terms of the switch function:"
   ]
  },
  {
   "cell_type": "code",
   "execution_count": 107,
   "metadata": {},
   "outputs": [
    {
     "name": "stdout",
     "output_type": "stream",
     "text": [
      "5.0\n"
     ]
    }
   ],
   "source": [
    "def jax_abs_switch(x):\n",
    "    branches = [lambda z: -z, lambda z: z]\n",
    "    index = jax_np.asarray(x > 0, jnp.int32)\n",
    "    return switch(index, branches, x)\n",
    "\n",
    "print(jax_abs_switch(5.))"
   ]
  },
  {
   "cell_type": "markdown",
   "metadata": {},
   "source": [
    "So now let's have a look and see what we really did:"
   ]
  },
  {
   "cell_type": "code",
   "execution_count": 108,
   "metadata": {},
   "outputs": [
    {
     "data": {
      "text/plain": [
       "{ lambda  ; a.\n",
       "  let b = gt a 0.0\n",
       "      c = convert_element_type[ new_dtype=int32\n",
       "                                old_dtype=bool ] b\n",
       "      d = clamp 0 c 1\n",
       "      e = cond[ branches=( { lambda  ; a.\n",
       "                             let b = neg a\n",
       "                             in (b,) }\n",
       "                           { lambda  ; a.\n",
       "                             let \n",
       "                             in (a,) } )\n",
       "                linear=(False,) ] d a\n",
       "  in (e,) }"
      ]
     },
     "execution_count": 108,
     "metadata": {},
     "output_type": "execute_result"
    }
   ],
   "source": [
    "make_jaxpr(jax_abs_switch)(-5.)"
   ]
  },
  {
   "cell_type": "code",
   "execution_count": 109,
   "metadata": {},
   "outputs": [
    {
     "data": {
      "text/plain": [
       "{ lambda  ; a.\n",
       "  let b = gt a 0.0\n",
       "      c = convert_element_type[ new_dtype=int32\n",
       "                                old_dtype=bool ] b\n",
       "      d = cond[ branches=( { lambda  ; a.\n",
       "                             let b = neg a\n",
       "                             in (b,) }\n",
       "                           { lambda  ; a.\n",
       "                             let \n",
       "                             in (a,) } )\n",
       "                linear=(False,) ] c a\n",
       "  in (d,) }"
      ]
     },
     "execution_count": 109,
     "metadata": {},
     "output_type": "execute_result"
    }
   ],
   "source": [
    "make_jaxpr(compact_jax_abs)(-5.)"
   ]
  },
  {
   "cell_type": "markdown",
   "metadata": {},
   "source": [
    "Well we did nothing! So `cond` is just a special case of `switch`, and in particular stacking `cond` in the hope of a better performance would be a very bad idea."
   ]
  },
  {
   "cell_type": "markdown",
   "metadata": {},
   "source": [
    "### Questions:"
   ]
  },
  {
   "cell_type": "markdown",
   "metadata": {},
   "source": [
    "#### Q1: \n",
    "Implement the generelized `piecewise_constant` using `switch`, assuming the data is sorted."
   ]
  },
  {
   "cell_type": "markdown",
   "metadata": {},
   "source": [
    "#### Q2:\n",
    "If you are already familiar with the loops primitives, implement the generelized `piecewise_constant` using `loops` and `cond` and compare the generated code."
   ]
  },
  {
   "cell_type": "markdown",
   "metadata": {},
   "source": [
    "#### Q3:\n",
    "How would you vectorize this function? Compare the naive vmap with the `jax_np.select` approach."
   ]
  },
  {
   "cell_type": "code",
   "execution_count": null,
   "metadata": {},
   "outputs": [],
   "source": []
  }
 ],
 "metadata": {
  "kernelspec": {
   "display_name": "jax-workshop",
   "language": "python",
   "name": "jax-workshop"
  },
  "language_info": {
   "codemirror_mode": {
    "name": "ipython",
    "version": 3
   },
   "file_extension": ".py",
   "mimetype": "text/x-python",
   "name": "python",
   "nbconvert_exporter": "python",
   "pygments_lexer": "ipython3",
   "version": "3.7.6"
  }
 },
 "nbformat": 4,
 "nbformat_minor": 4
}
