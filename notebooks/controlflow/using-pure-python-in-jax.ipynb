{
 "cells": [
  {
   "metadata": {},
   "cell_type": "markdown",
   "source": [
    "# Pure Python in JAX\n",
    "\n",
    "This is a fairly advanced topic, and you should only read this if you have gone through the rest of the notebooks and are now somewhat comfortable with JAX.\n",
    "\n",
    "### Prerequisites\n",
    "Intermediate loops.\n",
    "\n",
    "Sometimes, JAX is really not the right tool for the job. This is usually going to be the case when some very nasty loops are involved, or when you want to use variable size data structures inside a specific subroutine. \n",
    "It can also be the case that on GPU JAX does the job, but on CPU it is too slow. In this case, you can branch out to pure Python code, and then come back to JAX.\n",
    "\n",
    "This notebook shows how to use pure Python code inside JAX and explains why you might want to do that, but also what the limitations are.\n",
    "\n",
    "In the \"loops\" notebook, we encountered a question about implementing bubble sort in JAX:\n",
    "```python\n",
    "def bubble_sort(arr): \n",
    "    n = len(arr) \n",
    "    res = np.copy(arr)\n",
    "    for i in range(n-1): \n",
    "        for j in range(0, n-i-1): \n",
    "            if res[j] > res[j+1]: \n",
    "                res[j], res[j+1] = res[j+1], res[j]\n",
    "    return res   \n",
    "```\n",
    "for which a JAX implementation would be (don't look if you have not done the exercise yet!):"
   ],
   "id": "d9b7a04a2b116639"
  },
  {
   "cell_type": "code",
   "id": "initial_id",
   "metadata": {
    "collapsed": true,
    "ExecuteTime": {
     "end_time": "2024-11-27T18:02:12.032203Z",
     "start_time": "2024-11-27T18:02:11.799360Z"
    }
   },
   "source": [
    "import jax\n",
    "from jax import numpy as jnp\n",
    "from jax.lax import dynamic_update_slice, while_loop, fori_loop\n",
    "import numpy as np\n",
    "\n",
    "\n",
    "@jax.jit\n",
    "def bubble_sort(arr):\n",
    "    n = arr.shape[0]\n",
    "\n",
    "    def inner_cond(carry, i):\n",
    "        j, _ = carry\n",
    "        return j < n - i - 1\n",
    "\n",
    "    def inner_body(carry):\n",
    "        j, inner_res = carry\n",
    "\n",
    "        # This is the equivalent of the line res[j], res[j+1] = res[j+1], res[j]\n",
    "        update = jnp.array([inner_res[j + 1], inner_res[j]])\n",
    "        inner_res = dynamic_update_slice(inner_res, update, (j,))\n",
    "        return j + 1, inner_res\n",
    "\n",
    "    def outer_loop(i, carry):\n",
    "        _, carry = while_loop(lambda val: inner_cond(val, i), inner_body, (0, carry))\n",
    "        return carry\n",
    "\n",
    "    res = fori_loop(0, n - 1, outer_loop, arr)\n",
    "    return res"
   ],
   "outputs": [],
   "execution_count": 1
  },
  {
   "metadata": {
    "ExecuteTime": {
     "end_time": "2024-11-27T18:02:12.903506Z",
     "start_time": "2024-11-27T18:02:12.037270Z"
    }
   },
   "cell_type": "code",
   "source": "bubble_sort(np.random.randn(5000))",
   "id": "672ebbef53571374",
   "outputs": [
    {
     "name": "stderr",
     "output_type": "stream",
     "text": [
      "An NVIDIA GPU may be present on this machine, but a CUDA-enabled jaxlib is not installed. Falling back to cpu.\n"
     ]
    },
    {
     "data": {
      "text/plain": [
       "Array([ 1.6327504 ,  0.83159214,  0.42975882, ..., -0.9669213 ,\n",
       "        0.3114629 , -1.1753024 ], dtype=float32)"
      ]
     },
     "execution_count": 2,
     "metadata": {},
     "output_type": "execute_result"
    }
   ],
   "execution_count": 2
  },
  {
   "metadata": {},
   "cell_type": "markdown",
   "source": "Even though this is a good exercise to understand how to use JAX, one has to admit this is a bit of an overkill. The JAX implementation is much more complex than the pure Python implementation but it is also hardly faster, which is not what we would expect from a library that is supposed to be fast.",
   "id": "f305b2d94e4b4e17"
  },
  {
   "metadata": {
    "ExecuteTime": {
     "end_time": "2024-11-27T18:15:10.320294Z",
     "start_time": "2024-11-27T18:15:10.313435Z"
    }
   },
   "cell_type": "code",
   "source": [
    "def np_bubble_sort(arr):\n",
    "    n = len(arr)\n",
    "    res = np.copy(arr)\n",
    "    for i in range(n - 1):\n",
    "        for j in range(0, n - i - 1):\n",
    "            if res[j] > res[j + 1]:\n",
    "                res[j], res[j + 1] = res[j + 1], res[j]\n",
    "    return res"
   ],
   "id": "eecaff169e06e243",
   "outputs": [],
   "execution_count": 42
  },
  {
   "metadata": {
    "ExecuteTime": {
     "end_time": "2024-11-27T18:15:10.706035Z",
     "start_time": "2024-11-27T18:15:10.700061Z"
    }
   },
   "cell_type": "code",
   "source": "arr_test = np.random.randn(1000)",
   "id": "332585899149d625",
   "outputs": [],
   "execution_count": 43
  },
  {
   "metadata": {
    "ExecuteTime": {
     "end_time": "2024-11-27T18:15:21.382567Z",
     "start_time": "2024-11-27T18:15:11.430255Z"
    }
   },
   "cell_type": "code",
   "source": [
    "%timeit bubble_sort(arr_test).block_until_ready()\n",
    "%timeit np_bubble_sort(arr_test)"
   ],
   "id": "c6cd0652d1493062",
   "outputs": [
    {
     "name": "stdout",
     "output_type": "stream",
     "text": [
      "30.7 ms ± 83.9 μs per loop (mean ± std. dev. of 7 runs, 10 loops each)\n",
      "91.3 ms ± 140 μs per loop (mean ± std. dev. of 7 runs, 10 loops each)\n"
     ]
    }
   ],
   "execution_count": 45
  },
  {
   "metadata": {},
   "cell_type": "markdown",
   "source": "and the performance completely goes away when we compile the function using (for example) `numba`:",
   "id": "d12b4164fff8e93b"
  },
  {
   "metadata": {
    "ExecuteTime": {
     "end_time": "2024-11-27T18:15:29.306194Z",
     "start_time": "2024-11-27T18:15:25.528619Z"
    }
   },
   "cell_type": "code",
   "source": [
    "import numba as nb\n",
    "\n",
    "nb_bubble_sort = nb.njit(np_bubble_sort, boundscheck=False)\n",
    "\n",
    "%timeit nb_bubble_sort(arr_test)"
   ],
   "id": "e4635ea2f3161eeb",
   "outputs": [
    {
     "name": "stdout",
     "output_type": "stream",
     "text": [
      "453 μs ± 125 ns per loop (mean ± std. dev. of 7 runs, 1,000 loops each)\n"
     ]
    }
   ],
   "execution_count": 46
  },
  {
   "metadata": {},
   "cell_type": "markdown",
   "source": [
    "This lack of performance is due to the fact that JAX is not optimized for this kind of loops and is one of the reasons why you might want to use pure Python code inside JAX.\n",
    "Thankfully, this is possible and quite easy to do using a `pure_callable` function. This function allows you to use Python code inside a JAX function, *provided that the Python code does not modify any global state*, otherwise the JAX code is not guaranteed to be correct."
   ],
   "id": "c568ae6bb88a965d"
  },
  {
   "metadata": {
    "ExecuteTime": {
     "end_time": "2024-11-27T18:17:06.375488Z",
     "start_time": "2024-11-27T18:17:06.372523Z"
    }
   },
   "cell_type": "code",
   "source": [
    "@jax.jit\n",
    "def wrapped_bubble_sort(arr):\n",
    "    # This uses pure callback\n",
    "    return jax.pure_callback(nb_bubble_sort, arr, arr)"
   ],
   "id": "8d0ce23d6af12163",
   "outputs": [],
   "execution_count": 49
  },
  {
   "metadata": {
    "ExecuteTime": {
     "end_time": "2024-11-27T18:17:06.900917Z",
     "start_time": "2024-11-27T18:17:06.857522Z"
    }
   },
   "cell_type": "code",
   "source": "wrapped_bubble_sort(arr_test)",
   "id": "aa97f9e14a4775b1",
   "outputs": [
    {
     "name": "stderr",
     "output_type": "stream",
     "text": [
      "jax.pure_callback failed\n",
      "Traceback (most recent call last):\n",
      "  File \"/home/adrien/PycharmProjects/.virtualenvs/jax-workshop/lib/python3.12/site-packages/jax/_src/callback.py\", line 94, in pure_callback_impl\n",
      "    return tree_util.tree_map(np.asarray, callback(*args))\n",
      "                                          ^^^^^^^^^^^^^^^\n",
      "  File \"/home/adrien/PycharmProjects/.virtualenvs/jax-workshop/lib/python3.12/site-packages/jax/_src/callback.py\", line 71, in __call__\n",
      "    return tree_util.tree_leaves(self.callback_func(*args, **kwargs))\n",
      "                                 ^^^^^^^^^^^^^^^^^^^^^^^^^^^^^^^^^^^\n",
      "  File \"/home/adrien/PycharmProjects/.virtualenvs/jax-workshop/lib/python3.12/site-packages/numba/core/dispatcher.py\", line 442, in _compile_for_args\n",
      "    raise e\n",
      "  File \"/home/adrien/PycharmProjects/.virtualenvs/jax-workshop/lib/python3.12/site-packages/numba/core/dispatcher.py\", line 375, in _compile_for_args\n",
      "    return_val = self.compile(tuple(argtypes))\n",
      "                 ^^^^^^^^^^^^^^^^^^^^^^^^^^^^^\n",
      "  File \"/home/adrien/PycharmProjects/.virtualenvs/jax-workshop/lib/python3.12/site-packages/numba/core/dispatcher.py\", line 905, in compile\n",
      "    cres = self._compiler.compile(args, return_type)\n",
      "           ^^^^^^^^^^^^^^^^^^^^^^^^^^^^^^^^^^^^^^^^^\n",
      "  File \"/home/adrien/PycharmProjects/.virtualenvs/jax-workshop/lib/python3.12/site-packages/numba/core/dispatcher.py\", line 80, in compile\n",
      "    status, retval = self._compile_cached(args, return_type)\n",
      "                     ^^^^^^^^^^^^^^^^^^^^^^^^^^^^^^^^^^^^^^^\n",
      "  File \"/home/adrien/PycharmProjects/.virtualenvs/jax-workshop/lib/python3.12/site-packages/numba/core/dispatcher.py\", line 94, in _compile_cached\n",
      "    retval = self._compile_core(args, return_type)\n",
      "             ^^^^^^^^^^^^^^^^^^^^^^^^^^^^^^^^^^^^^\n",
      "  File \"/home/adrien/PycharmProjects/.virtualenvs/jax-workshop/lib/python3.12/site-packages/numba/core/dispatcher.py\", line 107, in _compile_core\n",
      "    cres = compiler.compile_extra(self.targetdescr.typing_context,\n",
      "           ^^^^^^^^^^^^^^^^^^^^^^^^^^^^^^^^^^^^^^^^^^^^^^^^^^^^^^^\n",
      "  File \"/home/adrien/PycharmProjects/.virtualenvs/jax-workshop/lib/python3.12/site-packages/numba/core/compiler.py\", line 744, in compile_extra\n",
      "    return pipeline.compile_extra(func)\n",
      "           ^^^^^^^^^^^^^^^^^^^^^^^^^^^^\n",
      "  File \"/home/adrien/PycharmProjects/.virtualenvs/jax-workshop/lib/python3.12/site-packages/numba/core/compiler.py\", line 438, in compile_extra\n",
      "    return self._compile_bytecode()\n",
      "           ^^^^^^^^^^^^^^^^^^^^^^^^\n",
      "  File \"/home/adrien/PycharmProjects/.virtualenvs/jax-workshop/lib/python3.12/site-packages/numba/core/compiler.py\", line 506, in _compile_bytecode\n",
      "    return self._compile_core()\n",
      "           ^^^^^^^^^^^^^^^^^^^^\n",
      "  File \"/home/adrien/PycharmProjects/.virtualenvs/jax-workshop/lib/python3.12/site-packages/numba/core/compiler.py\", line 481, in _compile_core\n",
      "    raise e\n",
      "  File \"/home/adrien/PycharmProjects/.virtualenvs/jax-workshop/lib/python3.12/site-packages/numba/core/compiler.py\", line 472, in _compile_core\n",
      "    pm.run(self.state)\n",
      "  File \"/home/adrien/PycharmProjects/.virtualenvs/jax-workshop/lib/python3.12/site-packages/numba/core/compiler_machinery.py\", line 364, in run\n",
      "    raise e\n",
      "  File \"/home/adrien/PycharmProjects/.virtualenvs/jax-workshop/lib/python3.12/site-packages/numba/core/compiler_machinery.py\", line 356, in run\n",
      "    self._runPass(idx, pass_inst, state)\n",
      "  File \"/home/adrien/PycharmProjects/.virtualenvs/jax-workshop/lib/python3.12/site-packages/numba/core/compiler_lock.py\", line 35, in _acquire_compile_lock\n",
      "    return func(*args, **kwargs)\n",
      "           ^^^^^^^^^^^^^^^^^^^^^\n",
      "  File \"/home/adrien/PycharmProjects/.virtualenvs/jax-workshop/lib/python3.12/site-packages/numba/core/compiler_machinery.py\", line 311, in _runPass\n",
      "    mutated |= check(pss.run_pass, internal_state)\n",
      "               ^^^^^^^^^^^^^^^^^^^^^^^^^^^^^^^^^^^\n",
      "  File \"/home/adrien/PycharmProjects/.virtualenvs/jax-workshop/lib/python3.12/site-packages/numba/core/compiler_machinery.py\", line 273, in check\n",
      "    mangled = func(compiler_state)\n",
      "              ^^^^^^^^^^^^^^^^^^^^\n",
      "  File \"/home/adrien/PycharmProjects/.virtualenvs/jax-workshop/lib/python3.12/site-packages/numba/core/typed_passes.py\", line 112, in run_pass\n",
      "    typemap, return_type, calltypes, errs = type_inference_stage(\n",
      "                                            ^^^^^^^^^^^^^^^^^^^^^\n",
      "  File \"/home/adrien/PycharmProjects/.virtualenvs/jax-workshop/lib/python3.12/site-packages/numba/core/typed_passes.py\", line 93, in type_inference_stage\n",
      "    errs = infer.propagate(raise_errors=raise_errors)\n",
      "           ^^^^^^^^^^^^^^^^^^^^^^^^^^^^^^^^^^^^^^^^^^\n",
      "  File \"/home/adrien/PycharmProjects/.virtualenvs/jax-workshop/lib/python3.12/site-packages/numba/core/typeinfer.py\", line 1083, in propagate\n",
      "    errors = self.constraints.propagate(self)\n",
      "             ^^^^^^^^^^^^^^^^^^^^^^^^^^^^^^^^\n",
      "  File \"/home/adrien/PycharmProjects/.virtualenvs/jax-workshop/lib/python3.12/site-packages/numba/core/typeinfer.py\", line 182, in propagate\n",
      "    raise e\n",
      "  File \"/home/adrien/PycharmProjects/.virtualenvs/jax-workshop/lib/python3.12/site-packages/numba/core/typeinfer.py\", line 160, in propagate\n",
      "    constraint(typeinfer)\n",
      "  File \"/home/adrien/PycharmProjects/.virtualenvs/jax-workshop/lib/python3.12/site-packages/numba/core/typeinfer.py\", line 583, in __call__\n",
      "    self.resolve(typeinfer, typevars, fnty)\n",
      "  File \"/home/adrien/PycharmProjects/.virtualenvs/jax-workshop/lib/python3.12/site-packages/numba/core/typeinfer.py\", line 606, in resolve\n",
      "    sig = typeinfer.resolve_call(fnty, pos_args, kw_args)\n",
      "          ^^^^^^^^^^^^^^^^^^^^^^^^^^^^^^^^^^^^^^^^^^^^^^^\n",
      "  File \"/home/adrien/PycharmProjects/.virtualenvs/jax-workshop/lib/python3.12/site-packages/numba/core/typeinfer.py\", line 1577, in resolve_call\n",
      "    return self.context.resolve_function_type(fnty, pos_args, kw_args)\n",
      "           ^^^^^^^^^^^^^^^^^^^^^^^^^^^^^^^^^^^^^^^^^^^^^^^^^^^^^^^^^^^\n",
      "  File \"/home/adrien/PycharmProjects/.virtualenvs/jax-workshop/lib/python3.12/site-packages/numba/core/typing/context.py\", line 196, in resolve_function_type\n",
      "    res = self._resolve_user_function_type(func, args, kws)\n",
      "          ^^^^^^^^^^^^^^^^^^^^^^^^^^^^^^^^^^^^^^^^^^^^^^^^^\n",
      "  File \"/home/adrien/PycharmProjects/.virtualenvs/jax-workshop/lib/python3.12/site-packages/numba/core/typing/context.py\", line 248, in _resolve_user_function_type\n",
      "    return func.get_call_type(self, args, kws)\n",
      "           ^^^^^^^^^^^^^^^^^^^^^^^^^^^^^^^^^^^\n",
      "  File \"/home/adrien/PycharmProjects/.virtualenvs/jax-workshop/lib/python3.12/site-packages/numba/core/types/functions.py\", line 312, in get_call_type\n",
      "    raise e\n",
      "  File \"/home/adrien/PycharmProjects/.virtualenvs/jax-workshop/lib/python3.12/site-packages/numba/core/types/functions.py\", line 308, in get_call_type\n",
      "    sig = temp.apply(nolitargs, nolitkws)\n",
      "          ^^^^^^^^^^^^^^^^^^^^^^^^^^^^^^^\n",
      "  File \"/home/adrien/PycharmProjects/.virtualenvs/jax-workshop/lib/python3.12/site-packages/numba/core/typing/templates.py\", line 350, in apply\n",
      "    sig = generic(args, kws)\n",
      "          ^^^^^^^^^^^^^^^^^^\n",
      "  File \"/home/adrien/PycharmProjects/.virtualenvs/jax-workshop/lib/python3.12/site-packages/numba/core/typing/templates.py\", line 613, in generic\n",
      "    disp, new_args = self._get_impl(args, kws)\n",
      "                     ^^^^^^^^^^^^^^^^^^^^^^^^^\n",
      "  File \"/home/adrien/PycharmProjects/.virtualenvs/jax-workshop/lib/python3.12/site-packages/numba/core/typing/templates.py\", line 712, in _get_impl\n",
      "    impl, args = self._build_impl(cache_key, args, kws)\n",
      "                 ^^^^^^^^^^^^^^^^^^^^^^^^^^^^^^^^^^^^^^\n",
      "  File \"/home/adrien/PycharmProjects/.virtualenvs/jax-workshop/lib/python3.12/site-packages/numba/core/typing/templates.py\", line 785, in _build_impl\n",
      "    ovf_result = self._overload_func(*args, **kws)\n",
      "                 ^^^^^^^^^^^^^^^^^^^^^^^^^^^^^^^^^\n",
      "  File \"/home/adrien/PycharmProjects/.virtualenvs/jax-workshop/lib/python3.12/site-packages/numba/np/arrayobj.py\", line 4924, in impl_numpy_copy\n",
      "    return numpy_copy\n",
      "           ^^^^^^^^^^\n",
      "UnboundLocalError: cannot access local variable 'numpy_copy' where it is not associated with a value\n"
     ]
    },
    {
     "ename": "XlaRuntimeError",
     "evalue": "INTERNAL: CpuCallback error: Traceback (most recent call last):\n  File \"<frozen runpy>\", line 198, in _run_module_as_main\n  File \"<frozen runpy>\", line 88, in _run_code\n  File \"/home/adrien/PycharmProjects/.virtualenvs/jax-workshop/lib/python3.12/site-packages/ipykernel_launcher.py\", line 18, in <module>\n  File \"/home/adrien/PycharmProjects/.virtualenvs/jax-workshop/lib/python3.12/site-packages/traitlets/config/application.py\", line 1075, in launch_instance\n  File \"/home/adrien/PycharmProjects/.virtualenvs/jax-workshop/lib/python3.12/site-packages/ipykernel/kernelapp.py\", line 739, in start\n  File \"/home/adrien/PycharmProjects/.virtualenvs/jax-workshop/lib/python3.12/site-packages/tornado/platform/asyncio.py\", line 205, in start\n  File \"/home/adrien/miniconda3/lib/python3.12/asyncio/base_events.py\", line 639, in run_forever\n  File \"/home/adrien/miniconda3/lib/python3.12/asyncio/base_events.py\", line 1985, in _run_once\n  File \"/home/adrien/miniconda3/lib/python3.12/asyncio/events.py\", line 88, in _run\n  File \"/home/adrien/PycharmProjects/.virtualenvs/jax-workshop/lib/python3.12/site-packages/ipykernel/kernelbase.py\", line 545, in dispatch_queue\n  File \"/home/adrien/PycharmProjects/.virtualenvs/jax-workshop/lib/python3.12/site-packages/ipykernel/kernelbase.py\", line 534, in process_one\n  File \"/home/adrien/PycharmProjects/.virtualenvs/jax-workshop/lib/python3.12/site-packages/ipykernel/kernelbase.py\", line 437, in dispatch_shell\n  File \"/home/adrien/PycharmProjects/.virtualenvs/jax-workshop/lib/python3.12/site-packages/ipykernel/ipkernel.py\", line 362, in execute_request\n  File \"/home/adrien/PycharmProjects/.virtualenvs/jax-workshop/lib/python3.12/site-packages/ipykernel/kernelbase.py\", line 778, in execute_request\n  File \"/home/adrien/PycharmProjects/.virtualenvs/jax-workshop/lib/python3.12/site-packages/ipykernel/ipkernel.py\", line 449, in do_execute\n  File \"/home/adrien/PycharmProjects/.virtualenvs/jax-workshop/lib/python3.12/site-packages/ipykernel/zmqshell.py\", line 549, in run_cell\n  File \"/home/adrien/PycharmProjects/.virtualenvs/jax-workshop/lib/python3.12/site-packages/IPython/core/interactiveshell.py\", line 3075, in run_cell\n  File \"/home/adrien/PycharmProjects/.virtualenvs/jax-workshop/lib/python3.12/site-packages/IPython/core/interactiveshell.py\", line 3130, in _run_cell\n  File \"/home/adrien/PycharmProjects/.virtualenvs/jax-workshop/lib/python3.12/site-packages/IPython/core/async_helpers.py\", line 128, in _pseudo_sync_runner\n  File \"/home/adrien/PycharmProjects/.virtualenvs/jax-workshop/lib/python3.12/site-packages/IPython/core/interactiveshell.py\", line 3334, in run_cell_async\n  File \"/home/adrien/PycharmProjects/.virtualenvs/jax-workshop/lib/python3.12/site-packages/IPython/core/interactiveshell.py\", line 3517, in run_ast_nodes\n  File \"/home/adrien/PycharmProjects/.virtualenvs/jax-workshop/lib/python3.12/site-packages/IPython/core/interactiveshell.py\", line 3577, in run_code\n  File \"/tmp/ipykernel_178186/3832731969.py\", line 1, in <module>\n  File \"/home/adrien/PycharmProjects/.virtualenvs/jax-workshop/lib/python3.12/site-packages/jax/_src/traceback_util.py\", line 180, in reraise_with_filtered_traceback\n  File \"/home/adrien/PycharmProjects/.virtualenvs/jax-workshop/lib/python3.12/site-packages/jax/_src/pjit.py\", line 338, in cache_miss\n  File \"/home/adrien/PycharmProjects/.virtualenvs/jax-workshop/lib/python3.12/site-packages/jax/_src/pjit.py\", line 188, in _python_pjit_helper\n  File \"/home/adrien/PycharmProjects/.virtualenvs/jax-workshop/lib/python3.12/site-packages/jax/_src/core.py\", line 2803, in bind\n  File \"/home/adrien/PycharmProjects/.virtualenvs/jax-workshop/lib/python3.12/site-packages/jax/_src/core.py\", line 442, in bind_with_trace\n  File \"/home/adrien/PycharmProjects/.virtualenvs/jax-workshop/lib/python3.12/site-packages/jax/_src/core.py\", line 955, in process_primitive\n  File \"/home/adrien/PycharmProjects/.virtualenvs/jax-workshop/lib/python3.12/site-packages/jax/_src/pjit.py\", line 1738, in _pjit_call_impl\n  File \"/home/adrien/PycharmProjects/.virtualenvs/jax-workshop/lib/python3.12/site-packages/jax/_src/pjit.py\", line 1714, in call_impl_cache_miss\n  File \"/home/adrien/PycharmProjects/.virtualenvs/jax-workshop/lib/python3.12/site-packages/jax/_src/pjit.py\", line 1668, in _pjit_call_impl_python\n  File \"/home/adrien/PycharmProjects/.virtualenvs/jax-workshop/lib/python3.12/site-packages/jax/_src/profiler.py\", line 333, in wrapper\n  File \"/home/adrien/PycharmProjects/.virtualenvs/jax-workshop/lib/python3.12/site-packages/jax/_src/interpreters/pxla.py\", line 1278, in __call__\n  File \"/home/adrien/PycharmProjects/.virtualenvs/jax-workshop/lib/python3.12/site-packages/jax/_src/interpreters/mlir.py\", line 2768, in _wrapped_callback\n  File \"/home/adrien/PycharmProjects/.virtualenvs/jax-workshop/lib/python3.12/site-packages/jax/_src/callback.py\", line 269, in _callback\n  File \"/home/adrien/PycharmProjects/.virtualenvs/jax-workshop/lib/python3.12/site-packages/jax/_src/callback.py\", line 97, in pure_callback_impl\n  File \"/home/adrien/PycharmProjects/.virtualenvs/jax-workshop/lib/python3.12/site-packages/jax/_src/callback.py\", line 71, in __call__\n  File \"/home/adrien/PycharmProjects/.virtualenvs/jax-workshop/lib/python3.12/site-packages/numba/core/dispatcher.py\", line 444, in _compile_for_args\n  File \"/home/adrien/PycharmProjects/.virtualenvs/jax-workshop/lib/python3.12/site-packages/numba/core/dispatcher.py\", line 906, in compile\n  File \"/home/adrien/PycharmProjects/.virtualenvs/jax-workshop/lib/python3.12/site-packages/numba/core/dispatcher.py\", line 80, in compile\n  File \"/home/adrien/PycharmProjects/.virtualenvs/jax-workshop/lib/python3.12/site-packages/numba/core/dispatcher.py\", line 95, in _compile_cached\n  File \"/home/adrien/PycharmProjects/.virtualenvs/jax-workshop/lib/python3.12/site-packages/numba/core/dispatcher.py\", line 107, in _compile_core\n  File \"/home/adrien/PycharmProjects/.virtualenvs/jax-workshop/lib/python3.12/site-packages/numba/core/compiler.py\", line 744, in compile_extra\n  File \"/home/adrien/PycharmProjects/.virtualenvs/jax-workshop/lib/python3.12/site-packages/numba/core/compiler.py\", line 438, in compile_extra\n  File \"/home/adrien/PycharmProjects/.virtualenvs/jax-workshop/lib/python3.12/site-packages/numba/core/compiler.py\", line 506, in _compile_bytecode\n  File \"/home/adrien/PycharmProjects/.virtualenvs/jax-workshop/lib/python3.12/site-packages/numba/core/compiler.py\", line 481, in _compile_core\n  File \"/home/adrien/PycharmProjects/.virtualenvs/jax-workshop/lib/python3.12/site-packages/numba/core/compiler_machinery.py\", line 364, in run\n  File \"/home/adrien/PycharmProjects/.virtualenvs/jax-workshop/lib/python3.12/site-packages/numba/core/compiler_lock.py\", line 35, in _acquire_compile_lock\n  File \"/home/adrien/PycharmProjects/.virtualenvs/jax-workshop/lib/python3.12/site-packages/numba/core/compiler_machinery.py\", line 311, in _runPass\n  File \"/home/adrien/PycharmProjects/.virtualenvs/jax-workshop/lib/python3.12/site-packages/numba/core/compiler_machinery.py\", line 273, in check\n  File \"/home/adrien/PycharmProjects/.virtualenvs/jax-workshop/lib/python3.12/site-packages/numba/core/typed_passes.py\", line 112, in run_pass\n  File \"/home/adrien/PycharmProjects/.virtualenvs/jax-workshop/lib/python3.12/site-packages/numba/core/typed_passes.py\", line 93, in type_inference_stage\n  File \"/home/adrien/PycharmProjects/.virtualenvs/jax-workshop/lib/python3.12/site-packages/numba/core/typeinfer.py\", line 1083, in propagate\n  File \"/home/adrien/PycharmProjects/.virtualenvs/jax-workshop/lib/python3.12/site-packages/numba/core/typeinfer.py\", line 182, in propagate\n  File \"/home/adrien/PycharmProjects/.virtualenvs/jax-workshop/lib/python3.12/site-packages/numba/core/typeinfer.py\", line 583, in __call__\n  File \"/home/adrien/PycharmProjects/.virtualenvs/jax-workshop/lib/python3.12/site-packages/numba/core/typeinfer.py\", line 607, in resolve\n  File \"/home/adrien/PycharmProjects/.virtualenvs/jax-workshop/lib/python3.12/site-packages/numba/core/typeinfer.py\", line 1577, in resolve_call\n  File \"/home/adrien/PycharmProjects/.virtualenvs/jax-workshop/lib/python3.12/site-packages/numba/core/typing/context.py\", line 197, in resolve_function_type\n  File \"/home/adrien/PycharmProjects/.virtualenvs/jax-workshop/lib/python3.12/site-packages/numba/core/typing/context.py\", line 248, in _resolve_user_function_type\n  File \"/home/adrien/PycharmProjects/.virtualenvs/jax-workshop/lib/python3.12/site-packages/numba/core/types/functions.py\", line 312, in get_call_type\n  File \"/home/adrien/PycharmProjects/.virtualenvs/jax-workshop/lib/python3.12/site-packages/numba/core/typing/templates.py\", line 350, in apply\n  File \"/home/adrien/PycharmProjects/.virtualenvs/jax-workshop/lib/python3.12/site-packages/numba/core/typing/templates.py\", line 613, in generic\n  File \"/home/adrien/PycharmProjects/.virtualenvs/jax-workshop/lib/python3.12/site-packages/numba/core/typing/templates.py\", line 712, in _get_impl\n  File \"/home/adrien/PycharmProjects/.virtualenvs/jax-workshop/lib/python3.12/site-packages/numba/core/typing/templates.py\", line 785, in _build_impl\n  File \"/home/adrien/PycharmProjects/.virtualenvs/jax-workshop/lib/python3.12/site-packages/numba/np/arrayobj.py\", line 4924, in impl_numpy_copy\nUnboundLocalError: cannot access local variable 'numpy_copy' where it is not associated with a value",
     "output_type": "error",
     "traceback": [
      "\u001b[0;31m---------------------------------------------------------------------------\u001b[0m",
      "\u001b[0;31mXlaRuntimeError\u001b[0m                           Traceback (most recent call last)",
      "Cell \u001b[0;32mIn[50], line 1\u001b[0m\n\u001b[0;32m----> 1\u001b[0m \u001b[43mwrapped_bubble_sort\u001b[49m\u001b[43m(\u001b[49m\u001b[43marr_test\u001b[49m\u001b[43m)\u001b[49m\n",
      "    \u001b[0;31m[... skipping hidden 10 frame]\u001b[0m\n",
      "File \u001b[0;32m~/PycharmProjects/.virtualenvs/jax-workshop/lib/python3.12/site-packages/jax/_src/interpreters/pxla.py:1278\u001b[0m, in \u001b[0;36mExecuteReplicated.__call__\u001b[0;34m(self, *args)\u001b[0m\n\u001b[1;32m   1275\u001b[0m \u001b[38;5;28;01mif\u001b[39;00m (\u001b[38;5;28mself\u001b[39m\u001b[38;5;241m.\u001b[39mordered_effects \u001b[38;5;129;01mor\u001b[39;00m \u001b[38;5;28mself\u001b[39m\u001b[38;5;241m.\u001b[39mhas_unordered_effects\n\u001b[1;32m   1276\u001b[0m     \u001b[38;5;129;01mor\u001b[39;00m \u001b[38;5;28mself\u001b[39m\u001b[38;5;241m.\u001b[39mhas_host_callbacks):\n\u001b[1;32m   1277\u001b[0m   input_bufs \u001b[38;5;241m=\u001b[39m \u001b[38;5;28mself\u001b[39m\u001b[38;5;241m.\u001b[39m_add_tokens_to_inputs(input_bufs)\n\u001b[0;32m-> 1278\u001b[0m   results \u001b[38;5;241m=\u001b[39m \u001b[38;5;28;43mself\u001b[39;49m\u001b[38;5;241;43m.\u001b[39;49m\u001b[43mxla_executable\u001b[49m\u001b[38;5;241;43m.\u001b[39;49m\u001b[43mexecute_sharded\u001b[49m\u001b[43m(\u001b[49m\n\u001b[1;32m   1279\u001b[0m \u001b[43m      \u001b[49m\u001b[43minput_bufs\u001b[49m\u001b[43m,\u001b[49m\u001b[43m \u001b[49m\u001b[43mwith_tokens\u001b[49m\u001b[38;5;241;43m=\u001b[39;49m\u001b[38;5;28;43;01mTrue\u001b[39;49;00m\n\u001b[1;32m   1280\u001b[0m \u001b[43m  \u001b[49m\u001b[43m)\u001b[49m\n\u001b[1;32m   1282\u001b[0m   result_token_bufs \u001b[38;5;241m=\u001b[39m results\u001b[38;5;241m.\u001b[39mdisassemble_prefix_into_single_device_arrays(\n\u001b[1;32m   1283\u001b[0m       \u001b[38;5;28mlen\u001b[39m(\u001b[38;5;28mself\u001b[39m\u001b[38;5;241m.\u001b[39mordered_effects))\n\u001b[1;32m   1284\u001b[0m   sharded_runtime_token \u001b[38;5;241m=\u001b[39m results\u001b[38;5;241m.\u001b[39mconsume_token()\n",
      "\u001b[0;31mXlaRuntimeError\u001b[0m: INTERNAL: CpuCallback error: Traceback (most recent call last):\n  File \"<frozen runpy>\", line 198, in _run_module_as_main\n  File \"<frozen runpy>\", line 88, in _run_code\n  File \"/home/adrien/PycharmProjects/.virtualenvs/jax-workshop/lib/python3.12/site-packages/ipykernel_launcher.py\", line 18, in <module>\n  File \"/home/adrien/PycharmProjects/.virtualenvs/jax-workshop/lib/python3.12/site-packages/traitlets/config/application.py\", line 1075, in launch_instance\n  File \"/home/adrien/PycharmProjects/.virtualenvs/jax-workshop/lib/python3.12/site-packages/ipykernel/kernelapp.py\", line 739, in start\n  File \"/home/adrien/PycharmProjects/.virtualenvs/jax-workshop/lib/python3.12/site-packages/tornado/platform/asyncio.py\", line 205, in start\n  File \"/home/adrien/miniconda3/lib/python3.12/asyncio/base_events.py\", line 639, in run_forever\n  File \"/home/adrien/miniconda3/lib/python3.12/asyncio/base_events.py\", line 1985, in _run_once\n  File \"/home/adrien/miniconda3/lib/python3.12/asyncio/events.py\", line 88, in _run\n  File \"/home/adrien/PycharmProjects/.virtualenvs/jax-workshop/lib/python3.12/site-packages/ipykernel/kernelbase.py\", line 545, in dispatch_queue\n  File \"/home/adrien/PycharmProjects/.virtualenvs/jax-workshop/lib/python3.12/site-packages/ipykernel/kernelbase.py\", line 534, in process_one\n  File \"/home/adrien/PycharmProjects/.virtualenvs/jax-workshop/lib/python3.12/site-packages/ipykernel/kernelbase.py\", line 437, in dispatch_shell\n  File \"/home/adrien/PycharmProjects/.virtualenvs/jax-workshop/lib/python3.12/site-packages/ipykernel/ipkernel.py\", line 362, in execute_request\n  File \"/home/adrien/PycharmProjects/.virtualenvs/jax-workshop/lib/python3.12/site-packages/ipykernel/kernelbase.py\", line 778, in execute_request\n  File \"/home/adrien/PycharmProjects/.virtualenvs/jax-workshop/lib/python3.12/site-packages/ipykernel/ipkernel.py\", line 449, in do_execute\n  File \"/home/adrien/PycharmProjects/.virtualenvs/jax-workshop/lib/python3.12/site-packages/ipykernel/zmqshell.py\", line 549, in run_cell\n  File \"/home/adrien/PycharmProjects/.virtualenvs/jax-workshop/lib/python3.12/site-packages/IPython/core/interactiveshell.py\", line 3075, in run_cell\n  File \"/home/adrien/PycharmProjects/.virtualenvs/jax-workshop/lib/python3.12/site-packages/IPython/core/interactiveshell.py\", line 3130, in _run_cell\n  File \"/home/adrien/PycharmProjects/.virtualenvs/jax-workshop/lib/python3.12/site-packages/IPython/core/async_helpers.py\", line 128, in _pseudo_sync_runner\n  File \"/home/adrien/PycharmProjects/.virtualenvs/jax-workshop/lib/python3.12/site-packages/IPython/core/interactiveshell.py\", line 3334, in run_cell_async\n  File \"/home/adrien/PycharmProjects/.virtualenvs/jax-workshop/lib/python3.12/site-packages/IPython/core/interactiveshell.py\", line 3517, in run_ast_nodes\n  File \"/home/adrien/PycharmProjects/.virtualenvs/jax-workshop/lib/python3.12/site-packages/IPython/core/interactiveshell.py\", line 3577, in run_code\n  File \"/tmp/ipykernel_178186/3832731969.py\", line 1, in <module>\n  File \"/home/adrien/PycharmProjects/.virtualenvs/jax-workshop/lib/python3.12/site-packages/jax/_src/traceback_util.py\", line 180, in reraise_with_filtered_traceback\n  File \"/home/adrien/PycharmProjects/.virtualenvs/jax-workshop/lib/python3.12/site-packages/jax/_src/pjit.py\", line 338, in cache_miss\n  File \"/home/adrien/PycharmProjects/.virtualenvs/jax-workshop/lib/python3.12/site-packages/jax/_src/pjit.py\", line 188, in _python_pjit_helper\n  File \"/home/adrien/PycharmProjects/.virtualenvs/jax-workshop/lib/python3.12/site-packages/jax/_src/core.py\", line 2803, in bind\n  File \"/home/adrien/PycharmProjects/.virtualenvs/jax-workshop/lib/python3.12/site-packages/jax/_src/core.py\", line 442, in bind_with_trace\n  File \"/home/adrien/PycharmProjects/.virtualenvs/jax-workshop/lib/python3.12/site-packages/jax/_src/core.py\", line 955, in process_primitive\n  File \"/home/adrien/PycharmProjects/.virtualenvs/jax-workshop/lib/python3.12/site-packages/jax/_src/pjit.py\", line 1738, in _pjit_call_impl\n  File \"/home/adrien/PycharmProjects/.virtualenvs/jax-workshop/lib/python3.12/site-packages/jax/_src/pjit.py\", line 1714, in call_impl_cache_miss\n  File \"/home/adrien/PycharmProjects/.virtualenvs/jax-workshop/lib/python3.12/site-packages/jax/_src/pjit.py\", line 1668, in _pjit_call_impl_python\n  File \"/home/adrien/PycharmProjects/.virtualenvs/jax-workshop/lib/python3.12/site-packages/jax/_src/profiler.py\", line 333, in wrapper\n  File \"/home/adrien/PycharmProjects/.virtualenvs/jax-workshop/lib/python3.12/site-packages/jax/_src/interpreters/pxla.py\", line 1278, in __call__\n  File \"/home/adrien/PycharmProjects/.virtualenvs/jax-workshop/lib/python3.12/site-packages/jax/_src/interpreters/mlir.py\", line 2768, in _wrapped_callback\n  File \"/home/adrien/PycharmProjects/.virtualenvs/jax-workshop/lib/python3.12/site-packages/jax/_src/callback.py\", line 269, in _callback\n  File \"/home/adrien/PycharmProjects/.virtualenvs/jax-workshop/lib/python3.12/site-packages/jax/_src/callback.py\", line 97, in pure_callback_impl\n  File \"/home/adrien/PycharmProjects/.virtualenvs/jax-workshop/lib/python3.12/site-packages/jax/_src/callback.py\", line 71, in __call__\n  File \"/home/adrien/PycharmProjects/.virtualenvs/jax-workshop/lib/python3.12/site-packages/numba/core/dispatcher.py\", line 444, in _compile_for_args\n  File \"/home/adrien/PycharmProjects/.virtualenvs/jax-workshop/lib/python3.12/site-packages/numba/core/dispatcher.py\", line 906, in compile\n  File \"/home/adrien/PycharmProjects/.virtualenvs/jax-workshop/lib/python3.12/site-packages/numba/core/dispatcher.py\", line 80, in compile\n  File \"/home/adrien/PycharmProjects/.virtualenvs/jax-workshop/lib/python3.12/site-packages/numba/core/dispatcher.py\", line 95, in _compile_cached\n  File \"/home/adrien/PycharmProjects/.virtualenvs/jax-workshop/lib/python3.12/site-packages/numba/core/dispatcher.py\", line 107, in _compile_core\n  File \"/home/adrien/PycharmProjects/.virtualenvs/jax-workshop/lib/python3.12/site-packages/numba/core/compiler.py\", line 744, in compile_extra\n  File \"/home/adrien/PycharmProjects/.virtualenvs/jax-workshop/lib/python3.12/site-packages/numba/core/compiler.py\", line 438, in compile_extra\n  File \"/home/adrien/PycharmProjects/.virtualenvs/jax-workshop/lib/python3.12/site-packages/numba/core/compiler.py\", line 506, in _compile_bytecode\n  File \"/home/adrien/PycharmProjects/.virtualenvs/jax-workshop/lib/python3.12/site-packages/numba/core/compiler.py\", line 481, in _compile_core\n  File \"/home/adrien/PycharmProjects/.virtualenvs/jax-workshop/lib/python3.12/site-packages/numba/core/compiler_machinery.py\", line 364, in run\n  File \"/home/adrien/PycharmProjects/.virtualenvs/jax-workshop/lib/python3.12/site-packages/numba/core/compiler_lock.py\", line 35, in _acquire_compile_lock\n  File \"/home/adrien/PycharmProjects/.virtualenvs/jax-workshop/lib/python3.12/site-packages/numba/core/compiler_machinery.py\", line 311, in _runPass\n  File \"/home/adrien/PycharmProjects/.virtualenvs/jax-workshop/lib/python3.12/site-packages/numba/core/compiler_machinery.py\", line 273, in check\n  File \"/home/adrien/PycharmProjects/.virtualenvs/jax-workshop/lib/python3.12/site-packages/numba/core/typed_passes.py\", line 112, in run_pass\n  File \"/home/adrien/PycharmProjects/.virtualenvs/jax-workshop/lib/python3.12/site-packages/numba/core/typed_passes.py\", line 93, in type_inference_stage\n  File \"/home/adrien/PycharmProjects/.virtualenvs/jax-workshop/lib/python3.12/site-packages/numba/core/typeinfer.py\", line 1083, in propagate\n  File \"/home/adrien/PycharmProjects/.virtualenvs/jax-workshop/lib/python3.12/site-packages/numba/core/typeinfer.py\", line 182, in propagate\n  File \"/home/adrien/PycharmProjects/.virtualenvs/jax-workshop/lib/python3.12/site-packages/numba/core/typeinfer.py\", line 583, in __call__\n  File \"/home/adrien/PycharmProjects/.virtualenvs/jax-workshop/lib/python3.12/site-packages/numba/core/typeinfer.py\", line 607, in resolve\n  File \"/home/adrien/PycharmProjects/.virtualenvs/jax-workshop/lib/python3.12/site-packages/numba/core/typeinfer.py\", line 1577, in resolve_call\n  File \"/home/adrien/PycharmProjects/.virtualenvs/jax-workshop/lib/python3.12/site-packages/numba/core/typing/context.py\", line 197, in resolve_function_type\n  File \"/home/adrien/PycharmProjects/.virtualenvs/jax-workshop/lib/python3.12/site-packages/numba/core/typing/context.py\", line 248, in _resolve_user_function_type\n  File \"/home/adrien/PycharmProjects/.virtualenvs/jax-workshop/lib/python3.12/site-packages/numba/core/types/functions.py\", line 312, in get_call_type\n  File \"/home/adrien/PycharmProjects/.virtualenvs/jax-workshop/lib/python3.12/site-packages/numba/core/typing/templates.py\", line 350, in apply\n  File \"/home/adrien/PycharmProjects/.virtualenvs/jax-workshop/lib/python3.12/site-packages/numba/core/typing/templates.py\", line 613, in generic\n  File \"/home/adrien/PycharmProjects/.virtualenvs/jax-workshop/lib/python3.12/site-packages/numba/core/typing/templates.py\", line 712, in _get_impl\n  File \"/home/adrien/PycharmProjects/.virtualenvs/jax-workshop/lib/python3.12/site-packages/numba/core/typing/templates.py\", line 785, in _build_impl\n  File \"/home/adrien/PycharmProjects/.virtualenvs/jax-workshop/lib/python3.12/site-packages/numba/np/arrayobj.py\", line 4924, in impl_numpy_copy\nUnboundLocalError: cannot access local variable 'numpy_copy' where it is not associated with a value"
     ]
    }
   ],
   "execution_count": 50
  },
  {
   "metadata": {},
   "cell_type": "markdown",
   "source": "This does not work: this is because arr is passed in as a JAX array, with which numba is not compatible., and we therefore need to convert it to a numpy array first.",
   "id": "e6d0cbe50c6557e4"
  },
  {
   "metadata": {
    "ExecuteTime": {
     "end_time": "2024-11-27T18:18:53.837936Z",
     "start_time": "2024-11-27T18:18:48.407876Z"
    }
   },
   "cell_type": "code",
   "source": [
    "@jax.jit\n",
    "def wrapped_bubble_sort(arr):\n",
    "    # This uses pure callback\n",
    "    def callback(arr):\n",
    "        np_arr = np.array(arr)\n",
    "        return nb_bubble_sort(np_arr)\n",
    "\n",
    "    return jax.pure_callback(callback, arr, arr)\n",
    "\n",
    "\n",
    "%timeit wrapped_bubble_sort(arr_test).block_until_ready()"
   ],
   "id": "216aad047001ce96",
   "outputs": [
    {
     "name": "stdout",
     "output_type": "stream",
     "text": [
      "665 μs ± 1.66 μs per loop (mean ± std. dev. of 7 runs, 1,000 loops each)\n"
     ]
    }
   ],
   "execution_count": 54
  },
  {
   "metadata": {},
   "cell_type": "markdown",
   "source": [
    "and so we get the expected performance.\n",
    "What's the point you may ask? The point is that you can now compose `numba` functions with JAX functions, and this can be very useful when you have a function that is not supported by JAX but that you want to use inside a JAX function. This includes seamlessly vectorizing functions."
   ],
   "id": "6f409fb3b099ebb6"
  },
  {
   "metadata": {
    "ExecuteTime": {
     "end_time": "2024-11-27T18:21:07.652481Z",
     "start_time": "2024-11-27T18:21:07.640985Z"
    }
   },
   "cell_type": "code",
   "source": "jax.vmap(wrapped_bubble_sort)(jnp.array([arr_test, arr_test]))",
   "id": "fbce9091c55e304",
   "outputs": [
    {
     "data": {
      "text/plain": [
       "Array([[-3.84594  , -3.0768633, -2.9661233, ...,  2.7572317,  3.0126548,\n",
       "         3.125715 ],\n",
       "       [-3.84594  , -3.0768633, -2.9661233, ...,  2.7572317,  3.0126548,\n",
       "         3.125715 ]], dtype=float32)"
      ]
     },
     "execution_count": 56,
     "metadata": {},
     "output_type": "execute_result"
    }
   ],
   "execution_count": 56
  },
  {
   "metadata": {},
   "cell_type": "markdown",
   "source": [
    "### Questions:\n",
    "#### Q1: \n",
    "As it is implemented, `pure_callback` uses a naive vectorization strategy. Look up its documentation and implement the two other strategies for `vmap_method`.\n",
    "\n",
    "#### Q2:\n",
    "Try calling the jacobian of `wrapped_bubble_sort` and see what happens. Compare with the jacobian of `bubble_sort`, and the jacobian of `jnp.sort`.\n",
    "Implement a numba wrapped version of bubble sorting, but with custom gradients.  "
   ],
   "id": "5fb59cccaf477637"
  },
  {
   "metadata": {},
   "cell_type": "markdown",
   "source": [
    "# Branching between CPU and GPU\n",
    "Sometimes, you may have an algorithm that is very fast on GPU but slow on CPU or vice versa, in which case, you may want to branch the behaviour depending on the device.\n",
    "For instance, `searchsorted` function looks up `vals` in `arr` and returns the indices at which `vals` should be inserted to maintain order. \n",
    "It has several implementations, which are available as a `method` argument."
   ],
   "id": "c1b297563faeb0e1"
  },
  {
   "metadata": {
    "ExecuteTime": {
     "end_time": "2024-11-27T18:36:37.529482Z",
     "start_time": "2024-11-27T18:36:15.514874Z"
    }
   },
   "cell_type": "code",
   "source": [
    "arr = np.sort(np.random.randn(100))\n",
    "vals = np.random.randn(50)\n",
    "\n",
    "%timeit jnp.searchsorted(arr, vals, method='scan')  # standard loop over arr\n",
    "%timeit jnp.searchsorted(arr, vals, method='scan_unrolled')  # parallel loop over arr\n",
    "%timeit jnp.searchsorted(arr, vals, method='sort')  # join arr and vals and find the argsort that would sort the result\n",
    "%timeit jnp.searchsorted(arr, vals, method='compare_all')  # does what it says on the tin"
   ],
   "id": "39cac6c2084dc356",
   "outputs": [
    {
     "name": "stdout",
     "output_type": "stream",
     "text": [
      "11.3 μs ± 375 ns per loop (mean ± std. dev. of 7 runs, 100,000 loops each)\n",
      "10.1 μs ± 378 ns per loop (mean ± std. dev. of 7 runs, 100,000 loops each)\n",
      "30.1 μs ± 1.7 μs per loop (mean ± std. dev. of 7 runs, 10,000 loops each)\n",
      "26.7 μs ± 1.13 μs per loop (mean ± std. dev. of 7 runs, 10,000 loops each)\n"
     ]
    }
   ],
   "execution_count": 60
  },
  {
   "metadata": {},
   "cell_type": "markdown",
   "source": [
    "Typically you would like to use `scan` on CPU and `sort` on GPU, but JAX does not do it for you automatically.\n",
    "Thankfully, you can do this via `jax.lax.platform_dependent`:"
   ],
   "id": "ab4856f52cf07592"
  },
  {
   "metadata": {
    "ExecuteTime": {
     "end_time": "2024-11-27T18:38:54.588934Z",
     "start_time": "2024-11-27T18:38:54.584570Z"
    }
   },
   "cell_type": "code",
   "source": [
    "def searchsorted(arr, vals):\n",
    "    return jax.lax.platform_dependent(\n",
    "        arr,\n",
    "        vals,\n",
    "        default=lambda x, y: jnp.searchsorted(\n",
    "            x, y, method=\"scan_unrolled\"\n",
    "        ),  # fallback implementation\n",
    "        cpu=lambda x, y: jnp.searchsorted(x, y, method=\"scan\"),  # CPU implementation\n",
    "        cuda=lambda x, y: jnp.searchsorted(x, y, method=\"sort\"),\n",
    "    )  # GPU implementation"
   ],
   "id": "49c6218e25ea9db7",
   "outputs": [],
   "execution_count": 64
  },
  {
   "metadata": {},
   "cell_type": "markdown",
   "source": [
    "### Questions:\n",
    "#### Q1:\n",
    "When the `value` array is sorted too, the `searchsorted` function can be implemented in O(n) time as\n",
    "```python\n",
    "def searchsorted(arr, vals):\n",
    "    j = 0\n",
    "    m = arr.shape[0]\n",
    "    n = vals.shape[0]\n",
    "    idx = np.empty(n, dtype=np.int_)\n",
    "    for i in range(n):\n",
    "        while (vals[i] > arr[np.minimum(j, m-1)]) and (j < m):\n",
    "            j += 1    \n",
    "        idx[i] = j\n",
    "    return idx\n",
    "```"
   ],
   "id": "f5ece85b16853c87"
  },
  {
   "metadata": {},
   "cell_type": "markdown",
   "source": [
    "Implement this function using numba, pure JAX, and compare the performance with the JAX implementation.\n",
    "Then branch between this and the JAX implementation using sorting. Compare the  performance on CPU and GPU depending on the size of the arrays."
   ],
   "id": "85d6c8e2f313b121"
  }
 ],
 "metadata": {
  "kernelspec": {
   "display_name": "Python 3",
   "language": "python",
   "name": "python3"
  },
  "language_info": {
   "codemirror_mode": {
    "name": "ipython",
    "version": 2
   },
   "file_extension": ".py",
   "mimetype": "text/x-python",
   "name": "python",
   "nbconvert_exporter": "python",
   "pygments_lexer": "ipython2",
   "version": "2.7.6"
  }
 },
 "nbformat": 4,
 "nbformat_minor": 5
}
