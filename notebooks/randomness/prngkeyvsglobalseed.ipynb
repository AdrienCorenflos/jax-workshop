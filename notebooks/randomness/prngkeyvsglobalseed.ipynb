{
 "cells": [
  {
   "cell_type": "markdown",
   "metadata": {},
   "source": [
    "# PRNGKEY vs GLOBAL seeding"
   ]
  },
  {
   "cell_type": "markdown",
   "metadata": {},
   "source": [
    "We will be following this very neat [explanation](https://github.com/google/jax/blob/master/design_notes/prng.md)."
   ]
  },
  {
   "cell_type": "markdown",
   "metadata": {},
   "source": [
    "## JAX imports"
   ]
  },
  {
   "cell_type": "markdown",
   "metadata": {},
   "source": [
    "## Beginner\n",
    "### Prerequisites\n",
    "- NumPy"
   ]
  },
  {
   "cell_type": "markdown",
   "metadata": {},
   "source": [
    "### Imports"
   ]
  },
  {
   "cell_type": "code",
   "metadata": {
    "ExecuteTime": {
     "end_time": "2024-11-27T19:03:49.565796Z",
     "start_time": "2024-11-27T19:03:49.563064Z"
    }
   },
   "source": [
    "import numpy as np\n",
    "from scipy.stats import norm as sp_norm\n",
    "from jax.random import normal, uniform, key, split"
   ],
   "outputs": [],
   "execution_count": 14
  },
  {
   "metadata": {},
   "cell_type": "markdown",
   "source": "JAX uses a functional approach to randomness. It uses a `key` to generate random numbers, which is then split to generate more keys. This is done to ensure reproducibility over multiple runs/parallel runs."
  },
  {
   "metadata": {
    "ExecuteTime": {
     "end_time": "2024-11-27T18:57:58.015365Z",
     "start_time": "2024-11-27T18:57:58.012751Z"
    }
   },
   "cell_type": "code",
   "source": [
    "jax_key = key(0)\n",
    "print(jax_key)"
   ],
   "outputs": [
    {
     "name": "stdout",
     "output_type": "stream",
     "text": [
      "Array((), dtype=key<fry>) overlaying:\n",
      "[0 0]\n"
     ]
    }
   ],
   "execution_count": 4
  },
  {
   "metadata": {},
   "cell_type": "markdown",
   "source": [
    "By default JAX keys are 2-tuple of 32-bit integers, according to the threefry algorithm.\n",
    "This can be overriden to use other algorithms if needed (do not do this unless you know what you are doing)."
   ]
  },
  {
   "metadata": {
    "ExecuteTime": {
     "end_time": "2024-11-27T19:01:17.582064Z",
     "start_time": "2024-11-27T19:01:17.548151Z"
    }
   },
   "cell_type": "code",
   "source": [
    "jax_key = key(0, impl=\"rbg\")\n",
    "print(jax_key)"
   ],
   "outputs": [
    {
     "name": "stdout",
     "output_type": "stream",
     "text": [
      "Array((), dtype=key<rbg>) overlaying:\n",
      "[0 0 0 0]\n"
     ]
    }
   ],
   "execution_count": 7
  },
  {
   "metadata": {},
   "cell_type": "markdown",
   "source": "This can then be used to generate random numbers via an interface similar to the new NumPy/SciPy API"
  },
  {
   "metadata": {
    "ExecuteTime": {
     "end_time": "2024-11-27T19:08:34.925634Z",
     "start_time": "2024-11-27T19:08:34.872878Z"
    }
   },
   "cell_type": "code",
   "source": [
    "jax_key = key(0)\n",
    "print(normal(jax_key))"
   ],
   "outputs": [
    {
     "name": "stdout",
     "output_type": "stream",
     "text": [
      "-0.20584226\n"
     ]
    }
   ],
   "execution_count": 22
  },
  {
   "metadata": {
    "ExecuteTime": {
     "end_time": "2024-11-27T19:08:35.666498Z",
     "start_time": "2024-11-27T19:08:35.662886Z"
    }
   },
   "cell_type": "code",
   "source": [
    "np_gen = np.random.Generator(np.random.PCG64(0))\n",
    "sp_norm.rvs(random_state=np_gen)"
   ],
   "outputs": [
    {
     "data": {
      "text/plain": [
       "np.float64(0.1257302210933933)"
      ]
     },
     "execution_count": 23,
     "metadata": {},
     "output_type": "execute_result"
    }
   ],
   "execution_count": 23
  },
  {
   "metadata": {},
   "cell_type": "markdown",
   "source": "However, contrary to NumPy, the JAX key will not automatically update and calling the function again will return the same value."
  },
  {
   "metadata": {
    "ExecuteTime": {
     "end_time": "2024-11-27T19:08:36.343197Z",
     "start_time": "2024-11-27T19:08:36.333315Z"
    }
   },
   "cell_type": "code",
   "source": [
    "print(sp_norm.rvs(random_state=np_gen))\n",
    "print(sp_norm.rvs(random_state=np_gen))  # the values change\n",
    "\n",
    "print(normal(jax_key))\n",
    "print(normal(jax_key))  # the values remain the same"
   ],
   "outputs": [
    {
     "name": "stdout",
     "output_type": "stream",
     "text": [
      "-0.1321048632913019\n",
      "0.6404226504432821\n",
      "-0.20584226\n",
      "-0.20584226\n"
     ]
    }
   ],
   "execution_count": 24
  },
  {
   "metadata": {},
   "cell_type": "markdown",
   "source": "To generate new keys, we can use the `split` function"
  },
  {
   "metadata": {
    "ExecuteTime": {
     "end_time": "2024-11-27T19:08:37.878370Z",
     "start_time": "2024-11-27T19:08:37.800050Z"
    }
   },
   "cell_type": "code",
   "source": [
    "jax_key, subkey = split(jax_key)\n",
    "print(normal(subkey))"
   ],
   "outputs": [
    {
     "name": "stdout",
     "output_type": "stream",
     "text": [
      "-1.2515389\n"
     ]
    }
   ],
   "execution_count": 25
  },
  {
   "metadata": {},
   "cell_type": "markdown",
   "source": "The `split` function also takes an optional argument `n` to generate `n` keys, which is useful for parallelisation or when running a loop."
  },
  {
   "metadata": {
    "ExecuteTime": {
     "end_time": "2024-11-27T19:08:38.854959Z",
     "start_time": "2024-11-27T19:08:38.781360Z"
    }
   },
   "cell_type": "code",
   "source": "many_keys = split(jax_key, 42)",
   "outputs": [],
   "execution_count": 26
  },
  {
   "cell_type": "markdown",
   "metadata": {},
   "source": [
    "### Questions:"
   ]
  },
  {
   "cell_type": "markdown",
   "metadata": {},
   "source": [
    "#### Q1: \n",
    "Write a sampler for the exponential distribution: $p_ \\lambda(x) = \\lambda\\exp(-\\lambda x)$"
   ]
  },
  {
   "cell_type": "markdown",
   "metadata": {},
   "source": [
    "#### Q2:\n",
    "Implement the following Monte-Carlo integrator:\n",
    "\n",
    "```python\n",
    "def mc_integrator(fun, sampler, N, key):\n",
    "    # fun: callable(x)\n",
    "    # sampler: callable(key, N)\n",
    "    # N int\n",
    "    ...\n",
    "```\n",
    "    "
   ]
  },
  {
   "cell_type": "markdown",
   "metadata": {},
   "source": [
    "## Intermediate\n",
    "### Prerequisites\n",
    "- Beginner randomness\n",
    "- Beginner loops\n",
    "- Beginner if-else"
   ]
  },
  {
   "cell_type": "markdown",
   "metadata": {},
   "source": [
    "### Imports"
   ]
  },
  {
   "cell_type": "code",
   "metadata": {
    "ExecuteTime": {
     "end_time": "2024-11-27T18:56:23.532291Z",
     "start_time": "2024-11-27T18:56:23.506574Z"
    }
   },
   "source": [
    "from jax.lax import scan, while_loop\n",
    "import jax.numpy as jnp\n",
    "from jax.random import normal\n",
    "from jax.scipy.stats.norm import pdf"
   ],
   "outputs": [],
   "execution_count": 2
  },
  {
   "cell_type": "markdown",
   "metadata": {},
   "source": [
    "### Questions:"
   ]
  },
  {
   "cell_type": "markdown",
   "metadata": {},
   "source": [
    "#### Q1: \n",
    "Implement Von Neumann's acceptance-rejection method:"
   ]
  },
  {
   "cell_type": "code",
   "execution_count": 40,
   "metadata": {},
   "outputs": [],
   "source": [
    "def acceptance_rejection(target_lik, proposal_lik, proposal_sampler, c, N):\n",
    "    res = []\n",
    "    while len(res) < N:\n",
    "        y = proposal_sampler()\n",
    "        u = np.random.rand()\n",
    "        lik_ratio = target_lik(y) / (c * proposal_lik(y))\n",
    "        if u > lik_ratio:\n",
    "            continue\n",
    "        else:\n",
    "            res.append(y)\n",
    "    return np.stack(res)"
   ]
  },
  {
   "cell_type": "markdown",
   "metadata": {},
   "source": [
    "And test it on the uniform disk sampling:"
   ]
  },
  {
   "cell_type": "code",
   "execution_count": 41,
   "metadata": {},
   "outputs": [],
   "source": [
    "def target_lik(y):\n",
    "    if y[0] ** 2 + y[1] ** 2 < 1:\n",
    "        return 1 / np.pi**2\n",
    "    return 0"
   ]
  },
  {
   "cell_type": "code",
   "execution_count": 42,
   "metadata": {},
   "outputs": [],
   "source": [
    "def proposal_lik(y):\n",
    "    return np.exp(-(y[0] ** 2 + y[1] ** 2) / 2) / np.sqrt(2 * np.pi)\n",
    "\n",
    "\n",
    "c = np.sqrt(2 * np.pi) * np.exp(0.5) * np.pi**2"
   ]
  },
  {
   "cell_type": "markdown",
   "metadata": {},
   "source": [
    "#### Q2:\n",
    "Implements your own parallel version of `associative_scan` using jax primitives."
   ]
  },
  {
   "cell_type": "markdown",
   "metadata": {},
   "source": [
    "## Advanced\n",
    "### Prerequisites\n",
    "- Intermediate randomness\n",
    "- Beginner vectorisation"
   ]
  },
  {
   "cell_type": "markdown",
   "metadata": {},
   "source": [
    "### Questions:"
   ]
  },
  {
   "cell_type": "markdown",
   "metadata": {},
   "source": [
    "#### Q1: \n",
    "Noting that in the Von Neumann's acceptance-rejection method, $\\mathbb{P}\\left(u<\\frac{f(y)}{cg(y)}\\right) = \\frac{1}{c}$, make it more efficient in average."
   ]
  },
  {
   "cell_type": "markdown",
   "metadata": {},
   "source": [
    "#### Q2: \n",
    "Implement Metropolis-Hastings algorithm using JAX primitives (specifically try to use `scan`)"
   ]
  },
  {
   "cell_type": "code",
   "execution_count": null,
   "metadata": {},
   "outputs": [],
   "source": [
    "def mh(f, n=1000):\n",
    "    arr = np.empty((n, 2))\n",
    "    x, y = np.random.uniform(-1, 1, 2)\n",
    "    p = f(x, y)\n",
    "    for i in range(n):\n",
    "        eps_x, eps_y = np.random.uniform(-1, 1, 2)\n",
    "        xi, yi = x + eps_x, y + eps_y\n",
    "        pi = f(xi, yi)\n",
    "        if np.random.rand() <= pi / p:\n",
    "            x, y = xi, yi\n",
    "            p = pi\n",
    "        arr[i] = x, y\n",
    "    return arr"
   ]
  }
 ],
 "metadata": {
  "kernelspec": {
   "display_name": "Python 3 (ipykernel)",
   "language": "python",
   "name": "python3"
  },
  "language_info": {
   "codemirror_mode": {
    "name": "ipython",
    "version": 3
   },
   "file_extension": ".py",
   "mimetype": "text/x-python",
   "name": "python",
   "nbconvert_exporter": "python",
   "pygments_lexer": "ipython3",
   "version": "3.7.6"
  }
 },
 "nbformat": 4,
 "nbformat_minor": 4
}
