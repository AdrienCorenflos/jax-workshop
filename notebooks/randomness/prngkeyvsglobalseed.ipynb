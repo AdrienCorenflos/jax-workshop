{
 "cells": [
  {
   "cell_type": "markdown",
   "metadata": {},
   "source": [
    "# PRNGKEY vs GLOBAL seeding"
   ]
  },
  {
   "cell_type": "markdown",
   "metadata": {},
   "source": [
    "We will be following this very neat [explanation](https://github.com/google/jax/blob/master/design_notes/prng.md)."
   ]
  },
  {
   "cell_type": "markdown",
   "metadata": {},
   "source": [
    "## JAX imports"
   ]
  },
  {
   "cell_type": "markdown",
   "metadata": {},
   "source": [
    "## Beginner\n",
    "### Prerequisites\n",
    "- NumPy"
   ]
  },
  {
   "cell_type": "markdown",
   "metadata": {},
   "source": [
    "### Imports"
   ]
  },
  {
   "cell_type": "code",
   "execution_count": 17,
   "metadata": {},
   "outputs": [],
   "source": [
    "import numpy as np\n",
    "from jax.random import normal, uniform, PRNGKey, split"
   ]
  },
  {
   "cell_type": "markdown",
   "metadata": {},
   "source": [
    "### Questions:"
   ]
  },
  {
   "cell_type": "markdown",
   "metadata": {},
   "source": [
    "#### Q1: \n",
    "Write a sampler for the exponential distribution: $p_ \\lambda(x) = \\lambda\\exp(-\\lambda x)$"
   ]
  },
  {
   "cell_type": "markdown",
   "metadata": {},
   "source": [
    "#### Q2:\n",
    "Implement the following Monte-Carlo integrator:\n",
    "\n",
    "```python\n",
    "def mc_integrator(fun, sampler, N, key):\n",
    "    # fun: callable(x)\n",
    "    # sampler: callable(key, N)\n",
    "    # N int\n",
    "    ...\n",
    "```\n",
    "    "
   ]
  },
  {
   "cell_type": "markdown",
   "metadata": {},
   "source": [
    "## Intermediate\n",
    "### Prerequisites\n",
    "- Beginner randomness\n",
    "- Beginner loops\n",
    "- Beginner if-else"
   ]
  },
  {
   "cell_type": "markdown",
   "metadata": {},
   "source": [
    "### Imports"
   ]
  },
  {
   "cell_type": "code",
   "execution_count": 18,
   "metadata": {},
   "outputs": [],
   "source": [
    "from jax.lax import scan, while_loop\n",
    "import jax.numpy as jnp\n",
    "from jax.random import normal\n",
    "from jax.scipy.stats.norm import pdf"
   ]
  },
  {
   "cell_type": "markdown",
   "metadata": {},
   "source": [
    "### Questions:"
   ]
  },
  {
   "cell_type": "markdown",
   "metadata": {},
   "source": [
    "#### Q1: \n",
    "Implement Von Neumann's acceptance-rejection method:"
   ]
  },
  {
   "cell_type": "code",
   "execution_count": 40,
   "metadata": {},
   "outputs": [],
   "source": [
    "def acceptance_rejection(target_lik, proposal_lik, proposal_sampler, c, N):\n",
    "    res = []\n",
    "    while len(res) < N:\n",
    "        y = proposal_sampler()\n",
    "        u = np.random.rand()\n",
    "        lik_ratio = target_lik(y) / (c * proposal_lik(y))\n",
    "        if u > lik_ratio:\n",
    "            continue\n",
    "        else:\n",
    "            res.append(y)\n",
    "    return np.stack(res)"
   ]
  },
  {
   "cell_type": "markdown",
   "metadata": {},
   "source": [
    "And test it on the uniform disk sampling:"
   ]
  },
  {
   "cell_type": "code",
   "execution_count": 41,
   "metadata": {},
   "outputs": [],
   "source": [
    "def target_lik(y):\n",
    "    if y[0] ** 2 + y[1] ** 2 < 1:\n",
    "        return 1 / np.pi ** 2\n",
    "    return 0"
   ]
  },
  {
   "cell_type": "code",
   "execution_count": 42,
   "metadata": {},
   "outputs": [],
   "source": [
    "def proposal_lik(y):\n",
    "    return np.exp(-(y[0] ** 2 + y[1] ** 2) / 2) / np.sqrt(2 * np.pi)\n",
    "\n",
    "c = np.sqrt(2 * np.pi) * np.exp(0.5) * np.pi ** 2"
   ]
  },
  {
   "cell_type": "markdown",
   "metadata": {},
   "source": [
    "#### Q2:\n",
    "Implements your own parallel version of `associative_scan` using jax primitives."
   ]
  },
  {
   "cell_type": "markdown",
   "metadata": {},
   "source": [
    "## Advanced\n",
    "### Prerequisites\n",
    "- Intermediate randomness\n",
    "- Beginner vectorisation"
   ]
  },
  {
   "cell_type": "markdown",
   "metadata": {},
   "source": [
    "### Questions:"
   ]
  },
  {
   "cell_type": "markdown",
   "metadata": {},
   "source": [
    "#### Q1: \n",
    "Noting that in the Von Neumann's acceptance-rejection method, $\\mathbb{P}\\left(u<\\frac{f(y)}{cg(y)}\\right) = \\frac{1}{c}$, make it more efficient in average."
   ]
  },
  {
   "cell_type": "markdown",
   "metadata": {},
   "source": [
    "#### Q2: \n",
    "Implement Metropolis-Hastings algorithm using JAX primitives (specifically try to use `scan`)"
   ]
  },
  {
   "cell_type": "code",
   "execution_count": null,
   "metadata": {},
   "outputs": [],
   "source": [
    "def mh(f, n=1000):\n",
    "    arr = np.empty((n, 2))\n",
    "    x, y = np.random.uniform(-1, 1, 2)\n",
    "    p = f(x, y)\n",
    "    for i in range(n):\n",
    "        eps_x, eps_y = np.random.uniform(-1, 1, 2)\n",
    "        xi, yi = x + eps_x, y + eps_y\n",
    "        pi = f(xi, yi)\n",
    "        if np.random.rand() <= pi / p:\n",
    "            x, y = xi, yi\n",
    "            p = pi\n",
    "        arr[i] = x, y\n",
    "    return arr"
   ]
  }
 ],
 "metadata": {
  "kernelspec": {
   "display_name": "jax-workshop",
   "language": "python",
   "name": "jax-workshop"
  },
  "language_info": {
   "codemirror_mode": {
    "name": "ipython",
    "version": 3
   },
   "file_extension": ".py",
   "mimetype": "text/x-python",
   "name": "python",
   "nbconvert_exporter": "python",
   "pygments_lexer": "ipython3",
   "version": "3.7.6"
  }
 },
 "nbformat": 4,
 "nbformat_minor": 4
}
